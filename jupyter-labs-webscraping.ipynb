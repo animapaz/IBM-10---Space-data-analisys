{
 "cells": [
  {
   "cell_type": "markdown",
   "metadata": {},
   "source": [
    "<p style=\"text-align:center\">\n",
    "    <a href=\"https://skills.network\" target=\"_blank\">\n",
    "    <img src=\"https://cf-courses-data.s3.us.cloud-object-storage.appdomain.cloud/assets/logos/SN_web_lightmode.png\" width=\"200\" alt=\"Skills Network Logo\">\n",
    "    </a>\n",
    "</p>\n"
   ]
  },
  {
   "cell_type": "markdown",
   "metadata": {},
   "source": [
    "# **Space X  Falcon 9 First Stage Landing Prediction**\n"
   ]
  },
  {
   "cell_type": "markdown",
   "metadata": {},
   "source": [
    "## Web scraping Falcon 9 and Falcon Heavy Launches Records from Wikipedia\n"
   ]
  },
  {
   "cell_type": "markdown",
   "metadata": {},
   "source": [
    "Estimated time needed: **40** minutes\n"
   ]
  },
  {
   "cell_type": "markdown",
   "metadata": {},
   "source": [
    "In this lab, you will be performing web scraping to collect Falcon 9 historical launch records from a Wikipedia page titled `List of Falcon 9 and Falcon Heavy launches`\n",
    "\n",
    "https://en.wikipedia.org/wiki/List_of_Falcon_9_and_Falcon_Heavy_launches\n"
   ]
  },
  {
   "cell_type": "markdown",
   "metadata": {},
   "source": [
    "![](https://cf-courses-data.s3.us.cloud-object-storage.appdomain.cloud/IBM-DS0321EN-SkillsNetwork/labs/module_1_L2/images/Falcon9_rocket_family.svg)\n"
   ]
  },
  {
   "cell_type": "markdown",
   "metadata": {},
   "source": [
    "Falcon 9 first stage will land successfully\n"
   ]
  },
  {
   "cell_type": "markdown",
   "metadata": {},
   "source": [
    "![](https://cf-courses-data.s3.us.cloud-object-storage.appdomain.cloud/IBMDeveloperSkillsNetwork-DS0701EN-SkillsNetwork/api/Images/landing_1.gif)\n"
   ]
  },
  {
   "cell_type": "markdown",
   "metadata": {},
   "source": [
    "Several examples of an unsuccessful landing are shown here:\n"
   ]
  },
  {
   "cell_type": "markdown",
   "metadata": {},
   "source": [
    "![](https://cf-courses-data.s3.us.cloud-object-storage.appdomain.cloud/IBMDeveloperSkillsNetwork-DS0701EN-SkillsNetwork/api/Images/crash.gif)\n"
   ]
  },
  {
   "cell_type": "markdown",
   "metadata": {},
   "source": [
    "More specifically, the launch records are stored in a HTML table shown below:\n"
   ]
  },
  {
   "cell_type": "markdown",
   "metadata": {},
   "source": [
    "![](https://cf-courses-data.s3.us.cloud-object-storage.appdomain.cloud/IBM-DS0321EN-SkillsNetwork/labs/module_1_L2/images/falcon9-launches-wiki.png)\n"
   ]
  },
  {
   "cell_type": "markdown",
   "metadata": {},
   "source": [
    "  ## Objectives\n",
    "Web scrap Falcon 9 launch records with `BeautifulSoup`: \n",
    "- Extract a Falcon 9 launch records HTML table from Wikipedia\n",
    "- Parse the table and convert it into a Pandas data frame\n"
   ]
  },
  {
   "cell_type": "markdown",
   "metadata": {},
   "source": [
    "First let's import required packages for this lab\n"
   ]
  },
  {
   "cell_type": "code",
   "execution_count": 1,
   "metadata": {
    "tags": []
   },
   "outputs": [
    {
     "name": "stdout",
     "output_type": "stream",
     "text": [
      "Requirement already satisfied: beautifulsoup4 in /home/jupyterlab/conda/envs/python/lib/python3.7/site-packages (4.11.1)\n",
      "Requirement already satisfied: soupsieve>1.2 in /home/jupyterlab/conda/envs/python/lib/python3.7/site-packages (from beautifulsoup4) (2.3.2.post1)\n",
      "Requirement already satisfied: requests in /home/jupyterlab/conda/envs/python/lib/python3.7/site-packages (2.29.0)\n",
      "Requirement already satisfied: charset-normalizer<4,>=2 in /home/jupyterlab/conda/envs/python/lib/python3.7/site-packages (from requests) (3.1.0)\n",
      "Requirement already satisfied: idna<4,>=2.5 in /home/jupyterlab/conda/envs/python/lib/python3.7/site-packages (from requests) (3.4)\n",
      "Requirement already satisfied: urllib3<1.27,>=1.21.1 in /home/jupyterlab/conda/envs/python/lib/python3.7/site-packages (from requests) (1.26.15)\n",
      "Requirement already satisfied: certifi>=2017.4.17 in /home/jupyterlab/conda/envs/python/lib/python3.7/site-packages (from requests) (2023.5.7)\n"
     ]
    }
   ],
   "source": [
    "!pip3 install beautifulsoup4\n",
    "!pip3 install requests"
   ]
  },
  {
   "cell_type": "code",
   "execution_count": 2,
   "metadata": {
    "tags": []
   },
   "outputs": [],
   "source": [
    "import sys\n",
    "\n",
    "import requests\n",
    "from bs4 import BeautifulSoup\n",
    "import re\n",
    "import unicodedata\n",
    "import pandas as pd"
   ]
  },
  {
   "cell_type": "markdown",
   "metadata": {},
   "source": [
    "and we will provide some helper functions for you to process web scraped HTML table\n"
   ]
  },
  {
   "cell_type": "code",
   "execution_count": 3,
   "metadata": {
    "tags": []
   },
   "outputs": [],
   "source": [
    "def date_time(table_cells):\n",
    "    \"\"\"\n",
    "    This function returns the data and time from the HTML  table cell\n",
    "    Input: the  element of a table data cell extracts extra row\n",
    "    \"\"\"\n",
    "    return [data_time.strip() for data_time in list(table_cells.strings)][0:2]\n",
    "\n",
    "def booster_version(table_cells):\n",
    "    \"\"\"\n",
    "    This function returns the booster version from the HTML  table cell \n",
    "    Input: the  element of a table data cell extracts extra row\n",
    "    \"\"\"\n",
    "    out=''.join([booster_version for i,booster_version in enumerate( table_cells.strings) if i%2==0][0:-1])\n",
    "    return out\n",
    "\n",
    "def landing_status(table_cells):\n",
    "    \"\"\"\n",
    "    This function returns the landing status from the HTML table cell \n",
    "    Input: the  element of a table data cell extracts extra row\n",
    "    \"\"\"\n",
    "    out=[i for i in table_cells.strings][0]\n",
    "    return out\n",
    "\n",
    "\n",
    "def get_mass(table_cells):\n",
    "    mass=unicodedata.normalize(\"NFKD\", table_cells.text).strip()\n",
    "    if mass:\n",
    "        mass.find(\"kg\")\n",
    "        new_mass=mass[0:mass.find(\"kg\")+2]\n",
    "    else:\n",
    "        new_mass=0\n",
    "    return new_mass\n",
    "\n",
    "\n",
    "def extract_column_from_header(row):\n",
    "    \"\"\"\n",
    "    This function returns the landing status from the HTML table cell \n",
    "    Input: the  element of a table data cell extracts extra row\n",
    "    \"\"\"\n",
    "    if (row.br):\n",
    "        row.br.extract()\n",
    "    if row.a:\n",
    "        row.a.extract()\n",
    "    if row.sup:\n",
    "        row.sup.extract()\n",
    "        \n",
    "    colunm_name = ' '.join(row.contents)\n",
    "    \n",
    "    # Filter the digit and empty names\n",
    "    if not(colunm_name.strip().isdigit()):\n",
    "        colunm_name = colunm_name.strip()\n",
    "        return colunm_name    \n"
   ]
  },
  {
   "cell_type": "markdown",
   "metadata": {},
   "source": [
    "To keep the lab tasks consistent, you will be asked to scrape the data from a snapshot of the  `List of Falcon 9 and Falcon Heavy launches` Wikipage updated on\n",
    "`9th June 2021`\n"
   ]
  },
  {
   "cell_type": "code",
   "execution_count": 4,
   "metadata": {
    "tags": []
   },
   "outputs": [],
   "source": [
    "static_url = \"https://en.wikipedia.org/w/index.php?title=List_of_Falcon_9_and_Falcon_Heavy_launches&oldid=1027686922\""
   ]
  },
  {
   "cell_type": "markdown",
   "metadata": {},
   "source": [
    "Next, request the HTML page from the above URL and get a `response` object\n"
   ]
  },
  {
   "cell_type": "markdown",
   "metadata": {},
   "source": [
    "### TASK 1: Request the Falcon9 Launch Wiki page from its URL\n"
   ]
  },
  {
   "cell_type": "markdown",
   "metadata": {},
   "source": [
    "First, let's perform an HTTP GET method to request the Falcon9 Launch HTML page, as an HTTP response.\n"
   ]
  },
  {
   "cell_type": "code",
   "execution_count": 5,
   "metadata": {
    "tags": []
   },
   "outputs": [],
   "source": [
    "# use requests.get() method with the provided static_url\n",
    "# assign the response to a object\n",
    "import requests\n",
    "from bs4 import BeautifulSoup\n",
    "static_url = \"https://en.wikipedia.org/w/index.php?title=List_of_Falcon_9_and_Falcon_Heavy_launches&oldid=1027686922\"\n",
    "response = requests.get(static_url)"
   ]
  },
  {
   "cell_type": "markdown",
   "metadata": {},
   "source": [
    "Create a `BeautifulSoup` object from the HTML `response`\n"
   ]
  },
  {
   "cell_type": "code",
   "execution_count": 6,
   "metadata": {
    "tags": []
   },
   "outputs": [
    {
     "name": "stdout",
     "output_type": "stream",
     "text": [
      "Request successful!\n"
     ]
    }
   ],
   "source": [
    "# Use BeautifulSoup() to create a BeautifulSoup object from a response text content\n",
    "if response.status_code == 200:\n",
    "    print(\"Request successful!\")\n",
    "else:\n",
    "    print(f\"Request failed with status code: {response.status_code}\")\n"
   ]
  },
  {
   "cell_type": "markdown",
   "metadata": {},
   "source": [
    "Print the page title to verify if the `BeautifulSoup` object was created properly \n"
   ]
  },
  {
   "cell_type": "code",
   "execution_count": 7,
   "metadata": {
    "tags": []
   },
   "outputs": [
    {
     "name": "stdout",
     "output_type": "stream",
     "text": [
      "Page title: List of Falcon 9 and Falcon Heavy launches - Wikipedia\n"
     ]
    }
   ],
   "source": [
    "# Use soup.title attribute\n",
    "soup = BeautifulSoup(response.text, 'html.parser')\n",
    "print(\"Page title:\", soup.title.string)"
   ]
  },
  {
   "cell_type": "markdown",
   "metadata": {},
   "source": [
    "### TASK 2: Extract all column/variable names from the HTML table header\n"
   ]
  },
  {
   "cell_type": "markdown",
   "metadata": {},
   "source": [
    "Next, we want to collect all relevant column names from the HTML table header\n"
   ]
  },
  {
   "cell_type": "markdown",
   "metadata": {},
   "source": [
    "Let's try to find all tables on the wiki page first. If you need to refresh your memory about `BeautifulSoup`, please check the external reference link towards the end of this lab\n"
   ]
  },
  {
   "cell_type": "code",
   "execution_count": 18,
   "metadata": {
    "tags": []
   },
   "outputs": [
    {
     "name": "stdout",
     "output_type": "stream",
     "text": [
      "Number of tables found: 16\n",
      "Extracted column names:\n",
      "['Date and time ( )', '', 'Launch site', 'Payload', 'Orbit', 'Customer']\n"
     ]
    }
   ],
   "source": [
    "# Use the find_all function in the BeautifulSoup object, with element type `table`\n",
    "# Assign the result to a list called `html_tables`\n",
    "# Import required libraries\n",
    "import requests\n",
    "from bs4 import BeautifulSoup\n",
    "\n",
    "# URL for Falcon 9 and Falcon Heavy launches page\n",
    "static_url = \"https://en.wikipedia.org/wiki/List_of_Falcon_9_and_Falcon_Heavy_launches\"\n",
    "\n",
    "# Request the page content\n",
    "response = requests.get(static_url)\n",
    "\n",
    "# Create a BeautifulSoup object from the response\n",
    "soup = BeautifulSoup(response.text, 'html.parser')\n",
    "\n",
    "# Find all tables on the page\n",
    "html_tables = soup.find_all('table')\n",
    "\n",
    "# Print number of tables found\n",
    "print(\"Number of tables found:\", len(html_tables))\n",
    "\n",
    "# Get the third table (index 2, because Python is zero-indexed)\n",
    "first_launch_table = html_tables[2]\n",
    "\n",
    "# Function to extract column names from the header\n",
    "def extract_column_from_header(row):\n",
    "    \"\"\"\n",
    "    This function processes table header (th) elements, removes unwanted parts like <br>, <a>, <sup>,\n",
    "    and extracts the column name as a cleaned-up string.\n",
    "    \"\"\"\n",
    "    if row.br:\n",
    "        row.br.extract()  # Remove <br> tags\n",
    "    if row.a:\n",
    "        row.a.extract()  # Remove <a> tags\n",
    "    if row.sup:\n",
    "        row.sup.extract()  # Remove <sup> tags\n",
    "\n",
    "    # Convert stripped_strings (generator) to list and join them to form the column name\n",
    "    column_name = ' '.join(list(row.stripped_strings))\n",
    "    return column_name\n",
    "\n",
    "# Find all <th> elements in the table header\n",
    "headers = first_launch_table.find_all('th')\n",
    "\n",
    "# Extract column names from each <th> element\n",
    "column_names = [extract_column_from_header(header) for header in headers if len(list(header.stripped_strings)) > 0]\n",
    "\n",
    "# Print the extracted column names\n",
    "print(\"Extracted column names:\")\n",
    "print(column_names)\n"
   ]
  },
  {
   "cell_type": "markdown",
   "metadata": {},
   "source": [
    "Starting from the third table is our target table contains the actual launch records.\n"
   ]
  },
  {
   "cell_type": "code",
   "execution_count": 19,
   "metadata": {
    "tags": []
   },
   "outputs": [
    {
     "name": "stdout",
     "output_type": "stream",
     "text": [
      "<table class=\"wikitable sticky-header\" style=\"width:100%;\">\n",
      "<tbody><tr>\n",
      "<th scope=\"col\">Date and time ()\n",
      "</th>\n",
      "<th scope=\"col\">\n",
      "</th>\n",
      "<th scope=\"col\">Launch site\n",
      "</th>\n",
      "<th scope=\"col\">Payload\n",
      "</th>\n",
      "<th scope=\"col\">Orbit\n",
      "</th>\n",
      "<th scope=\"col\">Customer\n",
      "</th></tr>\n",
      "<tr>\n",
      "<td rowspan=\"2\">12 December 2024<br/>19:33\n",
      "</td>\n",
      "<td><a href=\"/wiki/Falcon_9_Block_5\" title=\"Falcon 9 Block 5\">F9<span class=\"nowrap\"> </span>B5</a>\n",
      "</td>\n",
      "<td><a href=\"/wiki/Vandenberg_Space_Force_Base\" title=\"Vandenberg Space Force Base\">Vandenberg</a>, <a class=\"mw-redirect\" href=\"/wiki/SLC-4E\" title=\"SLC-4E\">SLC-4E</a>\n",
      "</td>\n",
      "<td><a href=\"/wiki/Starlink\" title=\"Starlink\">Starlink</a>: <a href=\"/wiki/List_of_Starlink_and_Starshield_launches#11-2\" title=\"List of Starlink and Starshield launches\">Group 11-2</a> (~23<span class=\"nowrap\"> </span>satellites)\n",
      "</td>\n",
      "<td><a href=\"/wiki/Low_Earth_orbit\" title=\"Low Earth orbit\">LEO</a>\n",
      "</td>\n",
      "<td><a href=\"/wiki/SpaceX\" title=\"SpaceX\">SpaceX</a>\n",
      "</td></tr>\n",
      "<tr>\n",
      "<td colspan=\"5\">Launch of ~23 Starlink v2<span class=\"nowrap\"> </span>mini satellites to a 535 km (332 mi) orbit at an inclination of 53° to expand internet constellation.\n",
      "</td></tr>\n",
      "<tr>\n",
      "<td rowspan=\"2\">13 December 2024<br/>23:30\n",
      "</td>\n",
      "<td><a href=\"/wiki/Falcon_9_Block_5\" title=\"Falcon 9 Block 5\">F9<span class=\"nowrap\"> </span>B5</a>\n",
      "</td>\n",
      "<td><a href=\"/wiki/Cape_Canaveral_Space_Force_Station\" title=\"Cape Canaveral Space Force Station\">Cape Canaveral</a>, <a href=\"/wiki/Cape_Canaveral_Space_Launch_Complex_40\" title=\"Cape Canaveral Space Launch Complex 40\">SLC‑40</a>\n",
      "</td>\n",
      "<td><a class=\"mw-redirect\" href=\"/wiki/GPS_III\" title=\"GPS III\">GPS III</a>-10<sup class=\"reference\" id=\"cite_ref-cnbc11123_445-0\"><a href=\"#cite_note-cnbc11123-445\"><span class=\"cite-bracket\">[</span>437<span class=\"cite-bracket\">]</span></a></sup><sup class=\"reference\" id=\"cite_ref-tst11123_446-0\"><a href=\"#cite_note-tst11123-446\"><span class=\"cite-bracket\">[</span>438<span class=\"cite-bracket\">]</span></a></sup>\n",
      "</td>\n",
      "<td><a href=\"/wiki/Medium_Earth_orbit\" title=\"Medium Earth orbit\">MEO</a>\n",
      "</td>\n",
      "<td><a class=\"mw-redirect\" href=\"/wiki/US_Space_Force\" title=\"US Space Force\">USSF</a>\n",
      "</td></tr>\n",
      "<tr>\n",
      "<td colspan=\"5\">Launch is part of Phase 2 US Air Force contract awarded in 2022.\n",
      "</td></tr>\n",
      "<tr>\n",
      "<td rowspan=\"2\">15 December 2024<br/>20:58\n",
      "</td>\n",
      "<td><a href=\"/wiki/Falcon_9_Block_5\" title=\"Falcon 9 Block 5\">F9<span class=\"nowrap\"> </span>B5</a>\n",
      "</td>\n",
      "<td><a href=\"/wiki/Kennedy_Space_Center\" title=\"Kennedy Space Center\">Kennedy</a>, <a href=\"/wiki/Kennedy_Space_Center_Launch_Complex_39A\" title=\"Kennedy Space Center Launch Complex 39A\">LC‑39A</a>\n",
      "</td>\n",
      "<td><a href=\"/wiki/O3b_mPOWER\" title=\"O3b mPOWER\">O3b mPOWER</a> 7 &amp; 8\n",
      "</td>\n",
      "<td><a href=\"/wiki/Medium_Earth_orbit\" title=\"Medium Earth orbit\">MEO</a>\n",
      "</td>\n",
      "<td><a class=\"mw-redirect\" href=\"/wiki/SES_S.A.\" title=\"SES S.A.\">SES</a>\n",
      "</td></tr>\n",
      "<tr>\n",
      "<td colspan=\"5\">In August 2020, SES expanded the O3b mPOWER contract with two additional launches, raising the number of satellites from 7 to 11 satellites at nearly 2 tons each.<sup class=\"reference\" id=\"cite_ref-447\"><a href=\"#cite_note-447\"><span class=\"cite-bracket\">[</span>439<span class=\"cite-bracket\">]</span></a></sup><sup class=\"reference\" id=\"cite_ref-businesswire.com_448-0\"><a href=\"#cite_note-businesswire.com-448\"><span class=\"cite-bracket\">[</span>440<span class=\"cite-bracket\">]</span></a></sup> In October 2023 the mission was delayed to the second half of 2024 due to electrical issues discovered in the first four satellites of the constellation.<sup class=\"reference\" id=\"cite_ref-O3b_Nov23_449-0\"><a href=\"#cite_note-O3b_Nov23-449\"><span class=\"cite-bracket\">[</span>441<span class=\"cite-bracket\">]</span></a></sup>\n",
      "</td></tr>\n",
      "<tr>\n",
      "<td rowspan=\"2\">16 December 2024<br/>09:33\n",
      "</td>\n",
      "<td><a href=\"/wiki/Falcon_9_Block_5\" title=\"Falcon 9 Block 5\">F9<span class=\"nowrap\"> </span>B5</a>\n",
      "</td>\n",
      "<td><a href=\"/wiki/Vandenberg_Space_Force_Base\" title=\"Vandenberg Space Force Base\">Vandenberg</a>, <a href=\"/wiki/Vandenberg_Space_Launch_Complex_4\" title=\"Vandenberg Space Launch Complex 4\">SLC‑4E</a>\n",
      "</td>\n",
      "<td>NROL-149 (~21 <a href=\"/wiki/SpaceX_Starshield\" title=\"SpaceX Starshield\">Starshield</a> satellites)\n",
      "</td>\n",
      "<td><a href=\"/wiki/Low_Earth_orbit\" title=\"Low Earth orbit\">LEO</a>\n",
      "</td>\n",
      "<td><a href=\"/wiki/National_Reconnaissance_Office\" title=\"National Reconnaissance Office\">NRO</a>\n",
      "</td></tr>\n",
      "<tr>\n",
      "<td colspan=\"5\">Sixth of up to six launches of SpaceX/Northrop Grumman-built Starshield satellites for the National Reconnaissance Office.\n",
      "</td></tr>\n",
      "<tr>\n",
      "<td rowspan=\"2\">17 December 2024<br/>03:37\n",
      "</td>\n",
      "<td><a href=\"/wiki/Falcon_9_Block_5\" title=\"Falcon 9 Block 5\">F9<span class=\"nowrap\"> </span>B5</a>\n",
      "</td>\n",
      "<td><a href=\"/wiki/Cape_Canaveral_Space_Force_Station\" title=\"Cape Canaveral Space Force Station\">Cape Canaveral</a>, <a href=\"/wiki/Cape_Canaveral_Space_Launch_Complex_40\" title=\"Cape Canaveral Space Launch Complex 40\">SLC‑40</a>\n",
      "</td>\n",
      "<td><a href=\"/wiki/Astranis\" title=\"Astranis\">Astranis</a> Block 2 Mission (4 satellites)\n",
      "</td>\n",
      "<td><a href=\"/wiki/Geostationary_orbit\" title=\"Geostationary orbit\">GEO</a>\n",
      "</td>\n",
      "<td><a href=\"/wiki/Astranis\" title=\"Astranis\">Astranis</a>\n",
      "</td></tr>\n",
      "<tr>\n",
      "<td colspan=\"5\">Dedicated Falcon 9 launch to put four Astranis MicroGEO communications satellites into service. The MicroGEOs will be launched to a custom geostationary orbit, with the four satellites individually conducting on-orbit maneuvers to inject themselves into their orbital slots. However, it is unclear whether this will be a direct to <a href=\"/wiki/Geostationary_orbit\" title=\"Geostationary orbit\">geostationary orbit</a> insertion, or an optimized <a href=\"/wiki/Geostationary_transfer_orbit\" title=\"Geostationary transfer orbit\">geostationary transfer orbit</a>. The four spacecraft will be mounted to a standard adapter ring, known as an <a href=\"/wiki/EELV_Secondary_Payload_Adapter\" title=\"EELV Secondary Payload Adapter\">ESPA-Grande</a>, for ease of deployment.<sup class=\"reference\" id=\"cite_ref-astranis-microgeo-f9_450-0\"><a href=\"#cite_note-astranis-microgeo-f9-450\"><span class=\"cite-bracket\">[</span>442<span class=\"cite-bracket\">]</span></a></sup><sup class=\"reference\" id=\"cite_ref-451\"><a href=\"#cite_note-451\"><span class=\"cite-bracket\">[</span>443<span class=\"cite-bracket\">]</span></a></sup><sup class=\"reference\" id=\"cite_ref-452\"><a href=\"#cite_note-452\"><span class=\"cite-bracket\">[</span>444<span class=\"cite-bracket\">]</span></a></sup>\n",
      "</td></tr>\n",
      "<tr>\n",
      "<td rowspan=\"2\">18 December 2024<br/>01:26\n",
      "</td>\n",
      "<td><a href=\"/wiki/Falcon_9_Block_5\" title=\"Falcon 9 Block 5\">F9<span class=\"nowrap\"> </span>B5</a>\n",
      "</td>\n",
      "<td><a href=\"/wiki/Kennedy_Space_Center\" title=\"Kennedy Space Center\">Kennedy</a>, <a href=\"/wiki/Kennedy_Space_Center_Launch_Complex_39A\" title=\"Kennedy Space Center Launch Complex 39A\">LC‑39A</a>\n",
      "</td>\n",
      "<td><a href=\"/wiki/Thuraya#Satellites\" title=\"Thuraya\">Thuraya 4-NGS</a>\n",
      "</td>\n",
      "<td><a href=\"/wiki/Geostationary_transfer_orbit\" title=\"Geostationary transfer orbit\">GTO</a>\n",
      "</td>\n",
      "<td><a href=\"/wiki/Thuraya\" title=\"Thuraya\">Thuraya</a>\n",
      "</td></tr>\n",
      "<tr>\n",
      "<td colspan=\"5\">Planned replacement for Thuraya 2 and 3.<sup class=\"reference\" id=\"cite_ref-sn-20210908_453-0\"><a href=\"#cite_note-sn-20210908-453\"><span class=\"cite-bracket\">[</span>445<span class=\"cite-bracket\">]</span></a></sup><sup class=\"reference\" id=\"cite_ref-454\"><a href=\"#cite_note-454\"><span class=\"cite-bracket\">[</span>446<span class=\"cite-bracket\">]</span></a></sup>\n",
      "</td></tr>\n",
      "<tr>\n",
      "<td rowspan=\"2\">29 December 2024\n",
      "</td>\n",
      "<td><a href=\"/wiki/Falcon_9_Block_5\" title=\"Falcon 9 Block 5\">F9<span class=\"nowrap\"> </span>B5</a>\n",
      "</td>\n",
      "<td><a href=\"/wiki/Vandenberg_Space_Force_Base\" title=\"Vandenberg Space Force Base\">Vandenberg</a>, <a class=\"mw-redirect\" href=\"/wiki/SLC-4E\" title=\"SLC-4E\">SLC-4E</a>\n",
      "</td>\n",
      "<td><a href=\"/wiki/List_of_spaceflight_launches_in_July%E2%80%93December_2024#SpXBandwagon2\" title=\"List of spaceflight launches in July–December 2024\">Bandwagon-2</a> (smallsat rideshare)<sup class=\"reference\" id=\"cite_ref-spacex-smallsat_279-3\"><a href=\"#cite_note-spacex-smallsat-279\"><span class=\"cite-bracket\">[</span>271<span class=\"cite-bracket\">]</span></a></sup><sup class=\"reference\" id=\"cite_ref-BandW_299-1\"><a href=\"#cite_note-BandW-299\"><span class=\"cite-bracket\">[</span>291<span class=\"cite-bracket\">]</span></a></sup><br/>425 Project Flight 3\n",
      "</td>\n",
      "<td><a href=\"/wiki/Low_Earth_orbit\" title=\"Low Earth orbit\">LEO</a>\n",
      "</td>\n",
      "<td>Various<br/><a href=\"/wiki/Republic_of_Korea_Armed_Forces\" title=\"Republic of Korea Armed Forces\">Republic of Korea Armed Forces</a>\n",
      "</td></tr>\n",
      "<tr>\n",
      "<td colspan=\"5\">Dedicated SmallSat Rideshare mission to 45 degree inclination 550–600 km altitude. 425 Project Flight 3 is a military satellite of South Korea with a mass of ~800 kg.<sup class=\"reference\" id=\"cite_ref-yonhap8124_455-0\"><a href=\"#cite_note-yonhap8124-455\"><span class=\"cite-bracket\">[</span>447<span class=\"cite-bracket\">]</span></a></sup>\n",
      "</td></tr>\n",
      "<tr>\n",
      "<td rowspan=\"2\">2024\n",
      "</td>\n",
      "<td><a href=\"/wiki/Falcon_9_Block_5\" title=\"Falcon 9 Block 5\">F9<span class=\"nowrap\"> </span>B5</a>\n",
      "</td>\n",
      "<td>TBA (FL)\n",
      "</td>\n",
      "<td><a href=\"/wiki/PT_Pasifik_Satelit_Nusantara#Nusantara_Lima\" title=\"PT Pasifik Satelit Nusantara\">Nusantara Lima</a>\n",
      "</td>\n",
      "<td><a href=\"/wiki/Geostationary_transfer_orbit\" title=\"Geostationary transfer orbit\">GTO</a>?\n",
      "</td>\n",
      "<td><a href=\"/wiki/PT_Pasifik_Satelit_Nusantara\" title=\"PT Pasifik Satelit Nusantara\">PT Pasifik Satelit Nusantara</a>\n",
      "</td></tr>\n",
      "<tr>\n",
      "<td colspan=\"5\">A hot backup system for <a href=\"/wiki/PT_Pasifik_Satelit_Nusantara#SATRIA-1\" title=\"PT Pasifik Satelit Nusantara\">SATRIA-1</a>.<sup class=\"reference\" id=\"cite_ref-456\"><a href=\"#cite_note-456\"><span class=\"cite-bracket\">[</span>448<span class=\"cite-bracket\">]</span></a></sup><sup class=\"reference\" id=\"cite_ref-457\"><a href=\"#cite_note-457\"><span class=\"cite-bracket\">[</span>449<span class=\"cite-bracket\">]</span></a></sup><sup class=\"reference\" id=\"cite_ref-458\"><a href=\"#cite_note-458\"><span class=\"cite-bracket\">[</span>450<span class=\"cite-bracket\">]</span></a></sup>\n",
      "</td></tr>\n",
      "<tr>\n",
      "<td rowspan=\"2\">2024\n",
      "</td>\n",
      "<td><a href=\"/wiki/Falcon_9_Block_5\" title=\"Falcon 9 Block 5\">F9<span class=\"nowrap\"> </span>B5</a>\n",
      "</td>\n",
      "<td><a href=\"/wiki/Vandenberg_Space_Force_Base\" title=\"Vandenberg Space Force Base\">Vandenberg</a>, <a href=\"/wiki/Vandenberg_Space_Launch_Complex_4\" title=\"Vandenberg Space Launch Complex 4\">SLC‑4E</a>\n",
      "</td>\n",
      "<td>NROL-153\n",
      "</td>\n",
      "<td><a href=\"/wiki/Low_Earth_orbit\" title=\"Low Earth orbit\">LEO</a>\n",
      "</td>\n",
      "<td><a href=\"/wiki/National_Reconnaissance_Office\" title=\"National Reconnaissance Office\">NRO</a>\n",
      "</td></tr>\n",
      "<tr>\n",
      "<td colspan=\"5\">Seventh batch of SpaceX/Northrop Grumman-built satellites for the National Reconnaissance Office.\n",
      "</td></tr>\n",
      "<tr>\n",
      "<td rowspan=\"2\">2024\n",
      "</td>\n",
      "<td><a href=\"/wiki/Falcon_9_Block_5\" title=\"Falcon 9 Block 5\">F9<span class=\"nowrap\"> </span>B5</a>\n",
      "</td>\n",
      "<td><a href=\"/wiki/Vandenberg_Space_Force_Base\" title=\"Vandenberg Space Force Base\">Vandenberg</a>, <a href=\"/wiki/Vandenberg_Space_Launch_Complex_4\" title=\"Vandenberg Space Launch Complex 4\">SLC‑4E</a>\n",
      "</td>\n",
      "<td>NROL-192\n",
      "</td>\n",
      "<td><a href=\"/wiki/Low_Earth_orbit\" title=\"Low Earth orbit\">LEO</a>\n",
      "</td>\n",
      "<td><a href=\"/wiki/National_Reconnaissance_Office\" title=\"National Reconnaissance Office\">NRO</a>\n",
      "</td></tr>\n",
      "<tr>\n",
      "<td colspan=\"5\">Eighth batch of SpaceX/Northrop Grumman-built satellites for the National Reconnaissance Office.\n",
      "</td></tr></tbody></table>\n"
     ]
    }
   ],
   "source": [
    "# Let's print the third table and check its content\n",
    "first_launch_table = html_tables[2]\n",
    "print(first_launch_table)"
   ]
  },
  {
   "cell_type": "markdown",
   "metadata": {},
   "source": [
    "You should able to see the columns names embedded in the table header elements `<th>` as follows:\n"
   ]
  },
  {
   "cell_type": "markdown",
   "metadata": {},
   "source": [
    "```\n",
    "<tr>\n",
    "<th scope=\"col\">Flight No.\n",
    "</th>\n",
    "<th scope=\"col\">Date and<br/>time (<a href=\"/wiki/Coordinated_Universal_Time\" title=\"Coordinated Universal Time\">UTC</a>)\n",
    "</th>\n",
    "<th scope=\"col\"><a href=\"/wiki/List_of_Falcon_9_first-stage_boosters\" title=\"List of Falcon 9 first-stage boosters\">Version,<br/>Booster</a> <sup class=\"reference\" id=\"cite_ref-booster_11-0\"><a href=\"#cite_note-booster-11\">[b]</a></sup>\n",
    "</th>\n",
    "<th scope=\"col\">Launch site\n",
    "</th>\n",
    "<th scope=\"col\">Payload<sup class=\"reference\" id=\"cite_ref-Dragon_12-0\"><a href=\"#cite_note-Dragon-12\">[c]</a></sup>\n",
    "</th>\n",
    "<th scope=\"col\">Payload mass\n",
    "</th>\n",
    "<th scope=\"col\">Orbit\n",
    "</th>\n",
    "<th scope=\"col\">Customer\n",
    "</th>\n",
    "<th scope=\"col\">Launch<br/>outcome\n",
    "</th>\n",
    "<th scope=\"col\"><a href=\"/wiki/Falcon_9_first-stage_landing_tests\" title=\"Falcon 9 first-stage landing tests\">Booster<br/>landing</a>\n",
    "</th></tr>\n",
    "```\n"
   ]
  },
  {
   "cell_type": "markdown",
   "metadata": {},
   "source": [
    "Next, we just need to iterate through the `<th>` elements and apply the provided `extract_column_from_header()` to extract column name one by one\n"
   ]
  },
  {
   "cell_type": "code",
   "execution_count": 21,
   "metadata": {
    "tags": []
   },
   "outputs": [
    {
     "name": "stdout",
     "output_type": "stream",
     "text": [
      "Extracted column names:\n",
      "['Date and time ( )', 'Launch site', 'Payload', 'Orbit', 'Customer']\n"
     ]
    }
   ],
   "source": [
    "\n",
    "# Initialize an empty list to store column names\n",
    "column_names = []\n",
    "\n",
    "# Iterate through each <th> element in the table header\n",
    "for header in headers:\n",
    "    # Extract column name using the provided function\n",
    "    column_name = extract_column_from_header(header)\n",
    "    \n",
    "    # Append the column name to the list if it's not empty\n",
    "    if column_name and len(column_name) > 0:\n",
    "        column_names.append(column_name)\n",
    "\n",
    "# Print the extracted column names\n",
    "print(\"Extracted column names:\")\n",
    "print(column_names)\n",
    "\n",
    "# Apply find_all() function with `th` element on first_launch_table\n",
    "# Iterate each th element and apply the provided extract_column_from_header() to get a column name\n",
    "# Append the Non-empty column name (`if name is not None and len(name) > 0`) into a list called column_names\n"
   ]
  },
  {
   "cell_type": "markdown",
   "metadata": {},
   "source": [
    "Check the extracted column names\n"
   ]
  },
  {
   "cell_type": "code",
   "execution_count": 22,
   "metadata": {
    "tags": []
   },
   "outputs": [
    {
     "name": "stdout",
     "output_type": "stream",
     "text": [
      "['Date and time ( )', 'Launch site', 'Payload', 'Orbit', 'Customer']\n"
     ]
    }
   ],
   "source": [
    "print(column_names)"
   ]
  },
  {
   "cell_type": "markdown",
   "metadata": {},
   "source": [
    "## TASK 3: Create a data frame by parsing the launch HTML tables\n"
   ]
  },
  {
   "cell_type": "markdown",
   "metadata": {},
   "source": [
    "We will create an empty dictionary with keys from the extracted column names in the previous task. Later, this dictionary will be converted into a Pandas dataframe\n"
   ]
  },
  {
   "cell_type": "code",
   "execution_count": 23,
   "metadata": {
    "tags": []
   },
   "outputs": [],
   "source": [
    "launch_dict= dict.fromkeys(column_names)\n",
    "\n",
    "# Remove an irrelvant column\n",
    "del launch_dict['Date and time ( )']\n",
    "\n",
    "# Let's initial the launch_dict with each value to be an empty list\n",
    "launch_dict['Flight No.'] = []\n",
    "launch_dict['Launch site'] = []\n",
    "launch_dict['Payload'] = []\n",
    "launch_dict['Payload mass'] = []\n",
    "launch_dict['Orbit'] = []\n",
    "launch_dict['Customer'] = []\n",
    "launch_dict['Launch outcome'] = []\n",
    "# Added some new columns\n",
    "launch_dict['Version Booster']=[]\n",
    "launch_dict['Booster landing']=[]\n",
    "launch_dict['Date']=[]\n",
    "launch_dict['Time']=[]"
   ]
  },
  {
   "cell_type": "markdown",
   "metadata": {},
   "source": [
    "Next, we just need to fill up the `launch_dict` with launch records extracted from table rows.\n"
   ]
  },
  {
   "cell_type": "markdown",
   "metadata": {},
   "source": [
    "Usually, HTML tables in Wiki pages are likely to contain unexpected annotations and other types of noises, such as reference links `B0004.1[8]`, missing values `N/A [e]`, inconsistent formatting, etc.\n"
   ]
  },
  {
   "cell_type": "markdown",
   "metadata": {},
   "source": [
    "To simplify the parsing process, we have provided an incomplete code snippet below to help you to fill up the `launch_dict`. Please complete the following code snippet with TODOs or you can choose to write your own logic to parse all launch tables:\n"
   ]
  },
  {
   "cell_type": "code",
   "execution_count": 24,
   "metadata": {
    "tags": []
   },
   "outputs": [],
   "source": [
    "extracted_row = 0\n",
    "#Extract each table \n",
    "for table_number,table in enumerate(soup.find_all('table',\"wikitable plainrowheaders collapsible\")):\n",
    "   # get table row \n",
    "    for rows in table.find_all(\"tr\"):\n",
    "        #check to see if first table heading is as number corresponding to launch a number \n",
    "        if rows.th:\n",
    "            if rows.th.string:\n",
    "                flight_number=rows.th.string.strip()\n",
    "                flag=flight_number.isdigit()\n",
    "        else:\n",
    "            flag=False\n",
    "        #get table element \n",
    "        row=rows.find_all('td')\n",
    "        #if it is number save cells in a dictonary \n",
    "        if flag:\n",
    "            extracted_row += 1\n",
    "            # Flight Number value\n",
    "            # TODO: Append the flight_number into launch_dict with key `Flight No.`\n",
    "            #print(flight_number)\n",
    "            datatimelist=date_time(row[0])\n",
    "            \n",
    "            # Date value\n",
    "            # TODO: Append the date into launch_dict with key `Date`\n",
    "            date = datatimelist[0].strip(',')\n",
    "            #print(date)\n",
    "            \n",
    "            # Time value\n",
    "            # TODO: Append the time into launch_dict with key `Time`\n",
    "            time = datatimelist[1]\n",
    "            #print(time)\n",
    "              \n",
    "            # Booster version\n",
    "            # TODO: Append the bv into launch_dict with key `Version Booster`\n",
    "            bv=booster_version(row[1])\n",
    "            if not(bv):\n",
    "                bv=row[1].a.string\n",
    "            print(bv)\n",
    "            \n",
    "            # Launch Site\n",
    "            # TODO: Append the bv into launch_dict with key `Launch Site`\n",
    "            launch_site = row[2].a.string\n",
    "            #print(launch_site)\n",
    "            \n",
    "            # Payload\n",
    "            # TODO: Append the payload into launch_dict with key `Payload`\n",
    "            payload = row[3].a.string\n",
    "            #print(payload)\n",
    "            \n",
    "            # Payload Mass\n",
    "            # TODO: Append the payload_mass into launch_dict with key `Payload mass`\n",
    "            payload_mass = get_mass(row[4])\n",
    "            #print(payload)\n",
    "            \n",
    "            # Orbit\n",
    "            # TODO: Append the orbit into launch_dict with key `Orbit`\n",
    "            orbit = row[5].a.string\n",
    "            #print(orbit)\n",
    "            \n",
    "            # Customer\n",
    "            # TODO: Append the customer into launch_dict with key `Customer`\n",
    "            customer = row[6].a.string\n",
    "            #print(customer)\n",
    "            \n",
    "            # Launch outcome\n",
    "            # TODO: Append the launch_outcome into launch_dict with key `Launch outcome`\n",
    "            launch_outcome = list(row[7].strings)[0]\n",
    "            #print(launch_outcome)\n",
    "            \n",
    "            # Booster landing\n",
    "            # TODO: Append the launch_outcome into launch_dict with key `Booster landing`\n",
    "            booster_landing = landing_status(row[8])\n",
    "            #print(booster_landing)\n",
    "            "
   ]
  },
  {
   "cell_type": "markdown",
   "metadata": {},
   "source": [
    "After you have fill in the parsed launch record values into `launch_dict`, you can create a dataframe from it.\n"
   ]
  },
  {
   "cell_type": "code",
   "execution_count": 25,
   "metadata": {
    "tags": []
   },
   "outputs": [
    {
     "name": "stderr",
     "output_type": "stream",
     "text": [
      "/home/jupyterlab/conda/envs/python/lib/python3.7/site-packages/ipykernel_launcher.py:1: DeprecationWarning: The default dtype for empty Series will be 'object' instead of 'float64' in a future version. Specify a dtype explicitly to silence this warning.\n",
      "  \"\"\"Entry point for launching an IPython kernel.\n"
     ]
    }
   ],
   "source": [
    "df= pd.DataFrame({ key:pd.Series(value) for key, value in launch_dict.items() })"
   ]
  },
  {
   "cell_type": "markdown",
   "metadata": {},
   "source": [
    "We can now export it to a <b>CSV</b> for the next section, but to make the answers consistent and in case you have difficulties finishing this lab. \n",
    "\n",
    "Following labs will be using a provided dataset to make each lab independent. \n"
   ]
  },
  {
   "cell_type": "markdown",
   "metadata": {},
   "source": [
    "<code>df.to_csv('spacex_web_scraped.csv', index=False)</code>\n"
   ]
  },
  {
   "cell_type": "markdown",
   "metadata": {},
   "source": [
    "## Authors\n"
   ]
  },
  {
   "cell_type": "markdown",
   "metadata": {},
   "source": [
    "<a href=\"https://www.linkedin.com/in/yan-luo-96288783/\">Yan Luo</a>\n"
   ]
  },
  {
   "cell_type": "markdown",
   "metadata": {},
   "source": [
    "<a href=\"https://www.linkedin.com/in/nayefaboutayoun/\">Nayef Abou Tayoun</a>\n"
   ]
  },
  {
   "cell_type": "markdown",
   "metadata": {},
   "source": [
    "<!--\n",
    "## Change Log\n",
    "-->\n"
   ]
  },
  {
   "cell_type": "markdown",
   "metadata": {},
   "source": [
    "<!--\n",
    "| Date (YYYY-MM-DD) | Version | Changed By | Change Description      |\n",
    "| ----------------- | ------- | ---------- | ----------------------- |\n",
    "| 2021-06-09        | 1.0     | Yan Luo    | Tasks updates           |\n",
    "| 2020-11-10        | 1.0     | Nayef      | Created the initial version |\n",
    "-->\n"
   ]
  },
  {
   "cell_type": "markdown",
   "metadata": {},
   "source": [
    "Copyright © 2021 IBM Corporation. All rights reserved.\n"
   ]
  },
  {
   "cell_type": "code",
   "execution_count": 26,
   "metadata": {
    "tags": []
   },
   "outputs": [
    {
     "name": "stdout",
     "output_type": "stream",
     "text": [
      "The year in the first row of the 'static_fire_date_utc' column is: 2006\n"
     ]
    }
   ],
   "source": [
    "import requests\n",
    "import pandas as pd\n",
    "\n",
    "# Perform the GET request to the SpaceX API (assuming the endpoint is known)\n",
    "url = \"https://api.spacexdata.com/v4/launches\"  # Replace with the actual API endpoint\n",
    "response = requests.get(url)\n",
    "data = response.json()\n",
    "\n",
    "# Convert the response to a DataFrame\n",
    "df = pd.json_normalize(data)\n",
    "\n",
    "# Extract the static_fire_date_utc column and get the year from the first row\n",
    "df['static_fire_date_utc'] = pd.to_datetime(df['static_fire_date_utc'])\n",
    "first_row_year = df['static_fire_date_utc'].iloc[0].year\n",
    "\n",
    "print(f\"The year in the first row of the 'static_fire_date_utc' column is: {first_row_year}\")\n"
   ]
  },
  {
   "cell_type": "code",
   "execution_count": 27,
   "metadata": {
    "tags": []
   },
   "outputs": [
    {
     "name": "stdout",
     "output_type": "stream",
     "text": [
      "There are 0 Falcon 9 launches.\n"
     ]
    }
   ],
   "source": [
    "import requests\n",
    "import pandas as pd\n",
    "\n",
    "# Step 1: Get the data from the SpaceX API\n",
    "url = \"https://api.spacexdata.com/v4/launches\"\n",
    "response = requests.get(url)\n",
    "data = response.json()\n",
    "\n",
    "# Step 2: Convert the JSON data to a DataFrame\n",
    "df = pd.json_normalize(data)\n",
    "\n",
    "# Step 3: Filter out Falcon 1 launches (assuming the 'rocket' field indicates the rocket type)\n",
    "df_falcon9 = df[df['rocket'] == 'Falcon 9']\n",
    "\n",
    "# Step 4: Count the number of Falcon 9 launches\n",
    "num_falcon9_launches = len(df_falcon9)\n",
    "\n",
    "# Output the result\n",
    "print(f\"There are {num_falcon9_launches} Falcon 9 launches.\")\n"
   ]
  },
  {
   "cell_type": "code",
   "execution_count": 28,
   "metadata": {
    "tags": []
   },
   "outputs": [
    {
     "ename": "KeyError",
     "evalue": "'landingPad'",
     "output_type": "error",
     "traceback": [
      "\u001b[0;31m---------------------------------------------------------------------------\u001b[0m",
      "\u001b[0;31mKeyError\u001b[0m                                  Traceback (most recent call last)",
      "\u001b[0;32m~/conda/envs/python/lib/python3.7/site-packages/pandas/core/indexes/base.py\u001b[0m in \u001b[0;36mget_loc\u001b[0;34m(self, key, method, tolerance)\u001b[0m\n\u001b[1;32m   3360\u001b[0m             \u001b[0;32mtry\u001b[0m\u001b[0;34m:\u001b[0m\u001b[0;34m\u001b[0m\u001b[0;34m\u001b[0m\u001b[0m\n\u001b[0;32m-> 3361\u001b[0;31m                 \u001b[0;32mreturn\u001b[0m \u001b[0mself\u001b[0m\u001b[0;34m.\u001b[0m\u001b[0m_engine\u001b[0m\u001b[0;34m.\u001b[0m\u001b[0mget_loc\u001b[0m\u001b[0;34m(\u001b[0m\u001b[0mcasted_key\u001b[0m\u001b[0;34m)\u001b[0m\u001b[0;34m\u001b[0m\u001b[0;34m\u001b[0m\u001b[0m\n\u001b[0m\u001b[1;32m   3362\u001b[0m             \u001b[0;32mexcept\u001b[0m \u001b[0mKeyError\u001b[0m \u001b[0;32mas\u001b[0m \u001b[0merr\u001b[0m\u001b[0;34m:\u001b[0m\u001b[0;34m\u001b[0m\u001b[0;34m\u001b[0m\u001b[0m\n",
      "\u001b[0;32m~/conda/envs/python/lib/python3.7/site-packages/pandas/_libs/index.pyx\u001b[0m in \u001b[0;36mpandas._libs.index.IndexEngine.get_loc\u001b[0;34m()\u001b[0m\n",
      "\u001b[0;32m~/conda/envs/python/lib/python3.7/site-packages/pandas/_libs/index.pyx\u001b[0m in \u001b[0;36mpandas._libs.index.IndexEngine.get_loc\u001b[0;34m()\u001b[0m\n",
      "\u001b[0;32mpandas/_libs/hashtable_class_helper.pxi\u001b[0m in \u001b[0;36mpandas._libs.hashtable.PyObjectHashTable.get_item\u001b[0;34m()\u001b[0m\n",
      "\u001b[0;32mpandas/_libs/hashtable_class_helper.pxi\u001b[0m in \u001b[0;36mpandas._libs.hashtable.PyObjectHashTable.get_item\u001b[0;34m()\u001b[0m\n",
      "\u001b[0;31mKeyError\u001b[0m: 'landingPad'",
      "\nThe above exception was the direct cause of the following exception:\n",
      "\u001b[0;31mKeyError\u001b[0m                                  Traceback (most recent call last)",
      "\u001b[0;32m/tmp/ipykernel_549/208652165.py\u001b[0m in \u001b[0;36m<module>\u001b[0;34m\u001b[0m\n\u001b[1;32m     11\u001b[0m \u001b[0;34m\u001b[0m\u001b[0m\n\u001b[1;32m     12\u001b[0m \u001b[0;31m# Step 3: Count the missing values in the 'landingPad' column\u001b[0m\u001b[0;34m\u001b[0m\u001b[0;34m\u001b[0m\u001b[0;34m\u001b[0m\u001b[0m\n\u001b[0;32m---> 13\u001b[0;31m \u001b[0mmissing_landingPad\u001b[0m \u001b[0;34m=\u001b[0m \u001b[0mdf\u001b[0m\u001b[0;34m[\u001b[0m\u001b[0;34m'landingPad'\u001b[0m\u001b[0;34m]\u001b[0m\u001b[0;34m.\u001b[0m\u001b[0misnull\u001b[0m\u001b[0;34m(\u001b[0m\u001b[0;34m)\u001b[0m\u001b[0;34m.\u001b[0m\u001b[0msum\u001b[0m\u001b[0;34m(\u001b[0m\u001b[0;34m)\u001b[0m\u001b[0;34m\u001b[0m\u001b[0;34m\u001b[0m\u001b[0m\n\u001b[0m\u001b[1;32m     14\u001b[0m \u001b[0;34m\u001b[0m\u001b[0m\n\u001b[1;32m     15\u001b[0m \u001b[0;31m# Output the result\u001b[0m\u001b[0;34m\u001b[0m\u001b[0;34m\u001b[0m\u001b[0;34m\u001b[0m\u001b[0m\n",
      "\u001b[0;32m~/conda/envs/python/lib/python3.7/site-packages/pandas/core/frame.py\u001b[0m in \u001b[0;36m__getitem__\u001b[0;34m(self, key)\u001b[0m\n\u001b[1;32m   3456\u001b[0m             \u001b[0;32mif\u001b[0m \u001b[0mself\u001b[0m\u001b[0;34m.\u001b[0m\u001b[0mcolumns\u001b[0m\u001b[0;34m.\u001b[0m\u001b[0mnlevels\u001b[0m \u001b[0;34m>\u001b[0m \u001b[0;36m1\u001b[0m\u001b[0;34m:\u001b[0m\u001b[0;34m\u001b[0m\u001b[0;34m\u001b[0m\u001b[0m\n\u001b[1;32m   3457\u001b[0m                 \u001b[0;32mreturn\u001b[0m \u001b[0mself\u001b[0m\u001b[0;34m.\u001b[0m\u001b[0m_getitem_multilevel\u001b[0m\u001b[0;34m(\u001b[0m\u001b[0mkey\u001b[0m\u001b[0;34m)\u001b[0m\u001b[0;34m\u001b[0m\u001b[0;34m\u001b[0m\u001b[0m\n\u001b[0;32m-> 3458\u001b[0;31m             \u001b[0mindexer\u001b[0m \u001b[0;34m=\u001b[0m \u001b[0mself\u001b[0m\u001b[0;34m.\u001b[0m\u001b[0mcolumns\u001b[0m\u001b[0;34m.\u001b[0m\u001b[0mget_loc\u001b[0m\u001b[0;34m(\u001b[0m\u001b[0mkey\u001b[0m\u001b[0;34m)\u001b[0m\u001b[0;34m\u001b[0m\u001b[0;34m\u001b[0m\u001b[0m\n\u001b[0m\u001b[1;32m   3459\u001b[0m             \u001b[0;32mif\u001b[0m \u001b[0mis_integer\u001b[0m\u001b[0;34m(\u001b[0m\u001b[0mindexer\u001b[0m\u001b[0;34m)\u001b[0m\u001b[0;34m:\u001b[0m\u001b[0;34m\u001b[0m\u001b[0;34m\u001b[0m\u001b[0m\n\u001b[1;32m   3460\u001b[0m                 \u001b[0mindexer\u001b[0m \u001b[0;34m=\u001b[0m \u001b[0;34m[\u001b[0m\u001b[0mindexer\u001b[0m\u001b[0;34m]\u001b[0m\u001b[0;34m\u001b[0m\u001b[0;34m\u001b[0m\u001b[0m\n",
      "\u001b[0;32m~/conda/envs/python/lib/python3.7/site-packages/pandas/core/indexes/base.py\u001b[0m in \u001b[0;36mget_loc\u001b[0;34m(self, key, method, tolerance)\u001b[0m\n\u001b[1;32m   3361\u001b[0m                 \u001b[0;32mreturn\u001b[0m \u001b[0mself\u001b[0m\u001b[0;34m.\u001b[0m\u001b[0m_engine\u001b[0m\u001b[0;34m.\u001b[0m\u001b[0mget_loc\u001b[0m\u001b[0;34m(\u001b[0m\u001b[0mcasted_key\u001b[0m\u001b[0;34m)\u001b[0m\u001b[0;34m\u001b[0m\u001b[0;34m\u001b[0m\u001b[0m\n\u001b[1;32m   3362\u001b[0m             \u001b[0;32mexcept\u001b[0m \u001b[0mKeyError\u001b[0m \u001b[0;32mas\u001b[0m \u001b[0merr\u001b[0m\u001b[0;34m:\u001b[0m\u001b[0;34m\u001b[0m\u001b[0;34m\u001b[0m\u001b[0m\n\u001b[0;32m-> 3363\u001b[0;31m                 \u001b[0;32mraise\u001b[0m \u001b[0mKeyError\u001b[0m\u001b[0;34m(\u001b[0m\u001b[0mkey\u001b[0m\u001b[0;34m)\u001b[0m \u001b[0;32mfrom\u001b[0m \u001b[0merr\u001b[0m\u001b[0;34m\u001b[0m\u001b[0;34m\u001b[0m\u001b[0m\n\u001b[0m\u001b[1;32m   3364\u001b[0m \u001b[0;34m\u001b[0m\u001b[0m\n\u001b[1;32m   3365\u001b[0m         \u001b[0;32mif\u001b[0m \u001b[0mis_scalar\u001b[0m\u001b[0;34m(\u001b[0m\u001b[0mkey\u001b[0m\u001b[0;34m)\u001b[0m \u001b[0;32mand\u001b[0m \u001b[0misna\u001b[0m\u001b[0;34m(\u001b[0m\u001b[0mkey\u001b[0m\u001b[0;34m)\u001b[0m \u001b[0;32mand\u001b[0m \u001b[0;32mnot\u001b[0m \u001b[0mself\u001b[0m\u001b[0;34m.\u001b[0m\u001b[0mhasnans\u001b[0m\u001b[0;34m:\u001b[0m\u001b[0;34m\u001b[0m\u001b[0;34m\u001b[0m\u001b[0m\n",
      "\u001b[0;31mKeyError\u001b[0m: 'landingPad'"
     ]
    }
   ],
   "source": [
    "import requests\n",
    "import pandas as pd\n",
    "\n",
    "# Step 1: Get the data from the SpaceX API\n",
    "url = \"https://api.spacexdata.com/v4/launches\"\n",
    "response = requests.get(url)\n",
    "data = response.json()\n",
    "\n",
    "# Step 2: Convert the JSON data to a DataFrame\n",
    "df = pd.json_normalize(data)\n",
    "\n",
    "# Step 3: Count the missing values in the 'landingPad' column\n",
    "missing_landingPad = df['landingPad'].isnull().sum()\n",
    "\n",
    "# Output the result\n",
    "print(f\"There are {missing_landingPad} missing values in the 'landingPad' column.\")\n"
   ]
  },
  {
   "cell_type": "code",
   "execution_count": 29,
   "metadata": {
    "tags": []
   },
   "outputs": [
    {
     "name": "stdout",
     "output_type": "stream",
     "text": [
      "Columns in the DataFrame:\n",
      "Index(['static_fire_date_utc', 'static_fire_date_unix', 'net', 'window',\n",
      "       'rocket', 'success', 'failures', 'details', 'crew', 'ships', 'capsules',\n",
      "       'payloads', 'launchpad', 'flight_number', 'name', 'date_utc',\n",
      "       'date_unix', 'date_local', 'date_precision', 'upcoming', 'cores',\n",
      "       'auto_update', 'tbd', 'launch_library_id', 'id', 'fairings.reused',\n",
      "       'fairings.recovery_attempt', 'fairings.recovered', 'fairings.ships',\n",
      "       'links.patch.small', 'links.patch.large', 'links.reddit.campaign',\n",
      "       'links.reddit.launch', 'links.reddit.media', 'links.reddit.recovery',\n",
      "       'links.flickr.small', 'links.flickr.original', 'links.presskit',\n",
      "       'links.webcast', 'links.youtube_id', 'links.article', 'links.wikipedia',\n",
      "       'fairings'],\n",
      "      dtype='object')\n"
     ]
    },
    {
     "ename": "KeyError",
     "evalue": "'landing_pad'",
     "output_type": "error",
     "traceback": [
      "\u001b[0;31m---------------------------------------------------------------------------\u001b[0m",
      "\u001b[0;31mKeyError\u001b[0m                                  Traceback (most recent call last)",
      "\u001b[0;32m~/conda/envs/python/lib/python3.7/site-packages/pandas/core/indexes/base.py\u001b[0m in \u001b[0;36mget_loc\u001b[0;34m(self, key, method, tolerance)\u001b[0m\n\u001b[1;32m   3360\u001b[0m             \u001b[0;32mtry\u001b[0m\u001b[0;34m:\u001b[0m\u001b[0;34m\u001b[0m\u001b[0;34m\u001b[0m\u001b[0m\n\u001b[0;32m-> 3361\u001b[0;31m                 \u001b[0;32mreturn\u001b[0m \u001b[0mself\u001b[0m\u001b[0;34m.\u001b[0m\u001b[0m_engine\u001b[0m\u001b[0;34m.\u001b[0m\u001b[0mget_loc\u001b[0m\u001b[0;34m(\u001b[0m\u001b[0mcasted_key\u001b[0m\u001b[0;34m)\u001b[0m\u001b[0;34m\u001b[0m\u001b[0;34m\u001b[0m\u001b[0m\n\u001b[0m\u001b[1;32m   3362\u001b[0m             \u001b[0;32mexcept\u001b[0m \u001b[0mKeyError\u001b[0m \u001b[0;32mas\u001b[0m \u001b[0merr\u001b[0m\u001b[0;34m:\u001b[0m\u001b[0;34m\u001b[0m\u001b[0;34m\u001b[0m\u001b[0m\n",
      "\u001b[0;32m~/conda/envs/python/lib/python3.7/site-packages/pandas/_libs/index.pyx\u001b[0m in \u001b[0;36mpandas._libs.index.IndexEngine.get_loc\u001b[0;34m()\u001b[0m\n",
      "\u001b[0;32m~/conda/envs/python/lib/python3.7/site-packages/pandas/_libs/index.pyx\u001b[0m in \u001b[0;36mpandas._libs.index.IndexEngine.get_loc\u001b[0;34m()\u001b[0m\n",
      "\u001b[0;32mpandas/_libs/hashtable_class_helper.pxi\u001b[0m in \u001b[0;36mpandas._libs.hashtable.PyObjectHashTable.get_item\u001b[0;34m()\u001b[0m\n",
      "\u001b[0;32mpandas/_libs/hashtable_class_helper.pxi\u001b[0m in \u001b[0;36mpandas._libs.hashtable.PyObjectHashTable.get_item\u001b[0;34m()\u001b[0m\n",
      "\u001b[0;31mKeyError\u001b[0m: 'landing_pad'",
      "\nThe above exception was the direct cause of the following exception:\n",
      "\u001b[0;31mKeyError\u001b[0m                                  Traceback (most recent call last)",
      "\u001b[0;32m/tmp/ipykernel_549/2336438504.py\u001b[0m in \u001b[0;36m<module>\u001b[0;34m\u001b[0m\n\u001b[1;32m     16\u001b[0m \u001b[0;31m# Step 4: Once you find the correct column name, count the missing values\u001b[0m\u001b[0;34m\u001b[0m\u001b[0;34m\u001b[0m\u001b[0;34m\u001b[0m\u001b[0m\n\u001b[1;32m     17\u001b[0m \u001b[0;31m# Replace 'landingPad' with the correct column name if necessary\u001b[0m\u001b[0;34m\u001b[0m\u001b[0;34m\u001b[0m\u001b[0;34m\u001b[0m\u001b[0m\n\u001b[0;32m---> 18\u001b[0;31m \u001b[0mmissing_landingPad\u001b[0m \u001b[0;34m=\u001b[0m \u001b[0mdf\u001b[0m\u001b[0;34m[\u001b[0m\u001b[0;34m'landing_pad'\u001b[0m\u001b[0;34m]\u001b[0m\u001b[0;34m.\u001b[0m\u001b[0misnull\u001b[0m\u001b[0;34m(\u001b[0m\u001b[0;34m)\u001b[0m\u001b[0;34m.\u001b[0m\u001b[0msum\u001b[0m\u001b[0;34m(\u001b[0m\u001b[0;34m)\u001b[0m  \u001b[0;31m# Example if the column name is 'landing_pad'\u001b[0m\u001b[0;34m\u001b[0m\u001b[0;34m\u001b[0m\u001b[0m\n\u001b[0m\u001b[1;32m     19\u001b[0m \u001b[0;34m\u001b[0m\u001b[0m\n\u001b[1;32m     20\u001b[0m \u001b[0;31m# Output the result\u001b[0m\u001b[0;34m\u001b[0m\u001b[0;34m\u001b[0m\u001b[0;34m\u001b[0m\u001b[0m\n",
      "\u001b[0;32m~/conda/envs/python/lib/python3.7/site-packages/pandas/core/frame.py\u001b[0m in \u001b[0;36m__getitem__\u001b[0;34m(self, key)\u001b[0m\n\u001b[1;32m   3456\u001b[0m             \u001b[0;32mif\u001b[0m \u001b[0mself\u001b[0m\u001b[0;34m.\u001b[0m\u001b[0mcolumns\u001b[0m\u001b[0;34m.\u001b[0m\u001b[0mnlevels\u001b[0m \u001b[0;34m>\u001b[0m \u001b[0;36m1\u001b[0m\u001b[0;34m:\u001b[0m\u001b[0;34m\u001b[0m\u001b[0;34m\u001b[0m\u001b[0m\n\u001b[1;32m   3457\u001b[0m                 \u001b[0;32mreturn\u001b[0m \u001b[0mself\u001b[0m\u001b[0;34m.\u001b[0m\u001b[0m_getitem_multilevel\u001b[0m\u001b[0;34m(\u001b[0m\u001b[0mkey\u001b[0m\u001b[0;34m)\u001b[0m\u001b[0;34m\u001b[0m\u001b[0;34m\u001b[0m\u001b[0m\n\u001b[0;32m-> 3458\u001b[0;31m             \u001b[0mindexer\u001b[0m \u001b[0;34m=\u001b[0m \u001b[0mself\u001b[0m\u001b[0;34m.\u001b[0m\u001b[0mcolumns\u001b[0m\u001b[0;34m.\u001b[0m\u001b[0mget_loc\u001b[0m\u001b[0;34m(\u001b[0m\u001b[0mkey\u001b[0m\u001b[0;34m)\u001b[0m\u001b[0;34m\u001b[0m\u001b[0;34m\u001b[0m\u001b[0m\n\u001b[0m\u001b[1;32m   3459\u001b[0m             \u001b[0;32mif\u001b[0m \u001b[0mis_integer\u001b[0m\u001b[0;34m(\u001b[0m\u001b[0mindexer\u001b[0m\u001b[0;34m)\u001b[0m\u001b[0;34m:\u001b[0m\u001b[0;34m\u001b[0m\u001b[0;34m\u001b[0m\u001b[0m\n\u001b[1;32m   3460\u001b[0m                 \u001b[0mindexer\u001b[0m \u001b[0;34m=\u001b[0m \u001b[0;34m[\u001b[0m\u001b[0mindexer\u001b[0m\u001b[0;34m]\u001b[0m\u001b[0;34m\u001b[0m\u001b[0;34m\u001b[0m\u001b[0m\n",
      "\u001b[0;32m~/conda/envs/python/lib/python3.7/site-packages/pandas/core/indexes/base.py\u001b[0m in \u001b[0;36mget_loc\u001b[0;34m(self, key, method, tolerance)\u001b[0m\n\u001b[1;32m   3361\u001b[0m                 \u001b[0;32mreturn\u001b[0m \u001b[0mself\u001b[0m\u001b[0;34m.\u001b[0m\u001b[0m_engine\u001b[0m\u001b[0;34m.\u001b[0m\u001b[0mget_loc\u001b[0m\u001b[0;34m(\u001b[0m\u001b[0mcasted_key\u001b[0m\u001b[0;34m)\u001b[0m\u001b[0;34m\u001b[0m\u001b[0;34m\u001b[0m\u001b[0m\n\u001b[1;32m   3362\u001b[0m             \u001b[0;32mexcept\u001b[0m \u001b[0mKeyError\u001b[0m \u001b[0;32mas\u001b[0m \u001b[0merr\u001b[0m\u001b[0;34m:\u001b[0m\u001b[0;34m\u001b[0m\u001b[0;34m\u001b[0m\u001b[0m\n\u001b[0;32m-> 3363\u001b[0;31m                 \u001b[0;32mraise\u001b[0m \u001b[0mKeyError\u001b[0m\u001b[0;34m(\u001b[0m\u001b[0mkey\u001b[0m\u001b[0;34m)\u001b[0m \u001b[0;32mfrom\u001b[0m \u001b[0merr\u001b[0m\u001b[0;34m\u001b[0m\u001b[0;34m\u001b[0m\u001b[0m\n\u001b[0m\u001b[1;32m   3364\u001b[0m \u001b[0;34m\u001b[0m\u001b[0m\n\u001b[1;32m   3365\u001b[0m         \u001b[0;32mif\u001b[0m \u001b[0mis_scalar\u001b[0m\u001b[0;34m(\u001b[0m\u001b[0mkey\u001b[0m\u001b[0;34m)\u001b[0m \u001b[0;32mand\u001b[0m \u001b[0misna\u001b[0m\u001b[0;34m(\u001b[0m\u001b[0mkey\u001b[0m\u001b[0;34m)\u001b[0m \u001b[0;32mand\u001b[0m \u001b[0;32mnot\u001b[0m \u001b[0mself\u001b[0m\u001b[0;34m.\u001b[0m\u001b[0mhasnans\u001b[0m\u001b[0;34m:\u001b[0m\u001b[0;34m\u001b[0m\u001b[0;34m\u001b[0m\u001b[0m\n",
      "\u001b[0;31mKeyError\u001b[0m: 'landing_pad'"
     ]
    }
   ],
   "source": [
    "import requests\n",
    "import pandas as pd\n",
    "\n",
    "# Step 1: Get the data from the SpaceX API\n",
    "url = \"https://api.spacexdata.com/v4/launches\"\n",
    "response = requests.get(url)\n",
    "data = response.json()\n",
    "\n",
    "# Step 2: Convert the JSON data to a DataFrame\n",
    "df = pd.json_normalize(data)\n",
    "\n",
    "# Step 3: Check the columns of the DataFrame\n",
    "print(\"Columns in the DataFrame:\")\n",
    "print(df.columns)\n",
    "\n",
    "# Step 4: Once you find the correct column name, count the missing values\n",
    "# Replace 'landingPad' with the correct column name if necessary\n",
    "missing_landingPad = df['landing_pad'].isnull().sum()  # Example if the column name is 'landing_pad'\n",
    "\n",
    "# Output the result\n",
    "print(f\"There are {missing_landingPad} missing values in the 'landingPad' column.\")\n"
   ]
  },
  {
   "cell_type": "code",
   "execution_count": 30,
   "metadata": {
    "tags": []
   },
   "outputs": [
    {
     "name": "stdout",
     "output_type": "stream",
     "text": [
      "Columns in the DataFrame:\n",
      "Index(['static_fire_date_utc', 'static_fire_date_unix', 'net', 'window',\n",
      "       'rocket', 'success', 'failures', 'details', 'crew', 'ships', 'capsules',\n",
      "       'payloads', 'launchpad', 'flight_number', 'name', 'date_utc',\n",
      "       'date_unix', 'date_local', 'date_precision', 'upcoming', 'cores',\n",
      "       'auto_update', 'tbd', 'launch_library_id', 'id', 'fairings.reused',\n",
      "       'fairings.recovery_attempt', 'fairings.recovered', 'fairings.ships',\n",
      "       'links.patch.small', 'links.patch.large', 'links.reddit.campaign',\n",
      "       'links.reddit.launch', 'links.reddit.media', 'links.reddit.recovery',\n",
      "       'links.flickr.small', 'links.flickr.original', 'links.presskit',\n",
      "       'links.webcast', 'links.youtube_id', 'links.article', 'links.wikipedia',\n",
      "       'fairings'],\n",
      "      dtype='object')\n",
      "\n",
      "Inspecting the first few rows of 'launchpad' column:\n",
      "0    5e9e4502f5090995de566f86\n",
      "1    5e9e4502f5090995de566f86\n",
      "2    5e9e4502f5090995de566f86\n",
      "3    5e9e4502f5090995de566f86\n",
      "4    5e9e4502f5090995de566f86\n",
      "Name: launchpad, dtype: object\n"
     ]
    }
   ],
   "source": [
    "import requests\n",
    "import pandas as pd\n",
    "\n",
    "# Step 1: Get the data from the SpaceX API\n",
    "url = \"https://api.spacexdata.com/v4/launches\"\n",
    "response = requests.get(url)\n",
    "data = response.json()\n",
    "\n",
    "# Step 2: Convert the JSON data to a DataFrame\n",
    "df = pd.json_normalize(data)\n",
    "\n",
    "# Step 3: Check the columns of the DataFrame\n",
    "print(\"Columns in the DataFrame:\")\n",
    "print(df.columns)\n",
    "\n",
    "# Step 4: Inspect the data for possible landing pad information\n",
    "# Check a few rows of the relevant columns\n",
    "print(\"\\nInspecting the first few rows of 'launchpad' column:\")\n",
    "print(df['launchpad'].head())\n",
    "\n",
    "# If there is no 'landing_pad' column, you can inspect other possible columns like 'cores' or 'fairings' that might contain this info\n"
   ]
  },
  {
   "cell_type": "code",
   "execution_count": null,
   "metadata": {},
   "outputs": [],
   "source": []
  }
 ],
 "metadata": {
  "kernelspec": {
   "display_name": "Python",
   "language": "python",
   "name": "conda-env-python-py"
  },
  "language_info": {
   "codemirror_mode": {
    "name": "ipython",
    "version": 3
   },
   "file_extension": ".py",
   "mimetype": "text/x-python",
   "name": "python",
   "nbconvert_exporter": "python",
   "pygments_lexer": "ipython3",
   "version": "3.7.12"
  },
  "prev_pub_hash": "64f1b0aac408997185c47caba18730e0028b75e7934a0e5bf0ae73c5cb7ba677"
 },
 "nbformat": 4,
 "nbformat_minor": 4
}
