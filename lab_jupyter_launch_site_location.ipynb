{
  "metadata": {
    "kernelspec": {
      "name": "python",
      "display_name": "Python (Pyodide)",
      "language": "python"
    },
    "language_info": {
      "codemirror_mode": {
        "name": "python",
        "version": 3
      },
      "file_extension": ".py",
      "mimetype": "text/x-python",
      "name": "python",
      "nbconvert_exporter": "python",
      "pygments_lexer": "ipython3",
      "version": "3.8"
    },
    "prev_pub_hash": "0f9db842b41c859223722809f8be602f5df9334348bd206b11e3af58c30eb345"
  },
  "nbformat_minor": 4,
  "nbformat": 4,
  "cells": [
    {
      "cell_type": "markdown",
      "source": "<p style=\"text-align:center\">\n    <a href=\"https://skills.network/?utm_medium=Exinfluencer&utm_source=Exinfluencer&utm_content=000026UJ&utm_term=10006555&utm_id=NA-SkillsNetwork-Channel-SkillsNetworkCoursesIBMDS0321ENSkillsNetwork26802033-2022-01-01\" target=\"_blank\">\n    <img src=\"https://cf-courses-data.s3.us.cloud-object-storage.appdomain.cloud/assets/logos/SN_web_lightmode.png\" width=\"200\" alt=\"Skills Network Logo\">\n    </a>\n</p>\n",
      "metadata": {}
    },
    {
      "cell_type": "markdown",
      "source": "# **Hands-on Lab: Interactive Visual Analytics with Folium**\n",
      "metadata": {}
    },
    {
      "cell_type": "markdown",
      "source": "Estimated time needed: **40** minutes\n",
      "metadata": {}
    },
    {
      "cell_type": "markdown",
      "source": "The launch success rate may depend on many factors such as payload mass, orbit type, and so on. It may also depend on the location and proximities of a launch site, i.e., the initial position of rocket trajectories. Finding an optimal location for building a launch site certainly involves many factors and hopefully we could discover some of the factors by analyzing the existing launch site locations.\n",
      "metadata": {}
    },
    {
      "cell_type": "markdown",
      "source": "In the previous exploratory data analysis labs, you have visualized the SpaceX launch dataset using `matplotlib` and `seaborn` and discovered some preliminary correlations between the launch site and success rates. In this lab, you will be performing more interactive visual analytics using `Folium`.\n",
      "metadata": {}
    },
    {
      "cell_type": "markdown",
      "source": "## Objectives\n",
      "metadata": {}
    },
    {
      "cell_type": "markdown",
      "source": "This lab contains the following tasks:\n\n*   **TASK 1:** Mark all launch sites on a map\n*   **TASK 2:** Mark the success/failed launches for each site on the map\n*   **TASK 3:** Calculate the distances between a launch site to its proximities\n\nAfter completed the above tasks, you should be able to find some geographical patterns about launch sites.\n",
      "metadata": {}
    },
    {
      "cell_type": "markdown",
      "source": "Let's first import required Python packages for this lab:\n",
      "metadata": {}
    },
    {
      "cell_type": "code",
      "source": "import piplite\nawait piplite.install(['folium'])\nawait piplite.install(['pandas'])",
      "metadata": {
        "trusted": true
      },
      "outputs": [],
      "execution_count": 1
    },
    {
      "cell_type": "code",
      "source": "import folium\nimport pandas as pd",
      "metadata": {
        "trusted": true
      },
      "outputs": [],
      "execution_count": 2
    },
    {
      "cell_type": "code",
      "source": "# Import folium MarkerCluster plugin\nfrom folium.plugins import MarkerCluster\n# Import folium MousePosition plugin\nfrom folium.plugins import MousePosition\n# Import folium DivIcon plugin\nfrom folium.features import DivIcon",
      "metadata": {
        "trusted": true
      },
      "outputs": [],
      "execution_count": 3
    },
    {
      "cell_type": "markdown",
      "source": "If you need to refresh your memory about folium, you may download and refer to this previous folium lab:\n",
      "metadata": {}
    },
    {
      "cell_type": "markdown",
      "source": "[Generating Maps with Python](https://cf-courses-data.s3.us.cloud-object-storage.appdomain.cloud/IBMDeveloperSkillsNetwork-DV0101EN-SkillsNetwork/labs/v4/DV0101EN-Exercise-Generating-Maps-in-Python.ipynb)\n",
      "metadata": {}
    },
    {
      "cell_type": "code",
      "source": "## Task 1: Mark all launch sites on a map\n",
      "metadata": {
        "trusted": true
      },
      "outputs": [],
      "execution_count": 15
    },
    {
      "cell_type": "markdown",
      "source": "First, let's try to add each site's location on a map using site's latitude and longitude coordinates\n",
      "metadata": {}
    },
    {
      "cell_type": "markdown",
      "source": "The following dataset with the name `spacex_launch_geo.csv` is an augmented dataset with latitude and longitude added for each site.\n",
      "metadata": {}
    },
    {
      "cell_type": "code",
      "source": "# Download and read the `spacex_launch_geo.csv`\nfrom js import fetch\nimport io\n\nURL = 'https://cf-courses-data.s3.us.cloud-object-storage.appdomain.cloud/IBM-DS0321EN-SkillsNetwork/datasets/spacex_launch_geo.csv'\nresp = await fetch(URL)\nspacex_csv_file = io.BytesIO((await resp.arrayBuffer()).to_py())\nspacex_df=pd.read_csv(spacex_csv_file)",
      "metadata": {
        "trusted": true
      },
      "outputs": [],
      "execution_count": 16
    },
    {
      "cell_type": "markdown",
      "source": "Now, you can take a look at what are the coordinates for each site.\n",
      "metadata": {}
    },
    {
      "cell_type": "code",
      "source": "# Select relevant sub-columns: `Launch Site`, `Lat(Latitude)`, `Long(Longitude)`, `class`\nspacex_df = spacex_df[['Launch Site', 'Lat', 'Long', 'class']]\nlaunch_sites_df = spacex_df.groupby(['Launch Site'], as_index=False).first()\nlaunch_sites_df = launch_sites_df[['Launch Site', 'Lat', 'Long']]\nlaunch_sites_df",
      "metadata": {
        "trusted": true
      },
      "outputs": [
        {
          "execution_count": 17,
          "output_type": "execute_result",
          "data": {
            "text/plain": "    Launch Site        Lat        Long\n0   CCAFS LC-40  28.562302  -80.577356\n1  CCAFS SLC-40  28.563197  -80.576820\n2    KSC LC-39A  28.573255  -80.646895\n3   VAFB SLC-4E  34.632834 -120.610745",
            "text/html": "<div>\n<style scoped>\n    .dataframe tbody tr th:only-of-type {\n        vertical-align: middle;\n    }\n\n    .dataframe tbody tr th {\n        vertical-align: top;\n    }\n\n    .dataframe thead th {\n        text-align: right;\n    }\n</style>\n<table border=\"1\" class=\"dataframe\">\n  <thead>\n    <tr style=\"text-align: right;\">\n      <th></th>\n      <th>Launch Site</th>\n      <th>Lat</th>\n      <th>Long</th>\n    </tr>\n  </thead>\n  <tbody>\n    <tr>\n      <th>0</th>\n      <td>CCAFS LC-40</td>\n      <td>28.562302</td>\n      <td>-80.577356</td>\n    </tr>\n    <tr>\n      <th>1</th>\n      <td>CCAFS SLC-40</td>\n      <td>28.563197</td>\n      <td>-80.576820</td>\n    </tr>\n    <tr>\n      <th>2</th>\n      <td>KSC LC-39A</td>\n      <td>28.573255</td>\n      <td>-80.646895</td>\n    </tr>\n    <tr>\n      <th>3</th>\n      <td>VAFB SLC-4E</td>\n      <td>34.632834</td>\n      <td>-120.610745</td>\n    </tr>\n  </tbody>\n</table>\n</div>"
          },
          "metadata": {}
        }
      ],
      "execution_count": 17
    },
    {
      "cell_type": "markdown",
      "source": "Above coordinates are just plain numbers that can not give you any intuitive insights about where are those launch sites. If you are very good at geography, you can interpret those numbers directly in your mind. If not, that's fine too. Let's visualize those locations by pinning them on a map.\n",
      "metadata": {}
    },
    {
      "cell_type": "markdown",
      "source": "We first need to create a folium `Map` object, with an initial center location to be NASA Johnson Space Center at Houston, Texas.\n",
      "metadata": {}
    },
    {
      "cell_type": "code",
      "source": "# Start location is NASA Johnson Space Center\nnasa_coordinate = [29.559684888503615, -95.0830971930759]\nsite_map = folium.Map(location=nasa_coordinate, zoom_start=10)",
      "metadata": {
        "trusted": true
      },
      "outputs": [],
      "execution_count": 18
    },
    {
      "cell_type": "markdown",
      "source": "We could use `folium.Circle` to add a highlighted circle area with a text label on a specific coordinate. For example,\n",
      "metadata": {}
    },
    {
      "cell_type": "code",
      "source": "# Create a blue circle at NASA Johnson Space Center's coordinate with a popup label showing its name\ncircle = folium.Circle(nasa_coordinate, radius=1000, color='#d35400', fill=True).add_child(folium.Popup('NASA Johnson Space Center'))\n# Create a blue circle at NASA Johnson Space Center's coordinate with a icon showing its name\nmarker = folium.map.Marker(\n    nasa_coordinate,\n    # Create an icon as a text label\n    icon=DivIcon(\n        icon_size=(20,20),\n        icon_anchor=(0,0),\n        html='<div style=\"font-size: 12; color:#d35400;\"><b>%s</b></div>' % 'NASA JSC',\n        )\n    )\nsite_map.add_child(circle)\nsite_map.add_child(marker)",
      "metadata": {
        "trusted": true
      },
      "outputs": [
        {
          "execution_count": 19,
          "output_type": "execute_result",
          "data": {
            "text/plain": "<folium.folium.Map at 0x5ba0348>",
            "text/html": "<div style=\"width:100%;\"><div style=\"position:relative;width:100%;height:0;padding-bottom:60%;\"><span style=\"color:#565656\">Make this Notebook Trusted to load map: File -> Trust Notebook</span><iframe srcdoc=\"&lt;!DOCTYPE html&gt;\n&lt;html&gt;\n&lt;head&gt;\n    \n    &lt;meta http-equiv=&quot;content-type&quot; content=&quot;text/html; charset=UTF-8&quot; /&gt;\n    \n        &lt;script&gt;\n            L_NO_TOUCH = false;\n            L_DISABLE_3D = false;\n        &lt;/script&gt;\n    \n    &lt;style&gt;html, body {width: 100%;height: 100%;margin: 0;padding: 0;}&lt;/style&gt;\n    &lt;style&gt;#map {position:absolute;top:0;bottom:0;right:0;left:0;}&lt;/style&gt;\n    &lt;script src=&quot;https://cdn.jsdelivr.net/npm/leaflet@1.9.3/dist/leaflet.js&quot;&gt;&lt;/script&gt;\n    &lt;script src=&quot;https://code.jquery.com/jquery-3.7.1.min.js&quot;&gt;&lt;/script&gt;\n    &lt;script src=&quot;https://cdn.jsdelivr.net/npm/bootstrap@5.2.2/dist/js/bootstrap.bundle.min.js&quot;&gt;&lt;/script&gt;\n    &lt;script src=&quot;https://cdnjs.cloudflare.com/ajax/libs/Leaflet.awesome-markers/2.0.2/leaflet.awesome-markers.js&quot;&gt;&lt;/script&gt;\n    &lt;link rel=&quot;stylesheet&quot; href=&quot;https://cdn.jsdelivr.net/npm/leaflet@1.9.3/dist/leaflet.css&quot;/&gt;\n    &lt;link rel=&quot;stylesheet&quot; href=&quot;https://cdn.jsdelivr.net/npm/bootstrap@5.2.2/dist/css/bootstrap.min.css&quot;/&gt;\n    &lt;link rel=&quot;stylesheet&quot; href=&quot;https://netdna.bootstrapcdn.com/bootstrap/3.0.0/css/bootstrap-glyphicons.css&quot;/&gt;\n    &lt;link rel=&quot;stylesheet&quot; href=&quot;https://cdn.jsdelivr.net/npm/@fortawesome/fontawesome-free@6.2.0/css/all.min.css&quot;/&gt;\n    &lt;link rel=&quot;stylesheet&quot; href=&quot;https://cdnjs.cloudflare.com/ajax/libs/Leaflet.awesome-markers/2.0.2/leaflet.awesome-markers.css&quot;/&gt;\n    &lt;link rel=&quot;stylesheet&quot; href=&quot;https://cdn.jsdelivr.net/gh/python-visualization/folium/folium/templates/leaflet.awesome.rotate.min.css&quot;/&gt;\n    \n            &lt;meta name=&quot;viewport&quot; content=&quot;width=device-width,\n                initial-scale=1.0, maximum-scale=1.0, user-scalable=no&quot; /&gt;\n            &lt;style&gt;\n                #map_d35071faf7357f1c2c5e950b21aab7c9 {\n                    position: relative;\n                    width: 100.0%;\n                    height: 100.0%;\n                    left: 0.0%;\n                    top: 0.0%;\n                }\n                .leaflet-container { font-size: 1rem; }\n            &lt;/style&gt;\n        \n&lt;/head&gt;\n&lt;body&gt;\n    \n    \n            &lt;div class=&quot;folium-map&quot; id=&quot;map_d35071faf7357f1c2c5e950b21aab7c9&quot; &gt;&lt;/div&gt;\n        \n&lt;/body&gt;\n&lt;script&gt;\n    \n    \n            var map_d35071faf7357f1c2c5e950b21aab7c9 = L.map(\n                &quot;map_d35071faf7357f1c2c5e950b21aab7c9&quot;,\n                {\n                    center: [29.559684888503615, -95.0830971930759],\n                    crs: L.CRS.EPSG3857,\n                    ...{\n  &quot;zoom&quot;: 10,\n  &quot;zoomControl&quot;: true,\n  &quot;preferCanvas&quot;: false,\n}\n\n                }\n            );\n\n            \n\n        \n    \n            var tile_layer_5236f90aba4320c1296da608fd1950b2 = L.tileLayer(\n                &quot;https://tile.openstreetmap.org/{z}/{x}/{y}.png&quot;,\n                {\n  &quot;minZoom&quot;: 0,\n  &quot;maxZoom&quot;: 19,\n  &quot;maxNativeZoom&quot;: 19,\n  &quot;noWrap&quot;: false,\n  &quot;attribution&quot;: &quot;\\u0026copy; \\u003ca href=\\&quot;https://www.openstreetmap.org/copyright\\&quot;\\u003eOpenStreetMap\\u003c/a\\u003e contributors&quot;,\n  &quot;subdomains&quot;: &quot;abc&quot;,\n  &quot;detectRetina&quot;: false,\n  &quot;tms&quot;: false,\n  &quot;opacity&quot;: 1,\n}\n\n            );\n        \n    \n            tile_layer_5236f90aba4320c1296da608fd1950b2.addTo(map_d35071faf7357f1c2c5e950b21aab7c9);\n        \n    \n            var circle_aa6d199d1a50c1ab46f73cfd20f02b8d = L.circle(\n                [29.559684888503615, -95.0830971930759],\n                {&quot;bubblingMouseEvents&quot;: true, &quot;color&quot;: &quot;#d35400&quot;, &quot;dashArray&quot;: null, &quot;dashOffset&quot;: null, &quot;fill&quot;: true, &quot;fillColor&quot;: &quot;#d35400&quot;, &quot;fillOpacity&quot;: 0.2, &quot;fillRule&quot;: &quot;evenodd&quot;, &quot;lineCap&quot;: &quot;round&quot;, &quot;lineJoin&quot;: &quot;round&quot;, &quot;opacity&quot;: 1.0, &quot;radius&quot;: 1000, &quot;stroke&quot;: true, &quot;weight&quot;: 3}\n            ).addTo(map_d35071faf7357f1c2c5e950b21aab7c9);\n        \n    \n        var popup_41fec94570a70c70ae1ecbc3b6050161 = L.popup({\n  &quot;maxWidth&quot;: &quot;100%&quot;,\n});\n\n        \n            \n                var html_e9749f9738d95152712f9b2697a61b8c = $(`&lt;div id=&quot;html_e9749f9738d95152712f9b2697a61b8c&quot; style=&quot;width: 100.0%; height: 100.0%;&quot;&gt;NASA Johnson Space Center&lt;/div&gt;`)[0];\n                popup_41fec94570a70c70ae1ecbc3b6050161.setContent(html_e9749f9738d95152712f9b2697a61b8c);\n            \n        \n\n        circle_aa6d199d1a50c1ab46f73cfd20f02b8d.bindPopup(popup_41fec94570a70c70ae1ecbc3b6050161)\n        ;\n\n        \n    \n    \n            var marker_045bbced5e7d6c388a50d1495aa35040 = L.marker(\n                [29.559684888503615, -95.0830971930759],\n                {\n}\n            ).addTo(map_d35071faf7357f1c2c5e950b21aab7c9);\n        \n    \n            var div_icon_6cdc9ac1dfd8016d879008c990ae1e5a = L.divIcon({\n  &quot;html&quot;: &quot;\\u003cdiv style=\\&quot;font-size: 12; color:#d35400;\\&quot;\\u003e\\u003cb\\u003eNASA JSC\\u003c/b\\u003e\\u003c/div\\u003e&quot;,\n  &quot;iconSize&quot;: [20, 20],\n  &quot;iconAnchor&quot;: [0, 0],\n  &quot;className&quot;: &quot;empty&quot;,\n});\n            marker_045bbced5e7d6c388a50d1495aa35040.setIcon(div_icon_6cdc9ac1dfd8016d879008c990ae1e5a);\n        \n&lt;/script&gt;\n&lt;/html&gt;\" style=\"position:absolute;width:100%;height:100%;left:0;top:0;border:none !important;\" allowfullscreen webkitallowfullscreen mozallowfullscreen></iframe></div></div>"
          },
          "metadata": {}
        }
      ],
      "execution_count": 19
    },
    {
      "cell_type": "markdown",
      "source": "and you should find a small yellow circle near the city of Houston and you can zoom-in to see a larger circle.\n",
      "metadata": {}
    },
    {
      "cell_type": "markdown",
      "source": "Now, let's add a circle for each launch site in data frame `launch_sites`\n",
      "metadata": {}
    },
    {
      "cell_type": "markdown",
      "source": "*TODO:*  Create and add `folium.Circle` and `folium.Marker` for each launch site on the site map\n",
      "metadata": {}
    },
    {
      "cell_type": "markdown",
      "source": "An example of folium.Circle:\n",
      "metadata": {}
    },
    {
      "cell_type": "markdown",
      "source": "`folium.Circle(coordinate, radius=1000, color='#000000', fill=True).add_child(folium.Popup(...))`\n",
      "metadata": {}
    },
    {
      "cell_type": "markdown",
      "source": "An example of folium.Marker:\n",
      "metadata": {}
    },
    {
      "cell_type": "markdown",
      "source": "`folium.map.Marker(coordinate, icon=DivIcon(icon_size=(20,20),icon_anchor=(0,0), html='<div style=\"font-size: 12; color:#d35400;\"><b>%s</b></div>' % 'label', ))`\n",
      "metadata": {}
    },
    {
      "cell_type": "code",
      "source": "# Initial the map\nsite_map = folium.Map(location=nasa_coordinate, zoom_start=5)\n# For each launch site, add a Circle object based on its coordinate (Lat, Long) values. In addition, add Launch site name as a popup label\n# Importing necessary libraries\nimport folium\nimport pandas as pd\nfrom folium import DivIcon\n\n# Sample launch site data\nlaunch_sites_df = pd.DataFrame({\n    \"Launch Site\": [\"CCAFS LC-40\", \"VAFB SLC-4E\", \"KSC LC-39A\", \"CCAFS SLC-40\"],\n    \"Lat\": [28.562302, 34.632834, 28.573255, 28.561857],\n    \"Long\": [-80.577356, -120.610746, -80.648299, -80.577366]\n})\n\n# Initialize the map centered at NASA Johnson Space Center\nnasa_coordinate = [29.559684888503615, -95.0830971930759]\nsite_map = folium.Map(location=nasa_coordinate, zoom_start=5)\n\n# Add a Circle and Marker for NASA Johnson Space Center\ncircle = folium.Circle(nasa_coordinate, radius=1000, color='#d35400', fill=True).add_child(\n    folium.Popup('NASA Johnson Space Center'))\nmarker = folium.Marker(\n    nasa_coordinate,\n    icon=DivIcon(\n        icon_size=(20, 20),\n        icon_anchor=(0, 0),\n        html='<div style=\"font-size: 12px; color:#d35400;\"><b>NASA JSC</b></div>'\n    )\n)\nsite_map.add_child(circle)\nsite_map.add_child(marker)\n\n# Add Circles and Markers for each launch site\nfor index, row in launch_sites_df.iterrows():\n    coordinate = [row[\"Lat\"], row[\"Long\"]]\n    # Add Circle\n    folium.Circle(\n        coordinate,\n        radius=1000,\n        color='#007849',\n        fill=True,\n        fill_opacity=0.5\n    ).add_child(folium.Popup(row[\"Launch Site\"])).add_to(site_map)\n    # Add Marker with site name\n    folium.Marker(\n        coordinate,\n        icon=DivIcon(\n            icon_size=(20, 20),\n            icon_anchor=(0, 0),\n            html=f'<div style=\"font-size: 12px; color:#007849;\"><b>{row[\"Launch Site\"]}</b></div>'\n        )\n    ).add_to(site_map)\n\n# Display the map\nsite_map\n",
      "metadata": {
        "trusted": true
      },
      "outputs": [
        {
          "execution_count": 26,
          "output_type": "execute_result",
          "data": {
            "text/plain": "<folium.folium.Map at 0x5d7efc8>",
            "text/html": "<div style=\"width:100%;\"><div style=\"position:relative;width:100%;height:0;padding-bottom:60%;\"><span style=\"color:#565656\">Make this Notebook Trusted to load map: File -> Trust Notebook</span><iframe srcdoc=\"&lt;!DOCTYPE html&gt;\n&lt;html&gt;\n&lt;head&gt;\n    \n    &lt;meta http-equiv=&quot;content-type&quot; content=&quot;text/html; charset=UTF-8&quot; /&gt;\n    \n        &lt;script&gt;\n            L_NO_TOUCH = false;\n            L_DISABLE_3D = false;\n        &lt;/script&gt;\n    \n    &lt;style&gt;html, body {width: 100%;height: 100%;margin: 0;padding: 0;}&lt;/style&gt;\n    &lt;style&gt;#map {position:absolute;top:0;bottom:0;right:0;left:0;}&lt;/style&gt;\n    &lt;script src=&quot;https://cdn.jsdelivr.net/npm/leaflet@1.9.3/dist/leaflet.js&quot;&gt;&lt;/script&gt;\n    &lt;script src=&quot;https://code.jquery.com/jquery-3.7.1.min.js&quot;&gt;&lt;/script&gt;\n    &lt;script src=&quot;https://cdn.jsdelivr.net/npm/bootstrap@5.2.2/dist/js/bootstrap.bundle.min.js&quot;&gt;&lt;/script&gt;\n    &lt;script src=&quot;https://cdnjs.cloudflare.com/ajax/libs/Leaflet.awesome-markers/2.0.2/leaflet.awesome-markers.js&quot;&gt;&lt;/script&gt;\n    &lt;link rel=&quot;stylesheet&quot; href=&quot;https://cdn.jsdelivr.net/npm/leaflet@1.9.3/dist/leaflet.css&quot;/&gt;\n    &lt;link rel=&quot;stylesheet&quot; href=&quot;https://cdn.jsdelivr.net/npm/bootstrap@5.2.2/dist/css/bootstrap.min.css&quot;/&gt;\n    &lt;link rel=&quot;stylesheet&quot; href=&quot;https://netdna.bootstrapcdn.com/bootstrap/3.0.0/css/bootstrap-glyphicons.css&quot;/&gt;\n    &lt;link rel=&quot;stylesheet&quot; href=&quot;https://cdn.jsdelivr.net/npm/@fortawesome/fontawesome-free@6.2.0/css/all.min.css&quot;/&gt;\n    &lt;link rel=&quot;stylesheet&quot; href=&quot;https://cdnjs.cloudflare.com/ajax/libs/Leaflet.awesome-markers/2.0.2/leaflet.awesome-markers.css&quot;/&gt;\n    &lt;link rel=&quot;stylesheet&quot; href=&quot;https://cdn.jsdelivr.net/gh/python-visualization/folium/folium/templates/leaflet.awesome.rotate.min.css&quot;/&gt;\n    \n            &lt;meta name=&quot;viewport&quot; content=&quot;width=device-width,\n                initial-scale=1.0, maximum-scale=1.0, user-scalable=no&quot; /&gt;\n            &lt;style&gt;\n                #map_23cf3d11c26da8b1b09b90e21464a117 {\n                    position: relative;\n                    width: 100.0%;\n                    height: 100.0%;\n                    left: 0.0%;\n                    top: 0.0%;\n                }\n                .leaflet-container { font-size: 1rem; }\n            &lt;/style&gt;\n        \n&lt;/head&gt;\n&lt;body&gt;\n    \n    \n            &lt;div class=&quot;folium-map&quot; id=&quot;map_23cf3d11c26da8b1b09b90e21464a117&quot; &gt;&lt;/div&gt;\n        \n&lt;/body&gt;\n&lt;script&gt;\n    \n    \n            var map_23cf3d11c26da8b1b09b90e21464a117 = L.map(\n                &quot;map_23cf3d11c26da8b1b09b90e21464a117&quot;,\n                {\n                    center: [29.559684888503615, -95.0830971930759],\n                    crs: L.CRS.EPSG3857,\n                    ...{\n  &quot;zoom&quot;: 5,\n  &quot;zoomControl&quot;: true,\n  &quot;preferCanvas&quot;: false,\n}\n\n                }\n            );\n\n            \n\n        \n    \n            var tile_layer_a05461261afb4ce851e5645aa24f2187 = L.tileLayer(\n                &quot;https://tile.openstreetmap.org/{z}/{x}/{y}.png&quot;,\n                {\n  &quot;minZoom&quot;: 0,\n  &quot;maxZoom&quot;: 19,\n  &quot;maxNativeZoom&quot;: 19,\n  &quot;noWrap&quot;: false,\n  &quot;attribution&quot;: &quot;\\u0026copy; \\u003ca href=\\&quot;https://www.openstreetmap.org/copyright\\&quot;\\u003eOpenStreetMap\\u003c/a\\u003e contributors&quot;,\n  &quot;subdomains&quot;: &quot;abc&quot;,\n  &quot;detectRetina&quot;: false,\n  &quot;tms&quot;: false,\n  &quot;opacity&quot;: 1,\n}\n\n            );\n        \n    \n            tile_layer_a05461261afb4ce851e5645aa24f2187.addTo(map_23cf3d11c26da8b1b09b90e21464a117);\n        \n    \n            var circle_bcdbdc9a3b41ef1c1e6b7438f701d0be = L.circle(\n                [29.559684888503615, -95.0830971930759],\n                {&quot;bubblingMouseEvents&quot;: true, &quot;color&quot;: &quot;#d35400&quot;, &quot;dashArray&quot;: null, &quot;dashOffset&quot;: null, &quot;fill&quot;: true, &quot;fillColor&quot;: &quot;#d35400&quot;, &quot;fillOpacity&quot;: 0.2, &quot;fillRule&quot;: &quot;evenodd&quot;, &quot;lineCap&quot;: &quot;round&quot;, &quot;lineJoin&quot;: &quot;round&quot;, &quot;opacity&quot;: 1.0, &quot;radius&quot;: 1000, &quot;stroke&quot;: true, &quot;weight&quot;: 3}\n            ).addTo(map_23cf3d11c26da8b1b09b90e21464a117);\n        \n    \n        var popup_5ba03916c556f221e1aaf0cd51c555d2 = L.popup({\n  &quot;maxWidth&quot;: &quot;100%&quot;,\n});\n\n        \n            \n                var html_0fdb52049e2062d9eb10e7cebdd1db96 = $(`&lt;div id=&quot;html_0fdb52049e2062d9eb10e7cebdd1db96&quot; style=&quot;width: 100.0%; height: 100.0%;&quot;&gt;NASA Johnson Space Center&lt;/div&gt;`)[0];\n                popup_5ba03916c556f221e1aaf0cd51c555d2.setContent(html_0fdb52049e2062d9eb10e7cebdd1db96);\n            \n        \n\n        circle_bcdbdc9a3b41ef1c1e6b7438f701d0be.bindPopup(popup_5ba03916c556f221e1aaf0cd51c555d2)\n        ;\n\n        \n    \n    \n            var marker_e55971c372efa983f67d8ffc9c0d8c3a = L.marker(\n                [29.559684888503615, -95.0830971930759],\n                {\n}\n            ).addTo(map_23cf3d11c26da8b1b09b90e21464a117);\n        \n    \n            var div_icon_3bfb9218beb0b0b7f3c4eb41a198e2b3 = L.divIcon({\n  &quot;html&quot;: &quot;\\u003cdiv style=\\&quot;font-size: 12px; color:#d35400;\\&quot;\\u003e\\u003cb\\u003eNASA JSC\\u003c/b\\u003e\\u003c/div\\u003e&quot;,\n  &quot;iconSize&quot;: [20, 20],\n  &quot;iconAnchor&quot;: [0, 0],\n  &quot;className&quot;: &quot;empty&quot;,\n});\n            marker_e55971c372efa983f67d8ffc9c0d8c3a.setIcon(div_icon_3bfb9218beb0b0b7f3c4eb41a198e2b3);\n        \n    \n            var circle_ec9a9d36de70481bb9e81eadd6d389be = L.circle(\n                [28.562302, -80.577356],\n                {&quot;bubblingMouseEvents&quot;: true, &quot;color&quot;: &quot;#007849&quot;, &quot;dashArray&quot;: null, &quot;dashOffset&quot;: null, &quot;fill&quot;: true, &quot;fillColor&quot;: &quot;#007849&quot;, &quot;fillOpacity&quot;: 0.5, &quot;fillRule&quot;: &quot;evenodd&quot;, &quot;lineCap&quot;: &quot;round&quot;, &quot;lineJoin&quot;: &quot;round&quot;, &quot;opacity&quot;: 1.0, &quot;radius&quot;: 1000, &quot;stroke&quot;: true, &quot;weight&quot;: 3}\n            ).addTo(map_23cf3d11c26da8b1b09b90e21464a117);\n        \n    \n        var popup_2d4ca65b029e9d4fc460cfabba1b6559 = L.popup({\n  &quot;maxWidth&quot;: &quot;100%&quot;,\n});\n\n        \n            \n                var html_c4e6f1cbabed693498c02eb194c265a7 = $(`&lt;div id=&quot;html_c4e6f1cbabed693498c02eb194c265a7&quot; style=&quot;width: 100.0%; height: 100.0%;&quot;&gt;CCAFS LC-40&lt;/div&gt;`)[0];\n                popup_2d4ca65b029e9d4fc460cfabba1b6559.setContent(html_c4e6f1cbabed693498c02eb194c265a7);\n            \n        \n\n        circle_ec9a9d36de70481bb9e81eadd6d389be.bindPopup(popup_2d4ca65b029e9d4fc460cfabba1b6559)\n        ;\n\n        \n    \n    \n            var marker_b1effdc1a71329f5ade3378a6550e6ca = L.marker(\n                [28.562302, -80.577356],\n                {\n}\n            ).addTo(map_23cf3d11c26da8b1b09b90e21464a117);\n        \n    \n            var div_icon_e525aca5b05e6fe8ba92ba6fd9542025 = L.divIcon({\n  &quot;html&quot;: &quot;\\u003cdiv style=\\&quot;font-size: 12px; color:#007849;\\&quot;\\u003e\\u003cb\\u003eCCAFS LC-40\\u003c/b\\u003e\\u003c/div\\u003e&quot;,\n  &quot;iconSize&quot;: [20, 20],\n  &quot;iconAnchor&quot;: [0, 0],\n  &quot;className&quot;: &quot;empty&quot;,\n});\n            marker_b1effdc1a71329f5ade3378a6550e6ca.setIcon(div_icon_e525aca5b05e6fe8ba92ba6fd9542025);\n        \n    \n            var circle_2a29b470ce150ae2d391954ac08b07ad = L.circle(\n                [34.632834, -120.610746],\n                {&quot;bubblingMouseEvents&quot;: true, &quot;color&quot;: &quot;#007849&quot;, &quot;dashArray&quot;: null, &quot;dashOffset&quot;: null, &quot;fill&quot;: true, &quot;fillColor&quot;: &quot;#007849&quot;, &quot;fillOpacity&quot;: 0.5, &quot;fillRule&quot;: &quot;evenodd&quot;, &quot;lineCap&quot;: &quot;round&quot;, &quot;lineJoin&quot;: &quot;round&quot;, &quot;opacity&quot;: 1.0, &quot;radius&quot;: 1000, &quot;stroke&quot;: true, &quot;weight&quot;: 3}\n            ).addTo(map_23cf3d11c26da8b1b09b90e21464a117);\n        \n    \n        var popup_5f0f20c156c86eeadf3e130873d0da5c = L.popup({\n  &quot;maxWidth&quot;: &quot;100%&quot;,\n});\n\n        \n            \n                var html_56507464eb65bf9425dacad4aca76fef = $(`&lt;div id=&quot;html_56507464eb65bf9425dacad4aca76fef&quot; style=&quot;width: 100.0%; height: 100.0%;&quot;&gt;VAFB SLC-4E&lt;/div&gt;`)[0];\n                popup_5f0f20c156c86eeadf3e130873d0da5c.setContent(html_56507464eb65bf9425dacad4aca76fef);\n            \n        \n\n        circle_2a29b470ce150ae2d391954ac08b07ad.bindPopup(popup_5f0f20c156c86eeadf3e130873d0da5c)\n        ;\n\n        \n    \n    \n            var marker_8768d7891215142072ba8b00143b0133 = L.marker(\n                [34.632834, -120.610746],\n                {\n}\n            ).addTo(map_23cf3d11c26da8b1b09b90e21464a117);\n        \n    \n            var div_icon_21394a9b5abb0ed1ad2885533e4eaeb3 = L.divIcon({\n  &quot;html&quot;: &quot;\\u003cdiv style=\\&quot;font-size: 12px; color:#007849;\\&quot;\\u003e\\u003cb\\u003eVAFB SLC-4E\\u003c/b\\u003e\\u003c/div\\u003e&quot;,\n  &quot;iconSize&quot;: [20, 20],\n  &quot;iconAnchor&quot;: [0, 0],\n  &quot;className&quot;: &quot;empty&quot;,\n});\n            marker_8768d7891215142072ba8b00143b0133.setIcon(div_icon_21394a9b5abb0ed1ad2885533e4eaeb3);\n        \n    \n            var circle_dfdb8174da22f8f84b9feff7a36110b0 = L.circle(\n                [28.573255, -80.648299],\n                {&quot;bubblingMouseEvents&quot;: true, &quot;color&quot;: &quot;#007849&quot;, &quot;dashArray&quot;: null, &quot;dashOffset&quot;: null, &quot;fill&quot;: true, &quot;fillColor&quot;: &quot;#007849&quot;, &quot;fillOpacity&quot;: 0.5, &quot;fillRule&quot;: &quot;evenodd&quot;, &quot;lineCap&quot;: &quot;round&quot;, &quot;lineJoin&quot;: &quot;round&quot;, &quot;opacity&quot;: 1.0, &quot;radius&quot;: 1000, &quot;stroke&quot;: true, &quot;weight&quot;: 3}\n            ).addTo(map_23cf3d11c26da8b1b09b90e21464a117);\n        \n    \n        var popup_c624e6136bc42781c60287f23f879408 = L.popup({\n  &quot;maxWidth&quot;: &quot;100%&quot;,\n});\n\n        \n            \n                var html_020f92cc4d4a27d76dda7d71674d2162 = $(`&lt;div id=&quot;html_020f92cc4d4a27d76dda7d71674d2162&quot; style=&quot;width: 100.0%; height: 100.0%;&quot;&gt;KSC LC-39A&lt;/div&gt;`)[0];\n                popup_c624e6136bc42781c60287f23f879408.setContent(html_020f92cc4d4a27d76dda7d71674d2162);\n            \n        \n\n        circle_dfdb8174da22f8f84b9feff7a36110b0.bindPopup(popup_c624e6136bc42781c60287f23f879408)\n        ;\n\n        \n    \n    \n            var marker_9cb547ce3f2a5b3663f2fa9e12e14d66 = L.marker(\n                [28.573255, -80.648299],\n                {\n}\n            ).addTo(map_23cf3d11c26da8b1b09b90e21464a117);\n        \n    \n            var div_icon_3910cd44885c9775565c435816b36608 = L.divIcon({\n  &quot;html&quot;: &quot;\\u003cdiv style=\\&quot;font-size: 12px; color:#007849;\\&quot;\\u003e\\u003cb\\u003eKSC LC-39A\\u003c/b\\u003e\\u003c/div\\u003e&quot;,\n  &quot;iconSize&quot;: [20, 20],\n  &quot;iconAnchor&quot;: [0, 0],\n  &quot;className&quot;: &quot;empty&quot;,\n});\n            marker_9cb547ce3f2a5b3663f2fa9e12e14d66.setIcon(div_icon_3910cd44885c9775565c435816b36608);\n        \n    \n            var circle_54520a25456d99a265f39081312c19e2 = L.circle(\n                [28.561857, -80.577366],\n                {&quot;bubblingMouseEvents&quot;: true, &quot;color&quot;: &quot;#007849&quot;, &quot;dashArray&quot;: null, &quot;dashOffset&quot;: null, &quot;fill&quot;: true, &quot;fillColor&quot;: &quot;#007849&quot;, &quot;fillOpacity&quot;: 0.5, &quot;fillRule&quot;: &quot;evenodd&quot;, &quot;lineCap&quot;: &quot;round&quot;, &quot;lineJoin&quot;: &quot;round&quot;, &quot;opacity&quot;: 1.0, &quot;radius&quot;: 1000, &quot;stroke&quot;: true, &quot;weight&quot;: 3}\n            ).addTo(map_23cf3d11c26da8b1b09b90e21464a117);\n        \n    \n        var popup_27d1a028682cc73d8759413bf194e730 = L.popup({\n  &quot;maxWidth&quot;: &quot;100%&quot;,\n});\n\n        \n            \n                var html_a98d783e1f44827dd0f65fd4d655727c = $(`&lt;div id=&quot;html_a98d783e1f44827dd0f65fd4d655727c&quot; style=&quot;width: 100.0%; height: 100.0%;&quot;&gt;CCAFS SLC-40&lt;/div&gt;`)[0];\n                popup_27d1a028682cc73d8759413bf194e730.setContent(html_a98d783e1f44827dd0f65fd4d655727c);\n            \n        \n\n        circle_54520a25456d99a265f39081312c19e2.bindPopup(popup_27d1a028682cc73d8759413bf194e730)\n        ;\n\n        \n    \n    \n            var marker_659590fd2959735f9c872decbddafd31 = L.marker(\n                [28.561857, -80.577366],\n                {\n}\n            ).addTo(map_23cf3d11c26da8b1b09b90e21464a117);\n        \n    \n            var div_icon_aa3a6b5c982c9e7cc409077dbc908f19 = L.divIcon({\n  &quot;html&quot;: &quot;\\u003cdiv style=\\&quot;font-size: 12px; color:#007849;\\&quot;\\u003e\\u003cb\\u003eCCAFS SLC-40\\u003c/b\\u003e\\u003c/div\\u003e&quot;,\n  &quot;iconSize&quot;: [20, 20],\n  &quot;iconAnchor&quot;: [0, 0],\n  &quot;className&quot;: &quot;empty&quot;,\n});\n            marker_659590fd2959735f9c872decbddafd31.setIcon(div_icon_aa3a6b5c982c9e7cc409077dbc908f19);\n        \n&lt;/script&gt;\n&lt;/html&gt;\" style=\"position:absolute;width:100%;height:100%;left:0;top:0;border:none !important;\" allowfullscreen webkitallowfullscreen mozallowfullscreen></iframe></div></div>"
          },
          "metadata": {}
        }
      ],
      "execution_count": 26
    },
    {
      "cell_type": "markdown",
      "source": "The generated map with marked launch sites should look similar to the following:\n",
      "metadata": {}
    },
    {
      "cell_type": "markdown",
      "source": "<center>\n    <img src=\"https://cf-courses-data.s3.us.cloud-object-storage.appdomain.cloud/IBM-DS0321EN-SkillsNetwork/labs/module_3/images/launch_site_markers.png\">\n</center>\n",
      "metadata": {}
    },
    {
      "cell_type": "markdown",
      "source": "Now, you can explore the map by zoom-in/out the marked areas\n, and try to answer the following questions:\n\n*   Are all launch sites in proximity to the Equator line?\n*   Are all launch sites in very close proximity to the coast?\n\nAlso please try to explain your findings.\n",
      "metadata": {}
    },
    {
      "cell_type": "code",
      "source": "# Task 2: Mark the success/failed launches for each site on the map\n",
      "metadata": {
        "trusted": true
      },
      "outputs": [],
      "execution_count": 21
    },
    {
      "cell_type": "markdown",
      "source": "Next, let's try to enhance the map by adding the launch outcomes for each site, and see which sites have high success rates.\nRecall that data frame spacex_df has detailed launch records, and the `class` column indicates if this launch was successful or not\n",
      "metadata": {}
    },
    {
      "cell_type": "code",
      "source": "spacex_df.tail(10)",
      "metadata": {
        "trusted": true
      },
      "outputs": [
        {
          "execution_count": 22,
          "output_type": "execute_result",
          "data": {
            "text/plain": "     Launch Site        Lat       Long  class\n46    KSC LC-39A  28.573255 -80.646895      1\n47    KSC LC-39A  28.573255 -80.646895      1\n48    KSC LC-39A  28.573255 -80.646895      1\n49  CCAFS SLC-40  28.563197 -80.576820      1\n50  CCAFS SLC-40  28.563197 -80.576820      1\n51  CCAFS SLC-40  28.563197 -80.576820      0\n52  CCAFS SLC-40  28.563197 -80.576820      0\n53  CCAFS SLC-40  28.563197 -80.576820      0\n54  CCAFS SLC-40  28.563197 -80.576820      1\n55  CCAFS SLC-40  28.563197 -80.576820      0",
            "text/html": "<div>\n<style scoped>\n    .dataframe tbody tr th:only-of-type {\n        vertical-align: middle;\n    }\n\n    .dataframe tbody tr th {\n        vertical-align: top;\n    }\n\n    .dataframe thead th {\n        text-align: right;\n    }\n</style>\n<table border=\"1\" class=\"dataframe\">\n  <thead>\n    <tr style=\"text-align: right;\">\n      <th></th>\n      <th>Launch Site</th>\n      <th>Lat</th>\n      <th>Long</th>\n      <th>class</th>\n    </tr>\n  </thead>\n  <tbody>\n    <tr>\n      <th>46</th>\n      <td>KSC LC-39A</td>\n      <td>28.573255</td>\n      <td>-80.646895</td>\n      <td>1</td>\n    </tr>\n    <tr>\n      <th>47</th>\n      <td>KSC LC-39A</td>\n      <td>28.573255</td>\n      <td>-80.646895</td>\n      <td>1</td>\n    </tr>\n    <tr>\n      <th>48</th>\n      <td>KSC LC-39A</td>\n      <td>28.573255</td>\n      <td>-80.646895</td>\n      <td>1</td>\n    </tr>\n    <tr>\n      <th>49</th>\n      <td>CCAFS SLC-40</td>\n      <td>28.563197</td>\n      <td>-80.576820</td>\n      <td>1</td>\n    </tr>\n    <tr>\n      <th>50</th>\n      <td>CCAFS SLC-40</td>\n      <td>28.563197</td>\n      <td>-80.576820</td>\n      <td>1</td>\n    </tr>\n    <tr>\n      <th>51</th>\n      <td>CCAFS SLC-40</td>\n      <td>28.563197</td>\n      <td>-80.576820</td>\n      <td>0</td>\n    </tr>\n    <tr>\n      <th>52</th>\n      <td>CCAFS SLC-40</td>\n      <td>28.563197</td>\n      <td>-80.576820</td>\n      <td>0</td>\n    </tr>\n    <tr>\n      <th>53</th>\n      <td>CCAFS SLC-40</td>\n      <td>28.563197</td>\n      <td>-80.576820</td>\n      <td>0</td>\n    </tr>\n    <tr>\n      <th>54</th>\n      <td>CCAFS SLC-40</td>\n      <td>28.563197</td>\n      <td>-80.576820</td>\n      <td>1</td>\n    </tr>\n    <tr>\n      <th>55</th>\n      <td>CCAFS SLC-40</td>\n      <td>28.563197</td>\n      <td>-80.576820</td>\n      <td>0</td>\n    </tr>\n  </tbody>\n</table>\n</div>"
          },
          "metadata": {}
        }
      ],
      "execution_count": 22
    },
    {
      "cell_type": "markdown",
      "source": "Next, let's create markers for all launch records.\nIf a launch was successful `(class=1)`, then we use a green marker and if a launch was failed, we use a red marker `(class=0)`\n",
      "metadata": {}
    },
    {
      "cell_type": "markdown",
      "source": "Note that a launch only happens in one of the four launch sites, which means many launch records will have the exact same coordinate. Marker clusters can be a good way to simplify a map containing many markers having the same coordinate.\n",
      "metadata": {}
    },
    {
      "cell_type": "markdown",
      "source": "Let's first create a `MarkerCluster` object\n",
      "metadata": {}
    },
    {
      "cell_type": "code",
      "source": "marker_cluster = MarkerCluster()\n",
      "metadata": {
        "trusted": true
      },
      "outputs": [],
      "execution_count": 23
    },
    {
      "cell_type": "markdown",
      "source": "*TODO:* Create a new column in `spacex_df` dataframe called `marker_color` to store the marker colors based on the `class` value\n",
      "metadata": {}
    },
    {
      "cell_type": "code",
      "source": "\n# Apply a function to check the value of `class` column\n# If class=1, marker_color value will be green\n# If class=0, marker_color value will be red\n# Import required libraries\nimport folium\nfrom folium.plugins import MarkerCluster\nimport pandas as pd\n\n# Sample SpaceX data (replace with your actual dataset)\nspacex_df = pd.DataFrame({\n    \"Launch Site\": [\"CCAFS LC-40\", \"VAFB SLC-4E\", \"KSC LC-39A\", \"CCAFS LC-40\", \"VAFB SLC-4E\"],\n    \"Lat\": [28.562302, 34.632834, 28.573255, 28.562302, 34.632834],\n    \"Long\": [-80.577356, -120.610746, -80.648299, -80.577356, -120.610746],\n    \"class\": [1, 0, 1, 0, 1]  # 1 = Success, 0 = Failure\n})\n\n# Add a column for marker colors based on the class value\ndef assign_marker_color(launch_class):\n    return \"green\" if launch_class == 1 else \"red\"\n\nspacex_df[\"marker_color\"] = spacex_df[\"class\"].apply(assign_marker_color)\n\n# Initialize a Folium map\nstart_location = [spacex_df[\"Lat\"].mean(), spacex_df[\"Long\"].mean()]\nsite_map = folium.Map(location=start_location, zoom_start=5)\n\n# Create a MarkerCluster object\nmarker_cluster = MarkerCluster().add_to(site_map)\n\n# Add launch markers to the map\nfor index, row in spacex_df.iterrows():\n    folium.Marker(\n        location=[row[\"Lat\"], row[\"Long\"]],\n        icon=folium.Icon(color=row[\"marker_color\"], icon=\"info-sign\"),\n        popup=f\"Launch Site: {row['Launch Site']}<br>Outcome: {'Success' if row['class'] == 1 else 'Failure'}\"\n    ).add_to(marker_cluster)\n\n# Display the map\nsite_map\n",
      "metadata": {
        "trusted": true
      },
      "outputs": [
        {
          "execution_count": 27,
          "output_type": "execute_result",
          "data": {
            "text/plain": "<folium.folium.Map at 0x5e317f8>",
            "text/html": "<div style=\"width:100%;\"><div style=\"position:relative;width:100%;height:0;padding-bottom:60%;\"><span style=\"color:#565656\">Make this Notebook Trusted to load map: File -> Trust Notebook</span><iframe srcdoc=\"&lt;!DOCTYPE html&gt;\n&lt;html&gt;\n&lt;head&gt;\n    \n    &lt;meta http-equiv=&quot;content-type&quot; content=&quot;text/html; charset=UTF-8&quot; /&gt;\n    \n        &lt;script&gt;\n            L_NO_TOUCH = false;\n            L_DISABLE_3D = false;\n        &lt;/script&gt;\n    \n    &lt;style&gt;html, body {width: 100%;height: 100%;margin: 0;padding: 0;}&lt;/style&gt;\n    &lt;style&gt;#map {position:absolute;top:0;bottom:0;right:0;left:0;}&lt;/style&gt;\n    &lt;script src=&quot;https://cdn.jsdelivr.net/npm/leaflet@1.9.3/dist/leaflet.js&quot;&gt;&lt;/script&gt;\n    &lt;script src=&quot;https://code.jquery.com/jquery-3.7.1.min.js&quot;&gt;&lt;/script&gt;\n    &lt;script src=&quot;https://cdn.jsdelivr.net/npm/bootstrap@5.2.2/dist/js/bootstrap.bundle.min.js&quot;&gt;&lt;/script&gt;\n    &lt;script src=&quot;https://cdnjs.cloudflare.com/ajax/libs/Leaflet.awesome-markers/2.0.2/leaflet.awesome-markers.js&quot;&gt;&lt;/script&gt;\n    &lt;link rel=&quot;stylesheet&quot; href=&quot;https://cdn.jsdelivr.net/npm/leaflet@1.9.3/dist/leaflet.css&quot;/&gt;\n    &lt;link rel=&quot;stylesheet&quot; href=&quot;https://cdn.jsdelivr.net/npm/bootstrap@5.2.2/dist/css/bootstrap.min.css&quot;/&gt;\n    &lt;link rel=&quot;stylesheet&quot; href=&quot;https://netdna.bootstrapcdn.com/bootstrap/3.0.0/css/bootstrap-glyphicons.css&quot;/&gt;\n    &lt;link rel=&quot;stylesheet&quot; href=&quot;https://cdn.jsdelivr.net/npm/@fortawesome/fontawesome-free@6.2.0/css/all.min.css&quot;/&gt;\n    &lt;link rel=&quot;stylesheet&quot; href=&quot;https://cdnjs.cloudflare.com/ajax/libs/Leaflet.awesome-markers/2.0.2/leaflet.awesome-markers.css&quot;/&gt;\n    &lt;link rel=&quot;stylesheet&quot; href=&quot;https://cdn.jsdelivr.net/gh/python-visualization/folium/folium/templates/leaflet.awesome.rotate.min.css&quot;/&gt;\n    \n            &lt;meta name=&quot;viewport&quot; content=&quot;width=device-width,\n                initial-scale=1.0, maximum-scale=1.0, user-scalable=no&quot; /&gt;\n            &lt;style&gt;\n                #map_6bbb256f5bb2ebba2e22e31dd0bf7126 {\n                    position: relative;\n                    width: 100.0%;\n                    height: 100.0%;\n                    left: 0.0%;\n                    top: 0.0%;\n                }\n                .leaflet-container { font-size: 1rem; }\n            &lt;/style&gt;\n        \n    &lt;script src=&quot;https://cdnjs.cloudflare.com/ajax/libs/leaflet.markercluster/1.1.0/leaflet.markercluster.js&quot;&gt;&lt;/script&gt;\n    &lt;link rel=&quot;stylesheet&quot; href=&quot;https://cdnjs.cloudflare.com/ajax/libs/leaflet.markercluster/1.1.0/MarkerCluster.css&quot;/&gt;\n    &lt;link rel=&quot;stylesheet&quot; href=&quot;https://cdnjs.cloudflare.com/ajax/libs/leaflet.markercluster/1.1.0/MarkerCluster.Default.css&quot;/&gt;\n&lt;/head&gt;\n&lt;body&gt;\n    \n    \n            &lt;div class=&quot;folium-map&quot; id=&quot;map_6bbb256f5bb2ebba2e22e31dd0bf7126&quot; &gt;&lt;/div&gt;\n        \n&lt;/body&gt;\n&lt;script&gt;\n    \n    \n            var map_6bbb256f5bb2ebba2e22e31dd0bf7126 = L.map(\n                &quot;map_6bbb256f5bb2ebba2e22e31dd0bf7126&quot;,\n                {\n                    center: [30.9927054, -96.60490060000001],\n                    crs: L.CRS.EPSG3857,\n                    ...{\n  &quot;zoom&quot;: 5,\n  &quot;zoomControl&quot;: true,\n  &quot;preferCanvas&quot;: false,\n}\n\n                }\n            );\n\n            \n\n        \n    \n            var tile_layer_e673ee22e480f2a260eff1824692b7e7 = L.tileLayer(\n                &quot;https://tile.openstreetmap.org/{z}/{x}/{y}.png&quot;,\n                {\n  &quot;minZoom&quot;: 0,\n  &quot;maxZoom&quot;: 19,\n  &quot;maxNativeZoom&quot;: 19,\n  &quot;noWrap&quot;: false,\n  &quot;attribution&quot;: &quot;\\u0026copy; \\u003ca href=\\&quot;https://www.openstreetmap.org/copyright\\&quot;\\u003eOpenStreetMap\\u003c/a\\u003e contributors&quot;,\n  &quot;subdomains&quot;: &quot;abc&quot;,\n  &quot;detectRetina&quot;: false,\n  &quot;tms&quot;: false,\n  &quot;opacity&quot;: 1,\n}\n\n            );\n        \n    \n            tile_layer_e673ee22e480f2a260eff1824692b7e7.addTo(map_6bbb256f5bb2ebba2e22e31dd0bf7126);\n        \n    \n            var marker_cluster_001da60617d0fad84781680e0c10d2f1 = L.markerClusterGroup(\n                {\n}\n            );\n        \n    \n            var marker_afbc143477bf1dabd510bb0f94dedf1f = L.marker(\n                [28.562302, -80.577356],\n                {\n}\n            ).addTo(marker_cluster_001da60617d0fad84781680e0c10d2f1);\n        \n    \n            var icon_9a42e61062a244767a0727e8ff383812 = L.AwesomeMarkers.icon(\n                {\n  &quot;markerColor&quot;: &quot;green&quot;,\n  &quot;iconColor&quot;: &quot;white&quot;,\n  &quot;icon&quot;: &quot;info-sign&quot;,\n  &quot;prefix&quot;: &quot;glyphicon&quot;,\n  &quot;extraClasses&quot;: &quot;fa-rotate-0&quot;,\n}\n            );\n            marker_afbc143477bf1dabd510bb0f94dedf1f.setIcon(icon_9a42e61062a244767a0727e8ff383812);\n        \n    \n        var popup_67479665b7256c7c1ffde200ffd96c14 = L.popup({\n  &quot;maxWidth&quot;: &quot;100%&quot;,\n});\n\n        \n            \n                var html_6a4072c1b7b05d4e94096ce371879082 = $(`&lt;div id=&quot;html_6a4072c1b7b05d4e94096ce371879082&quot; style=&quot;width: 100.0%; height: 100.0%;&quot;&gt;Launch Site: CCAFS LC-40&lt;br&gt;Outcome: Success&lt;/div&gt;`)[0];\n                popup_67479665b7256c7c1ffde200ffd96c14.setContent(html_6a4072c1b7b05d4e94096ce371879082);\n            \n        \n\n        marker_afbc143477bf1dabd510bb0f94dedf1f.bindPopup(popup_67479665b7256c7c1ffde200ffd96c14)\n        ;\n\n        \n    \n    \n            var marker_29359059f7b5f46746bea05c0c2b4966 = L.marker(\n                [34.632834, -120.610746],\n                {\n}\n            ).addTo(marker_cluster_001da60617d0fad84781680e0c10d2f1);\n        \n    \n            var icon_36a5ff45e8cb3cf798f3672a62479447 = L.AwesomeMarkers.icon(\n                {\n  &quot;markerColor&quot;: &quot;red&quot;,\n  &quot;iconColor&quot;: &quot;white&quot;,\n  &quot;icon&quot;: &quot;info-sign&quot;,\n  &quot;prefix&quot;: &quot;glyphicon&quot;,\n  &quot;extraClasses&quot;: &quot;fa-rotate-0&quot;,\n}\n            );\n            marker_29359059f7b5f46746bea05c0c2b4966.setIcon(icon_36a5ff45e8cb3cf798f3672a62479447);\n        \n    \n        var popup_d9fea5cb1c4d8e1d2f6afcfbb7b010ec = L.popup({\n  &quot;maxWidth&quot;: &quot;100%&quot;,\n});\n\n        \n            \n                var html_7a01b9a22ef987630aeea355c0683f7b = $(`&lt;div id=&quot;html_7a01b9a22ef987630aeea355c0683f7b&quot; style=&quot;width: 100.0%; height: 100.0%;&quot;&gt;Launch Site: VAFB SLC-4E&lt;br&gt;Outcome: Failure&lt;/div&gt;`)[0];\n                popup_d9fea5cb1c4d8e1d2f6afcfbb7b010ec.setContent(html_7a01b9a22ef987630aeea355c0683f7b);\n            \n        \n\n        marker_29359059f7b5f46746bea05c0c2b4966.bindPopup(popup_d9fea5cb1c4d8e1d2f6afcfbb7b010ec)\n        ;\n\n        \n    \n    \n            var marker_53d0f6e4fab659185730033eb2b3f55b = L.marker(\n                [28.573255, -80.648299],\n                {\n}\n            ).addTo(marker_cluster_001da60617d0fad84781680e0c10d2f1);\n        \n    \n            var icon_7f733ff70ccaad2ea8d8043e0e7552fc = L.AwesomeMarkers.icon(\n                {\n  &quot;markerColor&quot;: &quot;green&quot;,\n  &quot;iconColor&quot;: &quot;white&quot;,\n  &quot;icon&quot;: &quot;info-sign&quot;,\n  &quot;prefix&quot;: &quot;glyphicon&quot;,\n  &quot;extraClasses&quot;: &quot;fa-rotate-0&quot;,\n}\n            );\n            marker_53d0f6e4fab659185730033eb2b3f55b.setIcon(icon_7f733ff70ccaad2ea8d8043e0e7552fc);\n        \n    \n        var popup_6d5af0fa3897fa0183a82fe455dae435 = L.popup({\n  &quot;maxWidth&quot;: &quot;100%&quot;,\n});\n\n        \n            \n                var html_78ab748e826b80b572b4228bc9387df0 = $(`&lt;div id=&quot;html_78ab748e826b80b572b4228bc9387df0&quot; style=&quot;width: 100.0%; height: 100.0%;&quot;&gt;Launch Site: KSC LC-39A&lt;br&gt;Outcome: Success&lt;/div&gt;`)[0];\n                popup_6d5af0fa3897fa0183a82fe455dae435.setContent(html_78ab748e826b80b572b4228bc9387df0);\n            \n        \n\n        marker_53d0f6e4fab659185730033eb2b3f55b.bindPopup(popup_6d5af0fa3897fa0183a82fe455dae435)\n        ;\n\n        \n    \n    \n            var marker_4fd325a07ac16bf43864c9033eb8514a = L.marker(\n                [28.562302, -80.577356],\n                {\n}\n            ).addTo(marker_cluster_001da60617d0fad84781680e0c10d2f1);\n        \n    \n            var icon_b0fe7246ce2acf3b9c88ebca6ec6c61e = L.AwesomeMarkers.icon(\n                {\n  &quot;markerColor&quot;: &quot;red&quot;,\n  &quot;iconColor&quot;: &quot;white&quot;,\n  &quot;icon&quot;: &quot;info-sign&quot;,\n  &quot;prefix&quot;: &quot;glyphicon&quot;,\n  &quot;extraClasses&quot;: &quot;fa-rotate-0&quot;,\n}\n            );\n            marker_4fd325a07ac16bf43864c9033eb8514a.setIcon(icon_b0fe7246ce2acf3b9c88ebca6ec6c61e);\n        \n    \n        var popup_499ce66133f4d0ada1bd4ce6f2ff678e = L.popup({\n  &quot;maxWidth&quot;: &quot;100%&quot;,\n});\n\n        \n            \n                var html_40063207c8ebbe5f0a871d57b744d294 = $(`&lt;div id=&quot;html_40063207c8ebbe5f0a871d57b744d294&quot; style=&quot;width: 100.0%; height: 100.0%;&quot;&gt;Launch Site: CCAFS LC-40&lt;br&gt;Outcome: Failure&lt;/div&gt;`)[0];\n                popup_499ce66133f4d0ada1bd4ce6f2ff678e.setContent(html_40063207c8ebbe5f0a871d57b744d294);\n            \n        \n\n        marker_4fd325a07ac16bf43864c9033eb8514a.bindPopup(popup_499ce66133f4d0ada1bd4ce6f2ff678e)\n        ;\n\n        \n    \n    \n            var marker_24028d0ae43b1b3083902550b34b6b72 = L.marker(\n                [34.632834, -120.610746],\n                {\n}\n            ).addTo(marker_cluster_001da60617d0fad84781680e0c10d2f1);\n        \n    \n            var icon_c2f57e7b25c7cfc2f49baf343b8b7596 = L.AwesomeMarkers.icon(\n                {\n  &quot;markerColor&quot;: &quot;green&quot;,\n  &quot;iconColor&quot;: &quot;white&quot;,\n  &quot;icon&quot;: &quot;info-sign&quot;,\n  &quot;prefix&quot;: &quot;glyphicon&quot;,\n  &quot;extraClasses&quot;: &quot;fa-rotate-0&quot;,\n}\n            );\n            marker_24028d0ae43b1b3083902550b34b6b72.setIcon(icon_c2f57e7b25c7cfc2f49baf343b8b7596);\n        \n    \n        var popup_55dc24675fa1c4e2795d54b1125dbaba = L.popup({\n  &quot;maxWidth&quot;: &quot;100%&quot;,\n});\n\n        \n            \n                var html_2ea8a4b0affc238d83b248ee9a8014c2 = $(`&lt;div id=&quot;html_2ea8a4b0affc238d83b248ee9a8014c2&quot; style=&quot;width: 100.0%; height: 100.0%;&quot;&gt;Launch Site: VAFB SLC-4E&lt;br&gt;Outcome: Success&lt;/div&gt;`)[0];\n                popup_55dc24675fa1c4e2795d54b1125dbaba.setContent(html_2ea8a4b0affc238d83b248ee9a8014c2);\n            \n        \n\n        marker_24028d0ae43b1b3083902550b34b6b72.bindPopup(popup_55dc24675fa1c4e2795d54b1125dbaba)\n        ;\n\n        \n    \n    \n            marker_cluster_001da60617d0fad84781680e0c10d2f1.addTo(map_6bbb256f5bb2ebba2e22e31dd0bf7126);\n        \n&lt;/script&gt;\n&lt;/html&gt;\" style=\"position:absolute;width:100%;height:100%;left:0;top:0;border:none !important;\" allowfullscreen webkitallowfullscreen mozallowfullscreen></iframe></div></div>"
          },
          "metadata": {}
        }
      ],
      "execution_count": 27
    },
    {
      "cell_type": "markdown",
      "source": "*TODO:* For each launch result in `spacex_df` data frame, add a `folium.Marker` to `marker_cluster`\n",
      "metadata": {}
    },
    {
      "cell_type": "code",
      "source": "# Import required libraries\nimport folium\nfrom folium.plugins import MarkerCluster\nimport pandas as pd\n\n# Sample SpaceX data (replace with your actual dataset)\nspacex_df = pd.DataFrame({\n    \"Launch Site\": [\"CCAFS LC-40\", \"VAFB SLC-4E\", \"KSC LC-39A\", \"CCAFS LC-40\", \"VAFB SLC-4E\"],\n    \"Lat\": [28.562302, 34.632834, 28.573255, 28.562302, 34.632834],\n    \"Long\": [-80.577356, -120.610746, -80.648299, -80.577356, -120.610746],\n    \"class\": [1, 0, 1, 0, 1]  # 1 = Success, 0 = Failure\n})\n\n# Add a column for marker colors based on the class value\ndef assign_marker_color(launch_class):\n    return \"green\" if launch_class == 1 else \"red\"\n\nspacex_df[\"marker_color\"] = spacex_df[\"class\"].apply(assign_marker_color)\n\n# Initialize a Folium map\nstart_location = [spacex_df[\"Lat\"].mean(), spacex_df[\"Long\"].mean()]\nsite_map = folium.Map(location=start_location, zoom_start=5)\n\n# Create a MarkerCluster object\nmarker_cluster = MarkerCluster()\n\n# For each row in spacex_df data frame, create and add a Marker to the cluster\nfor index, record in spacex_df.iterrows():\n    # Create a marker for each launch\n    marker = folium.Marker(\n        location=[record[\"Lat\"], record[\"Long\"]],\n        icon=folium.Icon(color=record[\"marker_color\"], icon=\"info-sign\"),\n        popup=f\"Launch Site: {record['Launch Site']}<br>Outcome: {'Success' if record['class'] == 1 else 'Failure'}\"\n    )\n    # Add the marker to the marker cluster\n    marker_cluster.add_child(marker)\n\n# Add the marker cluster to the site map\nsite_map.add_child(marker_cluster)\n\n# Display the map\nsite_map\n",
      "metadata": {
        "trusted": true
      },
      "outputs": [
        {
          "execution_count": 28,
          "output_type": "execute_result",
          "data": {
            "text/plain": "<folium.folium.Map at 0x55318b8>",
            "text/html": "<div style=\"width:100%;\"><div style=\"position:relative;width:100%;height:0;padding-bottom:60%;\"><span style=\"color:#565656\">Make this Notebook Trusted to load map: File -> Trust Notebook</span><iframe srcdoc=\"&lt;!DOCTYPE html&gt;\n&lt;html&gt;\n&lt;head&gt;\n    \n    &lt;meta http-equiv=&quot;content-type&quot; content=&quot;text/html; charset=UTF-8&quot; /&gt;\n    \n        &lt;script&gt;\n            L_NO_TOUCH = false;\n            L_DISABLE_3D = false;\n        &lt;/script&gt;\n    \n    &lt;style&gt;html, body {width: 100%;height: 100%;margin: 0;padding: 0;}&lt;/style&gt;\n    &lt;style&gt;#map {position:absolute;top:0;bottom:0;right:0;left:0;}&lt;/style&gt;\n    &lt;script src=&quot;https://cdn.jsdelivr.net/npm/leaflet@1.9.3/dist/leaflet.js&quot;&gt;&lt;/script&gt;\n    &lt;script src=&quot;https://code.jquery.com/jquery-3.7.1.min.js&quot;&gt;&lt;/script&gt;\n    &lt;script src=&quot;https://cdn.jsdelivr.net/npm/bootstrap@5.2.2/dist/js/bootstrap.bundle.min.js&quot;&gt;&lt;/script&gt;\n    &lt;script src=&quot;https://cdnjs.cloudflare.com/ajax/libs/Leaflet.awesome-markers/2.0.2/leaflet.awesome-markers.js&quot;&gt;&lt;/script&gt;\n    &lt;link rel=&quot;stylesheet&quot; href=&quot;https://cdn.jsdelivr.net/npm/leaflet@1.9.3/dist/leaflet.css&quot;/&gt;\n    &lt;link rel=&quot;stylesheet&quot; href=&quot;https://cdn.jsdelivr.net/npm/bootstrap@5.2.2/dist/css/bootstrap.min.css&quot;/&gt;\n    &lt;link rel=&quot;stylesheet&quot; href=&quot;https://netdna.bootstrapcdn.com/bootstrap/3.0.0/css/bootstrap-glyphicons.css&quot;/&gt;\n    &lt;link rel=&quot;stylesheet&quot; href=&quot;https://cdn.jsdelivr.net/npm/@fortawesome/fontawesome-free@6.2.0/css/all.min.css&quot;/&gt;\n    &lt;link rel=&quot;stylesheet&quot; href=&quot;https://cdnjs.cloudflare.com/ajax/libs/Leaflet.awesome-markers/2.0.2/leaflet.awesome-markers.css&quot;/&gt;\n    &lt;link rel=&quot;stylesheet&quot; href=&quot;https://cdn.jsdelivr.net/gh/python-visualization/folium/folium/templates/leaflet.awesome.rotate.min.css&quot;/&gt;\n    \n            &lt;meta name=&quot;viewport&quot; content=&quot;width=device-width,\n                initial-scale=1.0, maximum-scale=1.0, user-scalable=no&quot; /&gt;\n            &lt;style&gt;\n                #map_7f3e4bc99427c299474a6b028318993c {\n                    position: relative;\n                    width: 100.0%;\n                    height: 100.0%;\n                    left: 0.0%;\n                    top: 0.0%;\n                }\n                .leaflet-container { font-size: 1rem; }\n            &lt;/style&gt;\n        \n    &lt;script src=&quot;https://cdnjs.cloudflare.com/ajax/libs/leaflet.markercluster/1.1.0/leaflet.markercluster.js&quot;&gt;&lt;/script&gt;\n    &lt;link rel=&quot;stylesheet&quot; href=&quot;https://cdnjs.cloudflare.com/ajax/libs/leaflet.markercluster/1.1.0/MarkerCluster.css&quot;/&gt;\n    &lt;link rel=&quot;stylesheet&quot; href=&quot;https://cdnjs.cloudflare.com/ajax/libs/leaflet.markercluster/1.1.0/MarkerCluster.Default.css&quot;/&gt;\n&lt;/head&gt;\n&lt;body&gt;\n    \n    \n            &lt;div class=&quot;folium-map&quot; id=&quot;map_7f3e4bc99427c299474a6b028318993c&quot; &gt;&lt;/div&gt;\n        \n&lt;/body&gt;\n&lt;script&gt;\n    \n    \n            var map_7f3e4bc99427c299474a6b028318993c = L.map(\n                &quot;map_7f3e4bc99427c299474a6b028318993c&quot;,\n                {\n                    center: [30.9927054, -96.60490060000001],\n                    crs: L.CRS.EPSG3857,\n                    ...{\n  &quot;zoom&quot;: 5,\n  &quot;zoomControl&quot;: true,\n  &quot;preferCanvas&quot;: false,\n}\n\n                }\n            );\n\n            \n\n        \n    \n            var tile_layer_2fcd77bd06a9812307e3cb74608912ee = L.tileLayer(\n                &quot;https://tile.openstreetmap.org/{z}/{x}/{y}.png&quot;,\n                {\n  &quot;minZoom&quot;: 0,\n  &quot;maxZoom&quot;: 19,\n  &quot;maxNativeZoom&quot;: 19,\n  &quot;noWrap&quot;: false,\n  &quot;attribution&quot;: &quot;\\u0026copy; \\u003ca href=\\&quot;https://www.openstreetmap.org/copyright\\&quot;\\u003eOpenStreetMap\\u003c/a\\u003e contributors&quot;,\n  &quot;subdomains&quot;: &quot;abc&quot;,\n  &quot;detectRetina&quot;: false,\n  &quot;tms&quot;: false,\n  &quot;opacity&quot;: 1,\n}\n\n            );\n        \n    \n            tile_layer_2fcd77bd06a9812307e3cb74608912ee.addTo(map_7f3e4bc99427c299474a6b028318993c);\n        \n    \n            var marker_cluster_de53f55c8a63fcbcde06b0fefde00b21 = L.markerClusterGroup(\n                {\n}\n            );\n        \n    \n            var marker_f419facaaf820f93c32ad1f1304165e1 = L.marker(\n                [28.562302, -80.577356],\n                {\n}\n            ).addTo(marker_cluster_de53f55c8a63fcbcde06b0fefde00b21);\n        \n    \n            var icon_e442d22a103b82505b122c07a15b41a8 = L.AwesomeMarkers.icon(\n                {\n  &quot;markerColor&quot;: &quot;green&quot;,\n  &quot;iconColor&quot;: &quot;white&quot;,\n  &quot;icon&quot;: &quot;info-sign&quot;,\n  &quot;prefix&quot;: &quot;glyphicon&quot;,\n  &quot;extraClasses&quot;: &quot;fa-rotate-0&quot;,\n}\n            );\n            marker_f419facaaf820f93c32ad1f1304165e1.setIcon(icon_e442d22a103b82505b122c07a15b41a8);\n        \n    \n        var popup_0a677cc8a936ef5c59e5264c7b8a0888 = L.popup({\n  &quot;maxWidth&quot;: &quot;100%&quot;,\n});\n\n        \n            \n                var html_ba6e9ce3cce0b9fe5b2028ea58b68d53 = $(`&lt;div id=&quot;html_ba6e9ce3cce0b9fe5b2028ea58b68d53&quot; style=&quot;width: 100.0%; height: 100.0%;&quot;&gt;Launch Site: CCAFS LC-40&lt;br&gt;Outcome: Success&lt;/div&gt;`)[0];\n                popup_0a677cc8a936ef5c59e5264c7b8a0888.setContent(html_ba6e9ce3cce0b9fe5b2028ea58b68d53);\n            \n        \n\n        marker_f419facaaf820f93c32ad1f1304165e1.bindPopup(popup_0a677cc8a936ef5c59e5264c7b8a0888)\n        ;\n\n        \n    \n    \n            var marker_f5c11f3fe7a1549054e97f043dd3df3a = L.marker(\n                [34.632834, -120.610746],\n                {\n}\n            ).addTo(marker_cluster_de53f55c8a63fcbcde06b0fefde00b21);\n        \n    \n            var icon_f72354ae9c3a02adf8c975730f30e9c7 = L.AwesomeMarkers.icon(\n                {\n  &quot;markerColor&quot;: &quot;red&quot;,\n  &quot;iconColor&quot;: &quot;white&quot;,\n  &quot;icon&quot;: &quot;info-sign&quot;,\n  &quot;prefix&quot;: &quot;glyphicon&quot;,\n  &quot;extraClasses&quot;: &quot;fa-rotate-0&quot;,\n}\n            );\n            marker_f5c11f3fe7a1549054e97f043dd3df3a.setIcon(icon_f72354ae9c3a02adf8c975730f30e9c7);\n        \n    \n        var popup_be57da914c64ba9b31c7434ef48a4b88 = L.popup({\n  &quot;maxWidth&quot;: &quot;100%&quot;,\n});\n\n        \n            \n                var html_0fa642aabf1716154618439c120b911e = $(`&lt;div id=&quot;html_0fa642aabf1716154618439c120b911e&quot; style=&quot;width: 100.0%; height: 100.0%;&quot;&gt;Launch Site: VAFB SLC-4E&lt;br&gt;Outcome: Failure&lt;/div&gt;`)[0];\n                popup_be57da914c64ba9b31c7434ef48a4b88.setContent(html_0fa642aabf1716154618439c120b911e);\n            \n        \n\n        marker_f5c11f3fe7a1549054e97f043dd3df3a.bindPopup(popup_be57da914c64ba9b31c7434ef48a4b88)\n        ;\n\n        \n    \n    \n            var marker_89b813413817c5c611a398fe7770a821 = L.marker(\n                [28.573255, -80.648299],\n                {\n}\n            ).addTo(marker_cluster_de53f55c8a63fcbcde06b0fefde00b21);\n        \n    \n            var icon_7ce0c834560d870d06c4f954e3eb42a4 = L.AwesomeMarkers.icon(\n                {\n  &quot;markerColor&quot;: &quot;green&quot;,\n  &quot;iconColor&quot;: &quot;white&quot;,\n  &quot;icon&quot;: &quot;info-sign&quot;,\n  &quot;prefix&quot;: &quot;glyphicon&quot;,\n  &quot;extraClasses&quot;: &quot;fa-rotate-0&quot;,\n}\n            );\n            marker_89b813413817c5c611a398fe7770a821.setIcon(icon_7ce0c834560d870d06c4f954e3eb42a4);\n        \n    \n        var popup_31becd5abf0723acdaf34782f7f9d0b4 = L.popup({\n  &quot;maxWidth&quot;: &quot;100%&quot;,\n});\n\n        \n            \n                var html_556aa1516e858eac01d6f2161fb84333 = $(`&lt;div id=&quot;html_556aa1516e858eac01d6f2161fb84333&quot; style=&quot;width: 100.0%; height: 100.0%;&quot;&gt;Launch Site: KSC LC-39A&lt;br&gt;Outcome: Success&lt;/div&gt;`)[0];\n                popup_31becd5abf0723acdaf34782f7f9d0b4.setContent(html_556aa1516e858eac01d6f2161fb84333);\n            \n        \n\n        marker_89b813413817c5c611a398fe7770a821.bindPopup(popup_31becd5abf0723acdaf34782f7f9d0b4)\n        ;\n\n        \n    \n    \n            var marker_9411123681df57714979ae8bdf67d062 = L.marker(\n                [28.562302, -80.577356],\n                {\n}\n            ).addTo(marker_cluster_de53f55c8a63fcbcde06b0fefde00b21);\n        \n    \n            var icon_0a2a0f17180c130a5eb76e8bb0be8957 = L.AwesomeMarkers.icon(\n                {\n  &quot;markerColor&quot;: &quot;red&quot;,\n  &quot;iconColor&quot;: &quot;white&quot;,\n  &quot;icon&quot;: &quot;info-sign&quot;,\n  &quot;prefix&quot;: &quot;glyphicon&quot;,\n  &quot;extraClasses&quot;: &quot;fa-rotate-0&quot;,\n}\n            );\n            marker_9411123681df57714979ae8bdf67d062.setIcon(icon_0a2a0f17180c130a5eb76e8bb0be8957);\n        \n    \n        var popup_3a4ddc3389ac8cdece6db26899533c37 = L.popup({\n  &quot;maxWidth&quot;: &quot;100%&quot;,\n});\n\n        \n            \n                var html_44d77d0f60bfb2bf7ede97782bff11ec = $(`&lt;div id=&quot;html_44d77d0f60bfb2bf7ede97782bff11ec&quot; style=&quot;width: 100.0%; height: 100.0%;&quot;&gt;Launch Site: CCAFS LC-40&lt;br&gt;Outcome: Failure&lt;/div&gt;`)[0];\n                popup_3a4ddc3389ac8cdece6db26899533c37.setContent(html_44d77d0f60bfb2bf7ede97782bff11ec);\n            \n        \n\n        marker_9411123681df57714979ae8bdf67d062.bindPopup(popup_3a4ddc3389ac8cdece6db26899533c37)\n        ;\n\n        \n    \n    \n            var marker_466b3837d3083adb084b5b151d093bea = L.marker(\n                [34.632834, -120.610746],\n                {\n}\n            ).addTo(marker_cluster_de53f55c8a63fcbcde06b0fefde00b21);\n        \n    \n            var icon_7d03241930557def4d71c9c429fbb018 = L.AwesomeMarkers.icon(\n                {\n  &quot;markerColor&quot;: &quot;green&quot;,\n  &quot;iconColor&quot;: &quot;white&quot;,\n  &quot;icon&quot;: &quot;info-sign&quot;,\n  &quot;prefix&quot;: &quot;glyphicon&quot;,\n  &quot;extraClasses&quot;: &quot;fa-rotate-0&quot;,\n}\n            );\n            marker_466b3837d3083adb084b5b151d093bea.setIcon(icon_7d03241930557def4d71c9c429fbb018);\n        \n    \n        var popup_72cf8ccb9f7afed5d2460e7c16015703 = L.popup({\n  &quot;maxWidth&quot;: &quot;100%&quot;,\n});\n\n        \n            \n                var html_b1111dc2d9bb2f8b4f3c2954f68205c6 = $(`&lt;div id=&quot;html_b1111dc2d9bb2f8b4f3c2954f68205c6&quot; style=&quot;width: 100.0%; height: 100.0%;&quot;&gt;Launch Site: VAFB SLC-4E&lt;br&gt;Outcome: Success&lt;/div&gt;`)[0];\n                popup_72cf8ccb9f7afed5d2460e7c16015703.setContent(html_b1111dc2d9bb2f8b4f3c2954f68205c6);\n            \n        \n\n        marker_466b3837d3083adb084b5b151d093bea.bindPopup(popup_72cf8ccb9f7afed5d2460e7c16015703)\n        ;\n\n        \n    \n    \n            marker_cluster_de53f55c8a63fcbcde06b0fefde00b21.addTo(map_7f3e4bc99427c299474a6b028318993c);\n        \n&lt;/script&gt;\n&lt;/html&gt;\" style=\"position:absolute;width:100%;height:100%;left:0;top:0;border:none !important;\" allowfullscreen webkitallowfullscreen mozallowfullscreen></iframe></div></div>"
          },
          "metadata": {}
        }
      ],
      "execution_count": 28
    },
    {
      "cell_type": "markdown",
      "source": "Your updated map may look like the following screenshots:\n",
      "metadata": {}
    },
    {
      "cell_type": "markdown",
      "source": "<center>\n    <img src=\"https://cf-courses-data.s3.us.cloud-object-storage.appdomain.cloud/IBM-DS0321EN-SkillsNetwork/labs/module_3/images/launch_site_marker_cluster.png\">\n</center>\n",
      "metadata": {}
    },
    {
      "cell_type": "markdown",
      "source": "<center>\n    <img src=\"https://cf-courses-data.s3.us.cloud-object-storage.appdomain.cloud/IBM-DS0321EN-SkillsNetwork/labs/module_3/images/launch_site_marker_cluster_zoomed.png\">\n</center>\n",
      "metadata": {}
    },
    {
      "cell_type": "markdown",
      "source": "From the color-labeled markers in marker clusters, you should be able to easily identify which launch sites have relatively high success rates.\n",
      "metadata": {}
    },
    {
      "cell_type": "code",
      "source": "# TASK 3: Calculate the distances between a launch site to its proximities\n",
      "metadata": {},
      "outputs": [],
      "execution_count": null
    },
    {
      "cell_type": "markdown",
      "source": "Next, we need to explore and analyze the proximities of launch sites.\n",
      "metadata": {}
    },
    {
      "cell_type": "markdown",
      "source": "Let's first add a `MousePosition` on the map to get coordinate for a mouse over a point on the map. As such, while you are exploring the map, you can easily find the coordinates of any points of interests (such as railway)\n",
      "metadata": {}
    },
    {
      "cell_type": "code",
      "source": "# Add Mouse Position to get the coordinate (Lat, Long) for a mouse over on the map\nformatter = \"function(num) {return L.Util.formatNum(num, 5);};\"\nmouse_position = MousePosition(\n    position='topright',\n    separator=' Long: ',\n    empty_string='NaN',\n    lng_first=False,\n    num_digits=20,\n    prefix='Lat:',\n    lat_formatter=formatter,\n    lng_formatter=formatter,\n)\n\nsite_map.add_child(mouse_position)\nsite_map",
      "metadata": {
        "trusted": true
      },
      "outputs": [
        {
          "execution_count": 29,
          "output_type": "execute_result",
          "data": {
            "text/plain": "<folium.folium.Map at 0x55318b8>",
            "text/html": "<div style=\"width:100%;\"><div style=\"position:relative;width:100%;height:0;padding-bottom:60%;\"><span style=\"color:#565656\">Make this Notebook Trusted to load map: File -> Trust Notebook</span><iframe srcdoc=\"&lt;!DOCTYPE html&gt;\n&lt;html&gt;\n&lt;head&gt;\n    \n    &lt;meta http-equiv=&quot;content-type&quot; content=&quot;text/html; charset=UTF-8&quot; /&gt;\n    \n        &lt;script&gt;\n            L_NO_TOUCH = false;\n            L_DISABLE_3D = false;\n        &lt;/script&gt;\n    \n    &lt;style&gt;html, body {width: 100%;height: 100%;margin: 0;padding: 0;}&lt;/style&gt;\n    &lt;style&gt;#map {position:absolute;top:0;bottom:0;right:0;left:0;}&lt;/style&gt;\n    &lt;script src=&quot;https://cdn.jsdelivr.net/npm/leaflet@1.9.3/dist/leaflet.js&quot;&gt;&lt;/script&gt;\n    &lt;script src=&quot;https://code.jquery.com/jquery-3.7.1.min.js&quot;&gt;&lt;/script&gt;\n    &lt;script src=&quot;https://cdn.jsdelivr.net/npm/bootstrap@5.2.2/dist/js/bootstrap.bundle.min.js&quot;&gt;&lt;/script&gt;\n    &lt;script src=&quot;https://cdnjs.cloudflare.com/ajax/libs/Leaflet.awesome-markers/2.0.2/leaflet.awesome-markers.js&quot;&gt;&lt;/script&gt;\n    &lt;link rel=&quot;stylesheet&quot; href=&quot;https://cdn.jsdelivr.net/npm/leaflet@1.9.3/dist/leaflet.css&quot;/&gt;\n    &lt;link rel=&quot;stylesheet&quot; href=&quot;https://cdn.jsdelivr.net/npm/bootstrap@5.2.2/dist/css/bootstrap.min.css&quot;/&gt;\n    &lt;link rel=&quot;stylesheet&quot; href=&quot;https://netdna.bootstrapcdn.com/bootstrap/3.0.0/css/bootstrap-glyphicons.css&quot;/&gt;\n    &lt;link rel=&quot;stylesheet&quot; href=&quot;https://cdn.jsdelivr.net/npm/@fortawesome/fontawesome-free@6.2.0/css/all.min.css&quot;/&gt;\n    &lt;link rel=&quot;stylesheet&quot; href=&quot;https://cdnjs.cloudflare.com/ajax/libs/Leaflet.awesome-markers/2.0.2/leaflet.awesome-markers.css&quot;/&gt;\n    &lt;link rel=&quot;stylesheet&quot; href=&quot;https://cdn.jsdelivr.net/gh/python-visualization/folium/folium/templates/leaflet.awesome.rotate.min.css&quot;/&gt;\n    \n            &lt;meta name=&quot;viewport&quot; content=&quot;width=device-width,\n                initial-scale=1.0, maximum-scale=1.0, user-scalable=no&quot; /&gt;\n            &lt;style&gt;\n                #map_7f3e4bc99427c299474a6b028318993c {\n                    position: relative;\n                    width: 100.0%;\n                    height: 100.0%;\n                    left: 0.0%;\n                    top: 0.0%;\n                }\n                .leaflet-container { font-size: 1rem; }\n            &lt;/style&gt;\n        \n    &lt;script src=&quot;https://cdnjs.cloudflare.com/ajax/libs/leaflet.markercluster/1.1.0/leaflet.markercluster.js&quot;&gt;&lt;/script&gt;\n    &lt;link rel=&quot;stylesheet&quot; href=&quot;https://cdnjs.cloudflare.com/ajax/libs/leaflet.markercluster/1.1.0/MarkerCluster.css&quot;/&gt;\n    &lt;link rel=&quot;stylesheet&quot; href=&quot;https://cdnjs.cloudflare.com/ajax/libs/leaflet.markercluster/1.1.0/MarkerCluster.Default.css&quot;/&gt;\n    &lt;script src=&quot;https://cdn.jsdelivr.net/gh/ardhi/Leaflet.MousePosition/src/L.Control.MousePosition.min.js&quot;&gt;&lt;/script&gt;\n    &lt;link rel=&quot;stylesheet&quot; href=&quot;https://cdn.jsdelivr.net/gh/ardhi/Leaflet.MousePosition/src/L.Control.MousePosition.min.css&quot;/&gt;\n&lt;/head&gt;\n&lt;body&gt;\n    \n    \n            &lt;div class=&quot;folium-map&quot; id=&quot;map_7f3e4bc99427c299474a6b028318993c&quot; &gt;&lt;/div&gt;\n        \n&lt;/body&gt;\n&lt;script&gt;\n    \n    \n            var map_7f3e4bc99427c299474a6b028318993c = L.map(\n                &quot;map_7f3e4bc99427c299474a6b028318993c&quot;,\n                {\n                    center: [30.9927054, -96.60490060000001],\n                    crs: L.CRS.EPSG3857,\n                    ...{\n  &quot;zoom&quot;: 5,\n  &quot;zoomControl&quot;: true,\n  &quot;preferCanvas&quot;: false,\n}\n\n                }\n            );\n\n            \n\n        \n    \n            var tile_layer_2fcd77bd06a9812307e3cb74608912ee = L.tileLayer(\n                &quot;https://tile.openstreetmap.org/{z}/{x}/{y}.png&quot;,\n                {\n  &quot;minZoom&quot;: 0,\n  &quot;maxZoom&quot;: 19,\n  &quot;maxNativeZoom&quot;: 19,\n  &quot;noWrap&quot;: false,\n  &quot;attribution&quot;: &quot;\\u0026copy; \\u003ca href=\\&quot;https://www.openstreetmap.org/copyright\\&quot;\\u003eOpenStreetMap\\u003c/a\\u003e contributors&quot;,\n  &quot;subdomains&quot;: &quot;abc&quot;,\n  &quot;detectRetina&quot;: false,\n  &quot;tms&quot;: false,\n  &quot;opacity&quot;: 1,\n}\n\n            );\n        \n    \n            tile_layer_2fcd77bd06a9812307e3cb74608912ee.addTo(map_7f3e4bc99427c299474a6b028318993c);\n        \n    \n            var marker_cluster_de53f55c8a63fcbcde06b0fefde00b21 = L.markerClusterGroup(\n                {\n}\n            );\n        \n    \n            var marker_f419facaaf820f93c32ad1f1304165e1 = L.marker(\n                [28.562302, -80.577356],\n                {\n}\n            ).addTo(marker_cluster_de53f55c8a63fcbcde06b0fefde00b21);\n        \n    \n            var icon_e442d22a103b82505b122c07a15b41a8 = L.AwesomeMarkers.icon(\n                {\n  &quot;markerColor&quot;: &quot;green&quot;,\n  &quot;iconColor&quot;: &quot;white&quot;,\n  &quot;icon&quot;: &quot;info-sign&quot;,\n  &quot;prefix&quot;: &quot;glyphicon&quot;,\n  &quot;extraClasses&quot;: &quot;fa-rotate-0&quot;,\n}\n            );\n            marker_f419facaaf820f93c32ad1f1304165e1.setIcon(icon_e442d22a103b82505b122c07a15b41a8);\n        \n    \n        var popup_0a677cc8a936ef5c59e5264c7b8a0888 = L.popup({\n  &quot;maxWidth&quot;: &quot;100%&quot;,\n});\n\n        \n            \n                var html_ba6e9ce3cce0b9fe5b2028ea58b68d53 = $(`&lt;div id=&quot;html_ba6e9ce3cce0b9fe5b2028ea58b68d53&quot; style=&quot;width: 100.0%; height: 100.0%;&quot;&gt;Launch Site: CCAFS LC-40&lt;br&gt;Outcome: Success&lt;/div&gt;`)[0];\n                popup_0a677cc8a936ef5c59e5264c7b8a0888.setContent(html_ba6e9ce3cce0b9fe5b2028ea58b68d53);\n            \n        \n\n        marker_f419facaaf820f93c32ad1f1304165e1.bindPopup(popup_0a677cc8a936ef5c59e5264c7b8a0888)\n        ;\n\n        \n    \n    \n            var marker_f5c11f3fe7a1549054e97f043dd3df3a = L.marker(\n                [34.632834, -120.610746],\n                {\n}\n            ).addTo(marker_cluster_de53f55c8a63fcbcde06b0fefde00b21);\n        \n    \n            var icon_f72354ae9c3a02adf8c975730f30e9c7 = L.AwesomeMarkers.icon(\n                {\n  &quot;markerColor&quot;: &quot;red&quot;,\n  &quot;iconColor&quot;: &quot;white&quot;,\n  &quot;icon&quot;: &quot;info-sign&quot;,\n  &quot;prefix&quot;: &quot;glyphicon&quot;,\n  &quot;extraClasses&quot;: &quot;fa-rotate-0&quot;,\n}\n            );\n            marker_f5c11f3fe7a1549054e97f043dd3df3a.setIcon(icon_f72354ae9c3a02adf8c975730f30e9c7);\n        \n    \n        var popup_be57da914c64ba9b31c7434ef48a4b88 = L.popup({\n  &quot;maxWidth&quot;: &quot;100%&quot;,\n});\n\n        \n            \n                var html_0fa642aabf1716154618439c120b911e = $(`&lt;div id=&quot;html_0fa642aabf1716154618439c120b911e&quot; style=&quot;width: 100.0%; height: 100.0%;&quot;&gt;Launch Site: VAFB SLC-4E&lt;br&gt;Outcome: Failure&lt;/div&gt;`)[0];\n                popup_be57da914c64ba9b31c7434ef48a4b88.setContent(html_0fa642aabf1716154618439c120b911e);\n            \n        \n\n        marker_f5c11f3fe7a1549054e97f043dd3df3a.bindPopup(popup_be57da914c64ba9b31c7434ef48a4b88)\n        ;\n\n        \n    \n    \n            var marker_89b813413817c5c611a398fe7770a821 = L.marker(\n                [28.573255, -80.648299],\n                {\n}\n            ).addTo(marker_cluster_de53f55c8a63fcbcde06b0fefde00b21);\n        \n    \n            var icon_7ce0c834560d870d06c4f954e3eb42a4 = L.AwesomeMarkers.icon(\n                {\n  &quot;markerColor&quot;: &quot;green&quot;,\n  &quot;iconColor&quot;: &quot;white&quot;,\n  &quot;icon&quot;: &quot;info-sign&quot;,\n  &quot;prefix&quot;: &quot;glyphicon&quot;,\n  &quot;extraClasses&quot;: &quot;fa-rotate-0&quot;,\n}\n            );\n            marker_89b813413817c5c611a398fe7770a821.setIcon(icon_7ce0c834560d870d06c4f954e3eb42a4);\n        \n    \n        var popup_31becd5abf0723acdaf34782f7f9d0b4 = L.popup({\n  &quot;maxWidth&quot;: &quot;100%&quot;,\n});\n\n        \n            \n                var html_556aa1516e858eac01d6f2161fb84333 = $(`&lt;div id=&quot;html_556aa1516e858eac01d6f2161fb84333&quot; style=&quot;width: 100.0%; height: 100.0%;&quot;&gt;Launch Site: KSC LC-39A&lt;br&gt;Outcome: Success&lt;/div&gt;`)[0];\n                popup_31becd5abf0723acdaf34782f7f9d0b4.setContent(html_556aa1516e858eac01d6f2161fb84333);\n            \n        \n\n        marker_89b813413817c5c611a398fe7770a821.bindPopup(popup_31becd5abf0723acdaf34782f7f9d0b4)\n        ;\n\n        \n    \n    \n            var marker_9411123681df57714979ae8bdf67d062 = L.marker(\n                [28.562302, -80.577356],\n                {\n}\n            ).addTo(marker_cluster_de53f55c8a63fcbcde06b0fefde00b21);\n        \n    \n            var icon_0a2a0f17180c130a5eb76e8bb0be8957 = L.AwesomeMarkers.icon(\n                {\n  &quot;markerColor&quot;: &quot;red&quot;,\n  &quot;iconColor&quot;: &quot;white&quot;,\n  &quot;icon&quot;: &quot;info-sign&quot;,\n  &quot;prefix&quot;: &quot;glyphicon&quot;,\n  &quot;extraClasses&quot;: &quot;fa-rotate-0&quot;,\n}\n            );\n            marker_9411123681df57714979ae8bdf67d062.setIcon(icon_0a2a0f17180c130a5eb76e8bb0be8957);\n        \n    \n        var popup_3a4ddc3389ac8cdece6db26899533c37 = L.popup({\n  &quot;maxWidth&quot;: &quot;100%&quot;,\n});\n\n        \n            \n                var html_44d77d0f60bfb2bf7ede97782bff11ec = $(`&lt;div id=&quot;html_44d77d0f60bfb2bf7ede97782bff11ec&quot; style=&quot;width: 100.0%; height: 100.0%;&quot;&gt;Launch Site: CCAFS LC-40&lt;br&gt;Outcome: Failure&lt;/div&gt;`)[0];\n                popup_3a4ddc3389ac8cdece6db26899533c37.setContent(html_44d77d0f60bfb2bf7ede97782bff11ec);\n            \n        \n\n        marker_9411123681df57714979ae8bdf67d062.bindPopup(popup_3a4ddc3389ac8cdece6db26899533c37)\n        ;\n\n        \n    \n    \n            var marker_466b3837d3083adb084b5b151d093bea = L.marker(\n                [34.632834, -120.610746],\n                {\n}\n            ).addTo(marker_cluster_de53f55c8a63fcbcde06b0fefde00b21);\n        \n    \n            var icon_7d03241930557def4d71c9c429fbb018 = L.AwesomeMarkers.icon(\n                {\n  &quot;markerColor&quot;: &quot;green&quot;,\n  &quot;iconColor&quot;: &quot;white&quot;,\n  &quot;icon&quot;: &quot;info-sign&quot;,\n  &quot;prefix&quot;: &quot;glyphicon&quot;,\n  &quot;extraClasses&quot;: &quot;fa-rotate-0&quot;,\n}\n            );\n            marker_466b3837d3083adb084b5b151d093bea.setIcon(icon_7d03241930557def4d71c9c429fbb018);\n        \n    \n        var popup_72cf8ccb9f7afed5d2460e7c16015703 = L.popup({\n  &quot;maxWidth&quot;: &quot;100%&quot;,\n});\n\n        \n            \n                var html_b1111dc2d9bb2f8b4f3c2954f68205c6 = $(`&lt;div id=&quot;html_b1111dc2d9bb2f8b4f3c2954f68205c6&quot; style=&quot;width: 100.0%; height: 100.0%;&quot;&gt;Launch Site: VAFB SLC-4E&lt;br&gt;Outcome: Success&lt;/div&gt;`)[0];\n                popup_72cf8ccb9f7afed5d2460e7c16015703.setContent(html_b1111dc2d9bb2f8b4f3c2954f68205c6);\n            \n        \n\n        marker_466b3837d3083adb084b5b151d093bea.bindPopup(popup_72cf8ccb9f7afed5d2460e7c16015703)\n        ;\n\n        \n    \n    \n            marker_cluster_de53f55c8a63fcbcde06b0fefde00b21.addTo(map_7f3e4bc99427c299474a6b028318993c);\n        \n    \n            tile_layer_2fcd77bd06a9812307e3cb74608912ee.addTo(map_7f3e4bc99427c299474a6b028318993c);\n        \n    \n            marker_cluster_de53f55c8a63fcbcde06b0fefde00b21.addTo(map_7f3e4bc99427c299474a6b028318993c);\n        \n    \n            var mouse_position_b7643825f154d0169f262102d26023d8 = new L.Control.MousePosition(\n                {\n  &quot;position&quot;: &quot;topright&quot;,\n  &quot;separator&quot;: &quot; Long: &quot;,\n  &quot;emptyString&quot;: &quot;NaN&quot;,\n  &quot;lngFirst&quot;: false,\n  &quot;numDigits&quot;: 20,\n  &quot;prefix&quot;: &quot;Lat:&quot;,\n}\n            );\n            mouse_position_b7643825f154d0169f262102d26023d8.options[&quot;latFormatter&quot;] =\n                function(num) {return L.Util.formatNum(num, 5);};;\n            mouse_position_b7643825f154d0169f262102d26023d8.options[&quot;lngFormatter&quot;] =\n                function(num) {return L.Util.formatNum(num, 5);};;\n            map_7f3e4bc99427c299474a6b028318993c.addControl(mouse_position_b7643825f154d0169f262102d26023d8);\n        \n&lt;/script&gt;\n&lt;/html&gt;\" style=\"position:absolute;width:100%;height:100%;left:0;top:0;border:none !important;\" allowfullscreen webkitallowfullscreen mozallowfullscreen></iframe></div></div>"
          },
          "metadata": {}
        }
      ],
      "execution_count": 29
    },
    {
      "cell_type": "markdown",
      "source": "Now zoom in to a launch site and explore its proximity to see if you can easily find any railway, highway, coastline, etc. Move your mouse to these points and mark down their coordinates (shown on the top-left) in order to the distance to the launch site.\n",
      "metadata": {}
    },
    {
      "cell_type": "markdown",
      "source": "Now zoom in to a launch site and explore its proximity to see if you can easily find any railway, highway, coastline, etc. Move your mouse to these points and mark down their coordinates (shown on the top-left) in order to the distance to the launch site.\n",
      "metadata": {}
    },
    {
      "cell_type": "code",
      "source": "from math import sin, cos, sqrt, atan2, radians\n\ndef calculate_distance(lat1, lon1, lat2, lon2):\n    # approximate radius of earth in km\n    R = 6373.0\n\n    lat1 = radians(lat1)\n    lon1 = radians(lon1)\n    lat2 = radians(lat2)\n    lon2 = radians(lon2)\n\n    dlon = lon2 - lon1\n    dlat = lat2 - lat1\n\n    a = sin(dlat / 2)**2 + cos(lat1) * cos(lat2) * sin(dlon / 2)**2\n    c = 2 * atan2(sqrt(a), sqrt(1 - a))\n\n    distance = R * c\n    return distance",
      "metadata": {
        "trusted": true
      },
      "outputs": [],
      "execution_count": 30
    },
    {
      "cell_type": "markdown",
      "source": "*TODO:* Mark down a point on the closest coastline using MousePosition and calculate the distance between the coastline point and the launch site.\n",
      "metadata": {}
    },
    {
      "cell_type": "code",
      "source": "# find coordinate of the closet coastline\n# e.g.,: Lat: 28.56367  Lon: -80.57163\n# distance_coastline = calculate_distance(launch_site_lat, launch_site_lon, coastline_lat, coastline_lon)",
      "metadata": {},
      "outputs": [],
      "execution_count": null
    },
    {
      "cell_type": "code",
      "source": "# Create and add a folium.Marker on your selected closest coastline point on the map\n# Display the distance between coastline point and launch site using the icon property \n# for example\n# distance_marker = folium.Marker(\n#    coordinate,\n#    icon=DivIcon(\n#        icon_size=(20,20),\n#        icon_anchor=(0,0),\n#        html='<div style=\"font-size: 12; color:#d35400;\"><b>%s</b></div>' % \"{:10.2f} KM\".format(distance),\n#        )\n#    )\n# Import required libraries\nimport folium\nfrom folium.plugins import MousePosition\nfrom math import sin, cos, sqrt, atan2, radians\nfrom folium import DivIcon\n\n# Sample launch site location\nlaunch_site_lat, launch_site_lon = 28.562302, -80.577356  # Replace with actual launch site coordinates\n\n# Initialize a Folium map centered at the launch site\nsite_map = folium.Map(location=[launch_site_lat, launch_site_lon], zoom_start=10)\n\n# Add a MousePosition to the map to get coordinates dynamically\nformatter = \"function(num) {return L.Util.formatNum(num, 5);};\"\nmouse_position = MousePosition(\n    position='topright',\n    separator=' Long: ',\n    empty_string='NaN',\n    lng_first=False,\n    num_digits=5,\n    prefix='Lat:',\n    lat_formatter=formatter,\n    lng_formatter=formatter,\n)\nsite_map.add_child(mouse_position)\n\n# Define the Haversine distance calculation function\ndef calculate_distance(lat1, lon1, lat2, lon2):\n    # Approximate radius of Earth in km\n    R = 6373.0\n\n    lat1, lon1, lat2, lon2 = map(radians, [lat1, lon1, lat2, lon2])\n\n    dlon = lon2 - lon1\n    dlat = lat2 - lat1\n\n    a = sin(dlat / 2)**2 + cos(lat1) * cos(lat2) * sin(dlon / 2)**2\n    c = 2 * atan2(sqrt(a), sqrt(1 - a))\n    distance = R * c\n    return distance\n\n# Add the coordinates of the closest coastline (replace with actual coordinates)\ncoastline_lat, coastline_lon = 28.56367, -80.57163  # Example: Closest coastline point\ndistance_coastline = calculate_distance(launch_site_lat, launch_site_lon, coastline_lat, coastline_lon)\n\n# Add a marker for the closest coastline with distance\nfolium.Marker(\n    [coastline_lat, coastline_lon],\n    icon=DivIcon(\n        icon_size=(20, 20),\n        icon_anchor=(0, 0),\n        html=f'<div style=\"font-size: 12px; color:#d35400;\"><b>{distance_coastline:.2f} KM</b></div>'\n    )\n).add_to(site_map)\n\n# Add a marker for the launch site\nfolium.Marker(\n    [launch_site_lat, launch_site_lon],\n    icon=folium.Icon(color='blue', icon='rocket'),\n    popup=\"Launch Site\"\n).add_to(site_map)\n\n# Display the map\nsite_map\n",
      "metadata": {
        "trusted": true
      },
      "outputs": [
        {
          "execution_count": 31,
          "output_type": "execute_result",
          "data": {
            "text/plain": "<folium.folium.Map at 0x5cd3998>",
            "text/html": "<div style=\"width:100%;\"><div style=\"position:relative;width:100%;height:0;padding-bottom:60%;\"><span style=\"color:#565656\">Make this Notebook Trusted to load map: File -> Trust Notebook</span><iframe srcdoc=\"&lt;!DOCTYPE html&gt;\n&lt;html&gt;\n&lt;head&gt;\n    \n    &lt;meta http-equiv=&quot;content-type&quot; content=&quot;text/html; charset=UTF-8&quot; /&gt;\n    \n        &lt;script&gt;\n            L_NO_TOUCH = false;\n            L_DISABLE_3D = false;\n        &lt;/script&gt;\n    \n    &lt;style&gt;html, body {width: 100%;height: 100%;margin: 0;padding: 0;}&lt;/style&gt;\n    &lt;style&gt;#map {position:absolute;top:0;bottom:0;right:0;left:0;}&lt;/style&gt;\n    &lt;script src=&quot;https://cdn.jsdelivr.net/npm/leaflet@1.9.3/dist/leaflet.js&quot;&gt;&lt;/script&gt;\n    &lt;script src=&quot;https://code.jquery.com/jquery-3.7.1.min.js&quot;&gt;&lt;/script&gt;\n    &lt;script src=&quot;https://cdn.jsdelivr.net/npm/bootstrap@5.2.2/dist/js/bootstrap.bundle.min.js&quot;&gt;&lt;/script&gt;\n    &lt;script src=&quot;https://cdnjs.cloudflare.com/ajax/libs/Leaflet.awesome-markers/2.0.2/leaflet.awesome-markers.js&quot;&gt;&lt;/script&gt;\n    &lt;link rel=&quot;stylesheet&quot; href=&quot;https://cdn.jsdelivr.net/npm/leaflet@1.9.3/dist/leaflet.css&quot;/&gt;\n    &lt;link rel=&quot;stylesheet&quot; href=&quot;https://cdn.jsdelivr.net/npm/bootstrap@5.2.2/dist/css/bootstrap.min.css&quot;/&gt;\n    &lt;link rel=&quot;stylesheet&quot; href=&quot;https://netdna.bootstrapcdn.com/bootstrap/3.0.0/css/bootstrap-glyphicons.css&quot;/&gt;\n    &lt;link rel=&quot;stylesheet&quot; href=&quot;https://cdn.jsdelivr.net/npm/@fortawesome/fontawesome-free@6.2.0/css/all.min.css&quot;/&gt;\n    &lt;link rel=&quot;stylesheet&quot; href=&quot;https://cdnjs.cloudflare.com/ajax/libs/Leaflet.awesome-markers/2.0.2/leaflet.awesome-markers.css&quot;/&gt;\n    &lt;link rel=&quot;stylesheet&quot; href=&quot;https://cdn.jsdelivr.net/gh/python-visualization/folium/folium/templates/leaflet.awesome.rotate.min.css&quot;/&gt;\n    \n            &lt;meta name=&quot;viewport&quot; content=&quot;width=device-width,\n                initial-scale=1.0, maximum-scale=1.0, user-scalable=no&quot; /&gt;\n            &lt;style&gt;\n                #map_64eb06ca95b867be8aeabcbc937d3648 {\n                    position: relative;\n                    width: 100.0%;\n                    height: 100.0%;\n                    left: 0.0%;\n                    top: 0.0%;\n                }\n                .leaflet-container { font-size: 1rem; }\n            &lt;/style&gt;\n        \n    &lt;script src=&quot;https://cdn.jsdelivr.net/gh/ardhi/Leaflet.MousePosition/src/L.Control.MousePosition.min.js&quot;&gt;&lt;/script&gt;\n    &lt;link rel=&quot;stylesheet&quot; href=&quot;https://cdn.jsdelivr.net/gh/ardhi/Leaflet.MousePosition/src/L.Control.MousePosition.min.css&quot;/&gt;\n&lt;/head&gt;\n&lt;body&gt;\n    \n    \n            &lt;div class=&quot;folium-map&quot; id=&quot;map_64eb06ca95b867be8aeabcbc937d3648&quot; &gt;&lt;/div&gt;\n        \n&lt;/body&gt;\n&lt;script&gt;\n    \n    \n            var map_64eb06ca95b867be8aeabcbc937d3648 = L.map(\n                &quot;map_64eb06ca95b867be8aeabcbc937d3648&quot;,\n                {\n                    center: [28.562302, -80.577356],\n                    crs: L.CRS.EPSG3857,\n                    ...{\n  &quot;zoom&quot;: 10,\n  &quot;zoomControl&quot;: true,\n  &quot;preferCanvas&quot;: false,\n}\n\n                }\n            );\n\n            \n\n        \n    \n            var tile_layer_38ee6c5b584b0d5b09d4eb348aba74e3 = L.tileLayer(\n                &quot;https://tile.openstreetmap.org/{z}/{x}/{y}.png&quot;,\n                {\n  &quot;minZoom&quot;: 0,\n  &quot;maxZoom&quot;: 19,\n  &quot;maxNativeZoom&quot;: 19,\n  &quot;noWrap&quot;: false,\n  &quot;attribution&quot;: &quot;\\u0026copy; \\u003ca href=\\&quot;https://www.openstreetmap.org/copyright\\&quot;\\u003eOpenStreetMap\\u003c/a\\u003e contributors&quot;,\n  &quot;subdomains&quot;: &quot;abc&quot;,\n  &quot;detectRetina&quot;: false,\n  &quot;tms&quot;: false,\n  &quot;opacity&quot;: 1,\n}\n\n            );\n        \n    \n            tile_layer_38ee6c5b584b0d5b09d4eb348aba74e3.addTo(map_64eb06ca95b867be8aeabcbc937d3648);\n        \n    \n            var mouse_position_aa0bec8db7d9f5d04a095f68d9a3982d = new L.Control.MousePosition(\n                {\n  &quot;position&quot;: &quot;topright&quot;,\n  &quot;separator&quot;: &quot; Long: &quot;,\n  &quot;emptyString&quot;: &quot;NaN&quot;,\n  &quot;lngFirst&quot;: false,\n  &quot;numDigits&quot;: 5,\n  &quot;prefix&quot;: &quot;Lat:&quot;,\n}\n            );\n            mouse_position_aa0bec8db7d9f5d04a095f68d9a3982d.options[&quot;latFormatter&quot;] =\n                function(num) {return L.Util.formatNum(num, 5);};;\n            mouse_position_aa0bec8db7d9f5d04a095f68d9a3982d.options[&quot;lngFormatter&quot;] =\n                function(num) {return L.Util.formatNum(num, 5);};;\n            map_64eb06ca95b867be8aeabcbc937d3648.addControl(mouse_position_aa0bec8db7d9f5d04a095f68d9a3982d);\n        \n    \n            var marker_1fcf22a758508dc0dda29c8435d2dadd = L.marker(\n                [28.56367, -80.57163],\n                {\n}\n            ).addTo(map_64eb06ca95b867be8aeabcbc937d3648);\n        \n    \n            var div_icon_e4637a60f586cef79ad650174652d74c = L.divIcon({\n  &quot;html&quot;: &quot;\\u003cdiv style=\\&quot;font-size: 12px; color:#d35400;\\&quot;\\u003e\\u003cb\\u003e0.58 KM\\u003c/b\\u003e\\u003c/div\\u003e&quot;,\n  &quot;iconSize&quot;: [20, 20],\n  &quot;iconAnchor&quot;: [0, 0],\n  &quot;className&quot;: &quot;empty&quot;,\n});\n            marker_1fcf22a758508dc0dda29c8435d2dadd.setIcon(div_icon_e4637a60f586cef79ad650174652d74c);\n        \n    \n            var marker_a48d6fd6624e2595aa6018db5e9ef86b = L.marker(\n                [28.562302, -80.577356],\n                {\n}\n            ).addTo(map_64eb06ca95b867be8aeabcbc937d3648);\n        \n    \n            var icon_1357a71aa6e9b67fdd5c58ebbd06ab35 = L.AwesomeMarkers.icon(\n                {\n  &quot;markerColor&quot;: &quot;blue&quot;,\n  &quot;iconColor&quot;: &quot;white&quot;,\n  &quot;icon&quot;: &quot;rocket&quot;,\n  &quot;prefix&quot;: &quot;glyphicon&quot;,\n  &quot;extraClasses&quot;: &quot;fa-rotate-0&quot;,\n}\n            );\n            marker_a48d6fd6624e2595aa6018db5e9ef86b.setIcon(icon_1357a71aa6e9b67fdd5c58ebbd06ab35);\n        \n    \n        var popup_0ae7ac542d5c40d9d6670df288af363c = L.popup({\n  &quot;maxWidth&quot;: &quot;100%&quot;,\n});\n\n        \n            \n                var html_aad07dfc843ef48ab1ea02470f9f34e1 = $(`&lt;div id=&quot;html_aad07dfc843ef48ab1ea02470f9f34e1&quot; style=&quot;width: 100.0%; height: 100.0%;&quot;&gt;Launch Site&lt;/div&gt;`)[0];\n                popup_0ae7ac542d5c40d9d6670df288af363c.setContent(html_aad07dfc843ef48ab1ea02470f9f34e1);\n            \n        \n\n        marker_a48d6fd6624e2595aa6018db5e9ef86b.bindPopup(popup_0ae7ac542d5c40d9d6670df288af363c)\n        ;\n\n        \n    \n&lt;/script&gt;\n&lt;/html&gt;\" style=\"position:absolute;width:100%;height:100%;left:0;top:0;border:none !important;\" allowfullscreen webkitallowfullscreen mozallowfullscreen></iframe></div></div>"
          },
          "metadata": {}
        }
      ],
      "execution_count": 31
    },
    {
      "cell_type": "markdown",
      "source": "*TODO:* Draw a `PolyLine` between a launch site to the selected coastline point\n",
      "metadata": {}
    },
    {
      "cell_type": "code",
      "source": "# Create a `folium.PolyLine` object using the coastline coordinates and launch site coordinate\n# lines=folium.PolyLine(locations=coordinates, weight=1)\nsite_map.add_child(lines)",
      "metadata": {},
      "outputs": [],
      "execution_count": null
    },
    {
      "cell_type": "markdown",
      "source": "Your updated map with distance line should look like the following screenshot:\n",
      "metadata": {}
    },
    {
      "cell_type": "markdown",
      "source": "<center>\n    <img src=\"https://cf-courses-data.s3.us.cloud-object-storage.appdomain.cloud/IBM-DS0321EN-SkillsNetwork/labs/module_3/images/launch_site_marker_distance.png\">\n</center>\n",
      "metadata": {}
    },
    {
      "cell_type": "markdown",
      "source": "*TODO:* Similarly, you can draw a line betwee a launch site to its closest city, railway, highway, etc. You need to use `MousePosition` to find the their coordinates on the map first\n",
      "metadata": {}
    },
    {
      "cell_type": "markdown",
      "source": "A railway map symbol may look like this:\n",
      "metadata": {}
    },
    {
      "cell_type": "markdown",
      "source": "<center>\n    <img src=\"https://cf-courses-data.s3.us.cloud-object-storage.appdomain.cloud/IBM-DS0321EN-SkillsNetwork/labs/module_3/images/railway.png\">\n</center>\n",
      "metadata": {}
    },
    {
      "cell_type": "markdown",
      "source": "A highway map symbol may look like this:\n",
      "metadata": {}
    },
    {
      "cell_type": "markdown",
      "source": "<center>\n    <img src=\"https://cf-courses-data.s3.us.cloud-object-storage.appdomain.cloud/IBM-DS0321EN-SkillsNetwork/labs/module_3/images/highway.png\">\n</center>\n",
      "metadata": {}
    },
    {
      "cell_type": "markdown",
      "source": "A city map symbol may look like this:\n",
      "metadata": {}
    },
    {
      "cell_type": "markdown",
      "source": "<center>\n    <img src=\"https://cf-courses-data.s3.us.cloud-object-storage.appdomain.cloud/IBM-DS0321EN-SkillsNetwork/labs/module_3/images/city.png\">\n</center>\n",
      "metadata": {}
    },
    {
      "cell_type": "code",
      "source": "# Create a marker with distance to a closest city, railway, highway, etc.\n# Draw a line between the marker to the launch site\n",
      "metadata": {},
      "outputs": [],
      "execution_count": null
    },
    {
      "cell_type": "code",
      "source": "# Import required libraries\nimport folium\nfrom folium import DivIcon\nfrom math import sin, cos, sqrt, atan2, radians\n\n# Define the function to calculate distance using Haversine formula\ndef calculate_distance(lat1, lon1, lat2, lon2):\n    # Approximate radius of Earth in km\n    R = 6373.0\n\n    lat1, lon1, lat2, lon2 = map(radians, [lat1, lon1, lat2, lon2])\n\n    dlon = lon2 - lon1\n    dlat = lat2 - lat1\n\n    a = sin(dlat / 2)**2 + cos(lat1) * cos(lat2) * sin(dlon / 2)**2\n    c = 2 * atan2(sqrt(a), sqrt(1 - a))\n    distance = R * c\n    return distance\n\n# Coordinates for the launch site\nlaunch_site_lat, launch_site_lon = 28.562302, -80.577356  # Example: Launch site coordinates\n\n# Coordinates for closest points of interest\ncity_lat, city_lon = 28.6110, -80.8075  # Example: Closest city\nrailway_lat, railway_lon = 28.5721, -80.5853  # Example: Closest railway\nhighway_lat, highway_lon = 28.5634, -80.5708  # Example: Closest highway\n\n# Calculate distances from the launch site to each point of interest\ndistance_city = calculate_distance(launch_site_lat, launch_site_lon, city_lat, city_lon)\ndistance_railway = calculate_distance(launch_site_lat, launch_site_lon, railway_lat, railway_lon)\ndistance_highway = calculate_distance(launch_site_lat, launch_site_lon, highway_lat, highway_lon)\n\n# Points of interest dictionary for markers and lines\npoints_of_interest = [\n    {\"name\": \"City\", \"lat\": city_lat, \"lon\": city_lon, \"distance\": distance_city, \"color\": \"purple\"},\n    {\"name\": \"Railway\", \"lat\": railway_lat, \"lon\": railway_lon, \"distance\": distance_railway, \"color\": \"green\"},\n    {\"name\": \"Highway\", \"lat\": highway_lat, \"lon\": highway_lon, \"distance\": distance_highway, \"color\": \"orange\"},\n]\n\n# Initialize a Folium map centered at the launch site\nsite_map = folium.Map(location=[launch_site_lat, launch_site_lon], zoom_start=10)\n\n# Add the launch site marker\nfolium.Marker(\n    [launch_site_lat, launch_site_lon],\n    icon=folium.Icon(color=\"blue\", icon=\"rocket\"),\n    popup=\"Launch Site\"\n).add_to(site_map)\n\n# Add markers and lines for each point of interest\nfor poi in points_of_interest:\n    # Add marker for the point of interest\n    folium.Marker(\n        [poi[\"lat\"], poi[\"lon\"]],\n        icon=DivIcon(\n            icon_size=(20, 20),\n            icon_anchor=(0, 0),\n            html=f'<div style=\"font-size: 12px; color:{poi[\"color\"]};\"><b>{poi[\"distance\"]:.2f} KM</b></div>'\n        ),\n        popup=f\"{poi['name']} ({poi['distance']:.2f} KM)\"\n    ).add_to(site_map)\n    \n    # Draw a line between the launch site and the point of interest\n    folium.PolyLine(\n        locations=[[launch_site_lat, launch_site_lon], [poi[\"lat\"], poi[\"lon\"]]],\n        color=poi[\"color\"],\n        weight=2,\n        opacity=0.8\n    ).add_to(site_map)\n\n# Display the map\nsite_map\n",
      "metadata": {
        "trusted": true
      },
      "outputs": [
        {
          "execution_count": 32,
          "output_type": "execute_result",
          "data": {
            "text/plain": "<folium.folium.Map at 0x5cd36c0>",
            "text/html": "<div style=\"width:100%;\"><div style=\"position:relative;width:100%;height:0;padding-bottom:60%;\"><span style=\"color:#565656\">Make this Notebook Trusted to load map: File -> Trust Notebook</span><iframe srcdoc=\"&lt;!DOCTYPE html&gt;\n&lt;html&gt;\n&lt;head&gt;\n    \n    &lt;meta http-equiv=&quot;content-type&quot; content=&quot;text/html; charset=UTF-8&quot; /&gt;\n    \n        &lt;script&gt;\n            L_NO_TOUCH = false;\n            L_DISABLE_3D = false;\n        &lt;/script&gt;\n    \n    &lt;style&gt;html, body {width: 100%;height: 100%;margin: 0;padding: 0;}&lt;/style&gt;\n    &lt;style&gt;#map {position:absolute;top:0;bottom:0;right:0;left:0;}&lt;/style&gt;\n    &lt;script src=&quot;https://cdn.jsdelivr.net/npm/leaflet@1.9.3/dist/leaflet.js&quot;&gt;&lt;/script&gt;\n    &lt;script src=&quot;https://code.jquery.com/jquery-3.7.1.min.js&quot;&gt;&lt;/script&gt;\n    &lt;script src=&quot;https://cdn.jsdelivr.net/npm/bootstrap@5.2.2/dist/js/bootstrap.bundle.min.js&quot;&gt;&lt;/script&gt;\n    &lt;script src=&quot;https://cdnjs.cloudflare.com/ajax/libs/Leaflet.awesome-markers/2.0.2/leaflet.awesome-markers.js&quot;&gt;&lt;/script&gt;\n    &lt;link rel=&quot;stylesheet&quot; href=&quot;https://cdn.jsdelivr.net/npm/leaflet@1.9.3/dist/leaflet.css&quot;/&gt;\n    &lt;link rel=&quot;stylesheet&quot; href=&quot;https://cdn.jsdelivr.net/npm/bootstrap@5.2.2/dist/css/bootstrap.min.css&quot;/&gt;\n    &lt;link rel=&quot;stylesheet&quot; href=&quot;https://netdna.bootstrapcdn.com/bootstrap/3.0.0/css/bootstrap-glyphicons.css&quot;/&gt;\n    &lt;link rel=&quot;stylesheet&quot; href=&quot;https://cdn.jsdelivr.net/npm/@fortawesome/fontawesome-free@6.2.0/css/all.min.css&quot;/&gt;\n    &lt;link rel=&quot;stylesheet&quot; href=&quot;https://cdnjs.cloudflare.com/ajax/libs/Leaflet.awesome-markers/2.0.2/leaflet.awesome-markers.css&quot;/&gt;\n    &lt;link rel=&quot;stylesheet&quot; href=&quot;https://cdn.jsdelivr.net/gh/python-visualization/folium/folium/templates/leaflet.awesome.rotate.min.css&quot;/&gt;\n    \n            &lt;meta name=&quot;viewport&quot; content=&quot;width=device-width,\n                initial-scale=1.0, maximum-scale=1.0, user-scalable=no&quot; /&gt;\n            &lt;style&gt;\n                #map_f8961839acd30ed3992539069ed2b99f {\n                    position: relative;\n                    width: 100.0%;\n                    height: 100.0%;\n                    left: 0.0%;\n                    top: 0.0%;\n                }\n                .leaflet-container { font-size: 1rem; }\n            &lt;/style&gt;\n        \n&lt;/head&gt;\n&lt;body&gt;\n    \n    \n            &lt;div class=&quot;folium-map&quot; id=&quot;map_f8961839acd30ed3992539069ed2b99f&quot; &gt;&lt;/div&gt;\n        \n&lt;/body&gt;\n&lt;script&gt;\n    \n    \n            var map_f8961839acd30ed3992539069ed2b99f = L.map(\n                &quot;map_f8961839acd30ed3992539069ed2b99f&quot;,\n                {\n                    center: [28.562302, -80.577356],\n                    crs: L.CRS.EPSG3857,\n                    ...{\n  &quot;zoom&quot;: 10,\n  &quot;zoomControl&quot;: true,\n  &quot;preferCanvas&quot;: false,\n}\n\n                }\n            );\n\n            \n\n        \n    \n            var tile_layer_5f751ad23fe69032f6374d1e7b2d8af3 = L.tileLayer(\n                &quot;https://tile.openstreetmap.org/{z}/{x}/{y}.png&quot;,\n                {\n  &quot;minZoom&quot;: 0,\n  &quot;maxZoom&quot;: 19,\n  &quot;maxNativeZoom&quot;: 19,\n  &quot;noWrap&quot;: false,\n  &quot;attribution&quot;: &quot;\\u0026copy; \\u003ca href=\\&quot;https://www.openstreetmap.org/copyright\\&quot;\\u003eOpenStreetMap\\u003c/a\\u003e contributors&quot;,\n  &quot;subdomains&quot;: &quot;abc&quot;,\n  &quot;detectRetina&quot;: false,\n  &quot;tms&quot;: false,\n  &quot;opacity&quot;: 1,\n}\n\n            );\n        \n    \n            tile_layer_5f751ad23fe69032f6374d1e7b2d8af3.addTo(map_f8961839acd30ed3992539069ed2b99f);\n        \n    \n            var marker_f59394e87a81f365a849c3dddea79f10 = L.marker(\n                [28.562302, -80.577356],\n                {\n}\n            ).addTo(map_f8961839acd30ed3992539069ed2b99f);\n        \n    \n            var icon_59bf24c4842f9b15cce6cdd77a063579 = L.AwesomeMarkers.icon(\n                {\n  &quot;markerColor&quot;: &quot;blue&quot;,\n  &quot;iconColor&quot;: &quot;white&quot;,\n  &quot;icon&quot;: &quot;rocket&quot;,\n  &quot;prefix&quot;: &quot;glyphicon&quot;,\n  &quot;extraClasses&quot;: &quot;fa-rotate-0&quot;,\n}\n            );\n            marker_f59394e87a81f365a849c3dddea79f10.setIcon(icon_59bf24c4842f9b15cce6cdd77a063579);\n        \n    \n        var popup_874159ddb5fc24eb1f3c04b08f8bfa68 = L.popup({\n  &quot;maxWidth&quot;: &quot;100%&quot;,\n});\n\n        \n            \n                var html_e9542fd83b7d98ef05a0e305053e1bef = $(`&lt;div id=&quot;html_e9542fd83b7d98ef05a0e305053e1bef&quot; style=&quot;width: 100.0%; height: 100.0%;&quot;&gt;Launch Site&lt;/div&gt;`)[0];\n                popup_874159ddb5fc24eb1f3c04b08f8bfa68.setContent(html_e9542fd83b7d98ef05a0e305053e1bef);\n            \n        \n\n        marker_f59394e87a81f365a849c3dddea79f10.bindPopup(popup_874159ddb5fc24eb1f3c04b08f8bfa68)\n        ;\n\n        \n    \n    \n            var marker_5244e9b78ddcee0bb1fe4d4347b1ce3a = L.marker(\n                [28.611, -80.8075],\n                {\n}\n            ).addTo(map_f8961839acd30ed3992539069ed2b99f);\n        \n    \n            var div_icon_6f62ed9bb11c9cedca46bee8b56b05f5 = L.divIcon({\n  &quot;html&quot;: &quot;\\u003cdiv style=\\&quot;font-size: 12px; color:purple;\\&quot;\\u003e\\u003cb\\u003e23.12 KM\\u003c/b\\u003e\\u003c/div\\u003e&quot;,\n  &quot;iconSize&quot;: [20, 20],\n  &quot;iconAnchor&quot;: [0, 0],\n  &quot;className&quot;: &quot;empty&quot;,\n});\n            marker_5244e9b78ddcee0bb1fe4d4347b1ce3a.setIcon(div_icon_6f62ed9bb11c9cedca46bee8b56b05f5);\n        \n    \n        var popup_1010ad130a79a8b05792d270ff19c86e = L.popup({\n  &quot;maxWidth&quot;: &quot;100%&quot;,\n});\n\n        \n            \n                var html_2011491b98f76d0d847c55900d2cfe64 = $(`&lt;div id=&quot;html_2011491b98f76d0d847c55900d2cfe64&quot; style=&quot;width: 100.0%; height: 100.0%;&quot;&gt;City (23.12 KM)&lt;/div&gt;`)[0];\n                popup_1010ad130a79a8b05792d270ff19c86e.setContent(html_2011491b98f76d0d847c55900d2cfe64);\n            \n        \n\n        marker_5244e9b78ddcee0bb1fe4d4347b1ce3a.bindPopup(popup_1010ad130a79a8b05792d270ff19c86e)\n        ;\n\n        \n    \n    \n            var poly_line_4434fee32214942a7f763d4aea2a363f = L.polyline(\n                [[28.562302, -80.577356], [28.611, -80.8075]],\n                {&quot;bubblingMouseEvents&quot;: true, &quot;color&quot;: &quot;purple&quot;, &quot;dashArray&quot;: null, &quot;dashOffset&quot;: null, &quot;fill&quot;: false, &quot;fillColor&quot;: &quot;purple&quot;, &quot;fillOpacity&quot;: 0.2, &quot;fillRule&quot;: &quot;evenodd&quot;, &quot;lineCap&quot;: &quot;round&quot;, &quot;lineJoin&quot;: &quot;round&quot;, &quot;noClip&quot;: false, &quot;opacity&quot;: 0.8, &quot;smoothFactor&quot;: 1.0, &quot;stroke&quot;: true, &quot;weight&quot;: 2}\n            ).addTo(map_f8961839acd30ed3992539069ed2b99f);\n        \n    \n            var marker_e71952cb38e4f9e4b74efb243849c828 = L.marker(\n                [28.5721, -80.5853],\n                {\n}\n            ).addTo(map_f8961839acd30ed3992539069ed2b99f);\n        \n    \n            var div_icon_46acc6a77c58cbd53cec5793a0244dce = L.divIcon({\n  &quot;html&quot;: &quot;\\u003cdiv style=\\&quot;font-size: 12px; color:green;\\&quot;\\u003e\\u003cb\\u003e1.34 KM\\u003c/b\\u003e\\u003c/div\\u003e&quot;,\n  &quot;iconSize&quot;: [20, 20],\n  &quot;iconAnchor&quot;: [0, 0],\n  &quot;className&quot;: &quot;empty&quot;,\n});\n            marker_e71952cb38e4f9e4b74efb243849c828.setIcon(div_icon_46acc6a77c58cbd53cec5793a0244dce);\n        \n    \n        var popup_db0d05f740c57ec94cb3263a1405ac23 = L.popup({\n  &quot;maxWidth&quot;: &quot;100%&quot;,\n});\n\n        \n            \n                var html_6d05de387684f2327fca68c677eca759 = $(`&lt;div id=&quot;html_6d05de387684f2327fca68c677eca759&quot; style=&quot;width: 100.0%; height: 100.0%;&quot;&gt;Railway (1.34 KM)&lt;/div&gt;`)[0];\n                popup_db0d05f740c57ec94cb3263a1405ac23.setContent(html_6d05de387684f2327fca68c677eca759);\n            \n        \n\n        marker_e71952cb38e4f9e4b74efb243849c828.bindPopup(popup_db0d05f740c57ec94cb3263a1405ac23)\n        ;\n\n        \n    \n    \n            var poly_line_421b71a517827dbf22dcac0be71cc4bd = L.polyline(\n                [[28.562302, -80.577356], [28.5721, -80.5853]],\n                {&quot;bubblingMouseEvents&quot;: true, &quot;color&quot;: &quot;green&quot;, &quot;dashArray&quot;: null, &quot;dashOffset&quot;: null, &quot;fill&quot;: false, &quot;fillColor&quot;: &quot;green&quot;, &quot;fillOpacity&quot;: 0.2, &quot;fillRule&quot;: &quot;evenodd&quot;, &quot;lineCap&quot;: &quot;round&quot;, &quot;lineJoin&quot;: &quot;round&quot;, &quot;noClip&quot;: false, &quot;opacity&quot;: 0.8, &quot;smoothFactor&quot;: 1.0, &quot;stroke&quot;: true, &quot;weight&quot;: 2}\n            ).addTo(map_f8961839acd30ed3992539069ed2b99f);\n        \n    \n            var marker_214528ed2e33c92dccba968dde74da1d = L.marker(\n                [28.5634, -80.5708],\n                {\n}\n            ).addTo(map_f8961839acd30ed3992539069ed2b99f);\n        \n    \n            var div_icon_c7349e814db13b178a67a301104c776a = L.divIcon({\n  &quot;html&quot;: &quot;\\u003cdiv style=\\&quot;font-size: 12px; color:orange;\\&quot;\\u003e\\u003cb\\u003e0.65 KM\\u003c/b\\u003e\\u003c/div\\u003e&quot;,\n  &quot;iconSize&quot;: [20, 20],\n  &quot;iconAnchor&quot;: [0, 0],\n  &quot;className&quot;: &quot;empty&quot;,\n});\n            marker_214528ed2e33c92dccba968dde74da1d.setIcon(div_icon_c7349e814db13b178a67a301104c776a);\n        \n    \n        var popup_13b51346d05aa738427bc1d29cd14b07 = L.popup({\n  &quot;maxWidth&quot;: &quot;100%&quot;,\n});\n\n        \n            \n                var html_3c6528fbffc9a6d1d23a30af95d4805b = $(`&lt;div id=&quot;html_3c6528fbffc9a6d1d23a30af95d4805b&quot; style=&quot;width: 100.0%; height: 100.0%;&quot;&gt;Highway (0.65 KM)&lt;/div&gt;`)[0];\n                popup_13b51346d05aa738427bc1d29cd14b07.setContent(html_3c6528fbffc9a6d1d23a30af95d4805b);\n            \n        \n\n        marker_214528ed2e33c92dccba968dde74da1d.bindPopup(popup_13b51346d05aa738427bc1d29cd14b07)\n        ;\n\n        \n    \n    \n            var poly_line_0756a1250eb089c3c9d7441ea657b591 = L.polyline(\n                [[28.562302, -80.577356], [28.5634, -80.5708]],\n                {&quot;bubblingMouseEvents&quot;: true, &quot;color&quot;: &quot;orange&quot;, &quot;dashArray&quot;: null, &quot;dashOffset&quot;: null, &quot;fill&quot;: false, &quot;fillColor&quot;: &quot;orange&quot;, &quot;fillOpacity&quot;: 0.2, &quot;fillRule&quot;: &quot;evenodd&quot;, &quot;lineCap&quot;: &quot;round&quot;, &quot;lineJoin&quot;: &quot;round&quot;, &quot;noClip&quot;: false, &quot;opacity&quot;: 0.8, &quot;smoothFactor&quot;: 1.0, &quot;stroke&quot;: true, &quot;weight&quot;: 2}\n            ).addTo(map_f8961839acd30ed3992539069ed2b99f);\n        \n&lt;/script&gt;\n&lt;/html&gt;\" style=\"position:absolute;width:100%;height:100%;left:0;top:0;border:none !important;\" allowfullscreen webkitallowfullscreen mozallowfullscreen></iframe></div></div>"
          },
          "metadata": {}
        }
      ],
      "execution_count": 32
    },
    {
      "cell_type": "code",
      "source": "",
      "metadata": {},
      "outputs": [],
      "execution_count": null
    },
    {
      "cell_type": "markdown",
      "source": "After you plot distance lines to the proximities, you can answer the following questions easily:\n\n*   Are launch sites in close proximity to railways?\n*   Are launch sites in close proximity to highways?\n*   Are launch sites in close proximity to coastline?\n*   Do launch sites keep certain distance away from cities?\n\nAlso please try to explain your findings.\n",
      "metadata": {}
    },
    {
      "cell_type": "markdown",
      "source": "# Next Steps:\n\nNow you have discovered many interesting insights related to the launch sites' location using folium, in a very interactive way. Next, you will need to build a dashboard using Ploty Dash on detailed launch records.\n",
      "metadata": {}
    },
    {
      "cell_type": "markdown",
      "source": "## Authors\n",
      "metadata": {}
    },
    {
      "cell_type": "markdown",
      "source": "[Pratiksha Verma](https://www.linkedin.com/in/pratiksha-verma-6487561b1/)\n",
      "metadata": {}
    },
    {
      "cell_type": "markdown",
      "source": "<!--## Change Log--!>\n",
      "metadata": {}
    },
    {
      "cell_type": "markdown",
      "source": "<!--| Date (YYYY-MM-DD) | Version | Changed By      | Change Description      |\n| ----------------- | ------- | -------------   | ----------------------- |\n| 2022-11-09        | 1.0     | Pratiksha Verma | Converted initial version to Jupyterlite|--!>\n",
      "metadata": {}
    },
    {
      "cell_type": "markdown",
      "source": "### <h3 align=\"center\"> IBM Corporation 2022. All rights reserved. <h3/>\n",
      "metadata": {}
    }
  ]
}